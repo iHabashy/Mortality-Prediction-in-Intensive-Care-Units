{
  "cells": [
    {
      "cell_type": "markdown",
      "metadata": {
        "id": "2_5C4zdbWl8u"
      },
      "source": [
        "# About the data"
      ]
    },
    {
      "cell_type": "markdown",
      "metadata": {
        "id": "H-AgukHNT5l3"
      },
      "source": [
        "About Dataset :\n",
        "“How many beds should an ICU provide to serve the population?” \n",
        "“Which is the most critical body information to monitor in an ICU?”\n",
        "The data consist of records from 12,000 ICU stays. All patients were adults who were admitted for a wide variety of reasons to cardiac, medical, surgical, and trauma ICUs. ICU stays of less than 48 hours have been excluded.\n"
      ]
    },
    {
      "cell_type": "markdown",
      "metadata": {
        "id": "tb41uZ4LXO6n"
      },
      "source": [
        "# General Descriptors"
      ]
    },
    {
      "cell_type": "markdown",
      "metadata": {
        "id": "VaimxikNXTff"
      },
      "source": [
        "These six descriptors are collected at the time the patient is admitted to the ICU. Their associated time-stamps are set to 00:00 (thus they appear at the beginning of each patient's record).\n",
        "\n",
        "      RecordID (a unique integer for each ICU stay)\n",
        "      Age (years)\n",
        "      Gender (0: female, or 1: male)\n",
        "      Height (cm)\n",
        "      ICUType (1: Coronary Care Unit, 2: Cardiac Surgery Recovery Unit,\n",
        "               3: Medical ICU, or 4: Surgical ICU)\n",
        "      Weight (kg)*."
      ]
    },
    {
      "cell_type": "markdown",
      "metadata": {
        "id": "zlgfjHEpVe-w"
      },
      "source": [
        "Acute Physiology and Chronic  Health  Evaluation  (APACHE)  \n",
        "\n",
        "Simplified  Acute  Physiology  Score              (SAPS) \n",
        "\n",
        "Sequential  Organ  Failure  Assessment            (SOFA) "
      ]
    },
    {
      "cell_type": "markdown",
      "metadata": {
        "id": "I0RSnXCrXjk-"
      },
      "source": [
        "Time Series\n",
        "These 37 variables may be observed once, more than once, or not at all in some cases:\n",
        "\n",
        "\n",
        "    1.      Albumin (g/dL)\n",
        "    2.      ALP [Alkaline phosphatase (IU/L)]\n",
        "    3.      ALT [Alanine transaminase (IU/L)]\n",
        "    4.      AST [Aspartate transaminase (IU/L)]\n",
        "    5.      Bilirubin (mg/dL)\n",
        "    6.      BUN [Blood urea nitrogen (mg/dL)]\n",
        "    7.      Cholesterol (mg/dL)\n",
        "    8.      Creatinine [Serum creatinine (mg/dL)]\n",
        "    9.      DiasABP [Invasive diastolic arterial blood pressure (mmHg)]\n",
        "    10.     FiO2 [Fractional inspired O2 (0-1)]\n",
        "    11.     GCS [Glasgow Coma Score (3-15)]\n",
        "    12.     Glucose [Serum glucose (mg/dL)]\n",
        "    13.     HCO3 [Serum bicarbonate (mmol/L)]\n",
        "    14.     HCT [Hematocrit (%)]\n",
        "    15.     HR [Heart rate (bpm)]\n",
        "    16.     K [Serum potassium (mEq/L)]\n",
        "    17.     Lactate (mmol/L)\n",
        "    18.     Mg [Serum magnesium (mmol/L)]\n",
        "    19.     MAP [Invasive mean arterial blood pressure (mmHg)]\n",
        "    20.     MechVent [Mechanical ventilation respiration (0:false, or 1:true)]\n",
        "    21.     Na [Serum sodium (mEq/L)]\n",
        "    22.     NIDiasABP [Non-invasive diastolic arterial blood pressure (mmHg)]\n",
        "    23.     NIMAP [Non-invasive mean arterial blood pressure (mmHg)]\n",
        "    24.     NISysABP [Non-invasive systolic arterial blood pressure (mmHg)]\n",
        "    25.     PaCO2 [partial pressure of arterial CO2 (mmHg)]\n",
        "    26.     PaO2 [Partial pressure of arterial O2 (mmHg)]\n",
        "    27.     pH [Arterial pH (0-14)]\n",
        "    28.     Platelets (cells/nL)\n",
        "    29.     RespRate [Respiration rate (bpm)]\n",
        "    30.     SaO2 [O2 saturation in hemoglobin (%)]\n",
        "    31.     SysABP [Invasive systolic arterial blood pressure (mmHg)]\n",
        "    32.     Temp [Temperature (°C)]\n",
        "    33.     TropI [Troponin-I (μg/L)]\n",
        "    34.     TropT [Troponin-T (μg/L)]\n",
        "    35.     Urine [Urine output (mL)]\n",
        "    36.     WBC [White blood cell count (cells/nL)]\n",
        "    37.     Weight (kg)*\n",
        "\n",
        "\n",
        "\n"
      ]
    },
    {
      "cell_type": "markdown",
      "metadata": {
        "id": "D7df2nu8WeWX"
      },
      "source": [
        "# ICU admission characteristics and mortality rates"
      ]
    },
    {
      "cell_type": "code",
      "execution_count": 1,
      "metadata": {
        "id": "nqCa-1EpxrbA"
      },
      "outputs": [],
      "source": [
        "import pandas as pd\n",
        "import seaborn as sns\n",
        "from matplotlib import pyplot as plt\n",
        "import numpy as np\n",
        "from sklearn.linear_model import LogisticRegression\n",
        "from sklearn.svm import SVC\n",
        "import os\n"
      ]
    },
    {
      "cell_type": "code",
      "execution_count": 2,
      "metadata": {
        "colab": {
          "base_uri": "https://localhost:8080/"
        },
        "id": "-jqt1qoXyHWU",
        "outputId": "e92fd685-c9a8-4d45-e7b9-9f02f39f554d"
      },
      "outputs": [
        {
          "output_type": "stream",
          "name": "stdout",
          "text": [
            "Mounted at /content/gdrive\n"
          ]
        }
      ],
      "source": [
        "from google.colab import drive\n",
        "drive.mount('/content/gdrive', force_remount=True)\n",
        "\n",
        "root_dir = \"/content/gdrive/My Drive/Colab Notebooks/ICU Project/\"\n",
        "directory = root_dir + 'assets/'"
      ]
    },
    {
      "cell_type": "code",
      "execution_count": 3,
      "metadata": {
        "id": "Awo_6JBeySA_"
      },
      "outputs": [],
      "source": [
        "info_df = pd.read_csv(directory + 'info.csv')\n",
        "readings_df = pd.read_csv(directory + 'readings.csv')\n",
        "outcomes_df = pd.read_csv(directory + 'outcomes.csv')\n"
      ]
    },
    {
      "cell_type": "code",
      "source": [
        "readings_df.columns"
      ],
      "metadata": {
        "id": "xtFerf1fa5-K",
        "colab": {
          "base_uri": "https://localhost:8080/"
        },
        "outputId": "497ffe2c-91db-4ef3-91fa-da5716369c7a"
      },
      "execution_count": 4,
      "outputs": [
        {
          "output_type": "execute_result",
          "data": {
            "text/plain": [
              "Index(['RecordID', 'Time', 'Parameter', 'Value'], dtype='object')"
            ]
          },
          "metadata": {},
          "execution_count": 4
        }
      ]
    },
    {
      "cell_type": "code",
      "execution_count": 5,
      "metadata": {
        "id": "HAJkTIs07566",
        "colab": {
          "base_uri": "https://localhost:8080/"
        },
        "outputId": "1675cd27-042b-43b5-ff8c-b55df2083cb3"
      },
      "outputs": [
        {
          "output_type": "stream",
          "name": "stdout",
          "text": [
            "<class 'pandas.core.frame.DataFrame'>\n",
            "RangeIndex: 4000 entries, 0 to 3999\n",
            "Data columns (total 6 columns):\n",
            " #   Column             Non-Null Count  Dtype\n",
            "---  ------             --------------  -----\n",
            " 0   RecordID           4000 non-null   int64\n",
            " 1   SAPS-I             4000 non-null   int64\n",
            " 2   SOFA               4000 non-null   int64\n",
            " 3   Length_of_stay     4000 non-null   int64\n",
            " 4   Survival           4000 non-null   int64\n",
            " 5   In-hospital_death  4000 non-null   int64\n",
            "dtypes: int64(6)\n",
            "memory usage: 187.6 KB\n"
          ]
        }
      ],
      "source": [
        "outcomes_df.info()"
      ]
    },
    {
      "cell_type": "code",
      "execution_count": 6,
      "metadata": {
        "id": "eYs4FfPC9mgo",
        "colab": {
          "base_uri": "https://localhost:8080/"
        },
        "outputId": "75901cab-a0b0-4de4-ed52-39fbdb127b75"
      },
      "outputs": [
        {
          "output_type": "execute_result",
          "data": {
            "text/plain": [
              "HR             228538\n",
              "MAP            145760\n",
              "SysABP         145650\n",
              "DiasABP        145567\n",
              "Urine          136918\n",
              "Weight         129165\n",
              "NISysABP        98331\n",
              "NIDiasABP       98210\n",
              "NIMAP           96871\n",
              "Temp            86405\n",
              "GCS             61563\n",
              "RespRate        55051\n",
              "FiO2            32390\n",
              "MechVent        31144\n",
              "pH              24355\n",
              "PaCO2           23293\n",
              "PaO2            23268\n",
              "HCT             18271\n",
              "K               14440\n",
              "Platelets       14104\n",
              "Creatinine      13983\n",
              "BUN             13916\n",
              "HCO3            13613\n",
              "Mg              13590\n",
              "Na              13570\n",
              "Glucose         13021\n",
              "WBC             12910\n",
              "SaO2             8185\n",
              "Lactate          8024\n",
              "Bilirubin        3191\n",
              "AST              3182\n",
              "ALT              3177\n",
              "ALP              3092\n",
              "Albumin          2356\n",
              "TroponinT        2126\n",
              "TroponinI         435\n",
              "Cholesterol       315\n",
              "Name: Parameter, dtype: int64"
            ]
          },
          "metadata": {},
          "execution_count": 6
        }
      ],
      "source": [
        "readings_df[\"Parameter\"].value_counts()"
      ]
    },
    {
      "cell_type": "code",
      "execution_count": 7,
      "metadata": {
        "id": "jiQK2tLk7ZBi"
      },
      "outputs": [],
      "source": [
        "#readings_df.groupby(\"RecordID\")[['HR']].mean()"
      ]
    },
    {
      "cell_type": "markdown",
      "metadata": {
        "id": "qK1h8hsYVT9_"
      },
      "source": [
        "# Exploring the dataSet"
      ]
    },
    {
      "cell_type": "code",
      "execution_count": 8,
      "metadata": {
        "id": "fFHgbh4byfJb",
        "colab": {
          "base_uri": "https://localhost:8080/",
          "height": 0
        },
        "outputId": "dad41f5a-07aa-43b8-e4bb-36b698472b19"
      },
      "outputs": [
        {
          "output_type": "execute_result",
          "data": {
            "text/plain": [
              "   RecordID  SAPS-I  SOFA  Length_of_stay  Survival  In-hospital_death\n",
              "0    132539       6     1               5        -1                  0\n",
              "1    132540      16     8               8        -1                  0\n",
              "2    132541      21    11              19        -1                  0\n",
              "3    132543       7     1               9       575                  0\n",
              "4    132545      17     2               4       918                  0"
            ],
            "text/html": [
              "\n",
              "  <div id=\"df-514f99f5-7560-4b76-b248-c27bb7ab676c\">\n",
              "    <div class=\"colab-df-container\">\n",
              "      <div>\n",
              "<style scoped>\n",
              "    .dataframe tbody tr th:only-of-type {\n",
              "        vertical-align: middle;\n",
              "    }\n",
              "\n",
              "    .dataframe tbody tr th {\n",
              "        vertical-align: top;\n",
              "    }\n",
              "\n",
              "    .dataframe thead th {\n",
              "        text-align: right;\n",
              "    }\n",
              "</style>\n",
              "<table border=\"1\" class=\"dataframe\">\n",
              "  <thead>\n",
              "    <tr style=\"text-align: right;\">\n",
              "      <th></th>\n",
              "      <th>RecordID</th>\n",
              "      <th>SAPS-I</th>\n",
              "      <th>SOFA</th>\n",
              "      <th>Length_of_stay</th>\n",
              "      <th>Survival</th>\n",
              "      <th>In-hospital_death</th>\n",
              "    </tr>\n",
              "  </thead>\n",
              "  <tbody>\n",
              "    <tr>\n",
              "      <th>0</th>\n",
              "      <td>132539</td>\n",
              "      <td>6</td>\n",
              "      <td>1</td>\n",
              "      <td>5</td>\n",
              "      <td>-1</td>\n",
              "      <td>0</td>\n",
              "    </tr>\n",
              "    <tr>\n",
              "      <th>1</th>\n",
              "      <td>132540</td>\n",
              "      <td>16</td>\n",
              "      <td>8</td>\n",
              "      <td>8</td>\n",
              "      <td>-1</td>\n",
              "      <td>0</td>\n",
              "    </tr>\n",
              "    <tr>\n",
              "      <th>2</th>\n",
              "      <td>132541</td>\n",
              "      <td>21</td>\n",
              "      <td>11</td>\n",
              "      <td>19</td>\n",
              "      <td>-1</td>\n",
              "      <td>0</td>\n",
              "    </tr>\n",
              "    <tr>\n",
              "      <th>3</th>\n",
              "      <td>132543</td>\n",
              "      <td>7</td>\n",
              "      <td>1</td>\n",
              "      <td>9</td>\n",
              "      <td>575</td>\n",
              "      <td>0</td>\n",
              "    </tr>\n",
              "    <tr>\n",
              "      <th>4</th>\n",
              "      <td>132545</td>\n",
              "      <td>17</td>\n",
              "      <td>2</td>\n",
              "      <td>4</td>\n",
              "      <td>918</td>\n",
              "      <td>0</td>\n",
              "    </tr>\n",
              "  </tbody>\n",
              "</table>\n",
              "</div>\n",
              "      <button class=\"colab-df-convert\" onclick=\"convertToInteractive('df-514f99f5-7560-4b76-b248-c27bb7ab676c')\"\n",
              "              title=\"Convert this dataframe to an interactive table.\"\n",
              "              style=\"display:none;\">\n",
              "        \n",
              "  <svg xmlns=\"http://www.w3.org/2000/svg\" height=\"24px\"viewBox=\"0 0 24 24\"\n",
              "       width=\"24px\">\n",
              "    <path d=\"M0 0h24v24H0V0z\" fill=\"none\"/>\n",
              "    <path d=\"M18.56 5.44l.94 2.06.94-2.06 2.06-.94-2.06-.94-.94-2.06-.94 2.06-2.06.94zm-11 1L8.5 8.5l.94-2.06 2.06-.94-2.06-.94L8.5 2.5l-.94 2.06-2.06.94zm10 10l.94 2.06.94-2.06 2.06-.94-2.06-.94-.94-2.06-.94 2.06-2.06.94z\"/><path d=\"M17.41 7.96l-1.37-1.37c-.4-.4-.92-.59-1.43-.59-.52 0-1.04.2-1.43.59L10.3 9.45l-7.72 7.72c-.78.78-.78 2.05 0 2.83L4 21.41c.39.39.9.59 1.41.59.51 0 1.02-.2 1.41-.59l7.78-7.78 2.81-2.81c.8-.78.8-2.07 0-2.86zM5.41 20L4 18.59l7.72-7.72 1.47 1.35L5.41 20z\"/>\n",
              "  </svg>\n",
              "      </button>\n",
              "      \n",
              "  <style>\n",
              "    .colab-df-container {\n",
              "      display:flex;\n",
              "      flex-wrap:wrap;\n",
              "      gap: 12px;\n",
              "    }\n",
              "\n",
              "    .colab-df-convert {\n",
              "      background-color: #E8F0FE;\n",
              "      border: none;\n",
              "      border-radius: 50%;\n",
              "      cursor: pointer;\n",
              "      display: none;\n",
              "      fill: #1967D2;\n",
              "      height: 32px;\n",
              "      padding: 0 0 0 0;\n",
              "      width: 32px;\n",
              "    }\n",
              "\n",
              "    .colab-df-convert:hover {\n",
              "      background-color: #E2EBFA;\n",
              "      box-shadow: 0px 1px 2px rgba(60, 64, 67, 0.3), 0px 1px 3px 1px rgba(60, 64, 67, 0.15);\n",
              "      fill: #174EA6;\n",
              "    }\n",
              "\n",
              "    [theme=dark] .colab-df-convert {\n",
              "      background-color: #3B4455;\n",
              "      fill: #D2E3FC;\n",
              "    }\n",
              "\n",
              "    [theme=dark] .colab-df-convert:hover {\n",
              "      background-color: #434B5C;\n",
              "      box-shadow: 0px 1px 3px 1px rgba(0, 0, 0, 0.15);\n",
              "      filter: drop-shadow(0px 1px 2px rgba(0, 0, 0, 0.3));\n",
              "      fill: #FFFFFF;\n",
              "    }\n",
              "  </style>\n",
              "\n",
              "      <script>\n",
              "        const buttonEl =\n",
              "          document.querySelector('#df-514f99f5-7560-4b76-b248-c27bb7ab676c button.colab-df-convert');\n",
              "        buttonEl.style.display =\n",
              "          google.colab.kernel.accessAllowed ? 'block' : 'none';\n",
              "\n",
              "        async function convertToInteractive(key) {\n",
              "          const element = document.querySelector('#df-514f99f5-7560-4b76-b248-c27bb7ab676c');\n",
              "          const dataTable =\n",
              "            await google.colab.kernel.invokeFunction('convertToInteractive',\n",
              "                                                     [key], {});\n",
              "          if (!dataTable) return;\n",
              "\n",
              "          const docLinkHtml = 'Like what you see? Visit the ' +\n",
              "            '<a target=\"_blank\" href=https://colab.research.google.com/notebooks/data_table.ipynb>data table notebook</a>'\n",
              "            + ' to learn more about interactive tables.';\n",
              "          element.innerHTML = '';\n",
              "          dataTable['output_type'] = 'display_data';\n",
              "          await google.colab.output.renderOutput(dataTable, element);\n",
              "          const docLink = document.createElement('div');\n",
              "          docLink.innerHTML = docLinkHtml;\n",
              "          element.appendChild(docLink);\n",
              "        }\n",
              "      </script>\n",
              "    </div>\n",
              "  </div>\n",
              "  "
            ]
          },
          "metadata": {},
          "execution_count": 8
        }
      ],
      "source": [
        "outcomes_df.head()"
      ]
    },
    {
      "cell_type": "code",
      "execution_count": 9,
      "metadata": {
        "id": "TC1PioDhGoxa",
        "colab": {
          "base_uri": "https://localhost:8080/"
        },
        "outputId": "9d239ef9-fbd5-46d3-8c97-c4586e1c456e"
      },
      "outputs": [
        {
          "output_type": "execute_result",
          "data": {
            "text/plain": [
              "(4000, 6)"
            ]
          },
          "metadata": {},
          "execution_count": 9
        }
      ],
      "source": [
        "outcomes_df.shape\n"
      ]
    },
    {
      "cell_type": "code",
      "execution_count": 10,
      "metadata": {
        "id": "MmNSwPArNkvG",
        "colab": {
          "base_uri": "https://localhost:8080/",
          "height": 0
        },
        "outputId": "3a71bce2-927a-4cda-a372-58a534bf9a7c"
      },
      "outputs": [
        {
          "output_type": "execute_result",
          "data": {
            "text/plain": [
              "   RecordID   Age  Gender  Height  ICUType  Weight\n",
              "0  140271.0  81.0     0.0   162.6      2.0    74.5\n",
              "1  140204.0  77.0     1.0   170.2      4.0   104.0\n",
              "2  140389.0  42.0     0.0    -1.0      3.0    92.0\n",
              "3  139975.0  38.0     0.0    -1.0      3.0    73.0\n",
              "4  140220.0  50.0     0.0   165.1      2.0    50.2"
            ],
            "text/html": [
              "\n",
              "  <div id=\"df-ff7b789d-f5f3-41ff-ae39-051e69464491\">\n",
              "    <div class=\"colab-df-container\">\n",
              "      <div>\n",
              "<style scoped>\n",
              "    .dataframe tbody tr th:only-of-type {\n",
              "        vertical-align: middle;\n",
              "    }\n",
              "\n",
              "    .dataframe tbody tr th {\n",
              "        vertical-align: top;\n",
              "    }\n",
              "\n",
              "    .dataframe thead th {\n",
              "        text-align: right;\n",
              "    }\n",
              "</style>\n",
              "<table border=\"1\" class=\"dataframe\">\n",
              "  <thead>\n",
              "    <tr style=\"text-align: right;\">\n",
              "      <th></th>\n",
              "      <th>RecordID</th>\n",
              "      <th>Age</th>\n",
              "      <th>Gender</th>\n",
              "      <th>Height</th>\n",
              "      <th>ICUType</th>\n",
              "      <th>Weight</th>\n",
              "    </tr>\n",
              "  </thead>\n",
              "  <tbody>\n",
              "    <tr>\n",
              "      <th>0</th>\n",
              "      <td>140271.0</td>\n",
              "      <td>81.0</td>\n",
              "      <td>0.0</td>\n",
              "      <td>162.6</td>\n",
              "      <td>2.0</td>\n",
              "      <td>74.5</td>\n",
              "    </tr>\n",
              "    <tr>\n",
              "      <th>1</th>\n",
              "      <td>140204.0</td>\n",
              "      <td>77.0</td>\n",
              "      <td>1.0</td>\n",
              "      <td>170.2</td>\n",
              "      <td>4.0</td>\n",
              "      <td>104.0</td>\n",
              "    </tr>\n",
              "    <tr>\n",
              "      <th>2</th>\n",
              "      <td>140389.0</td>\n",
              "      <td>42.0</td>\n",
              "      <td>0.0</td>\n",
              "      <td>-1.0</td>\n",
              "      <td>3.0</td>\n",
              "      <td>92.0</td>\n",
              "    </tr>\n",
              "    <tr>\n",
              "      <th>3</th>\n",
              "      <td>139975.0</td>\n",
              "      <td>38.0</td>\n",
              "      <td>0.0</td>\n",
              "      <td>-1.0</td>\n",
              "      <td>3.0</td>\n",
              "      <td>73.0</td>\n",
              "    </tr>\n",
              "    <tr>\n",
              "      <th>4</th>\n",
              "      <td>140220.0</td>\n",
              "      <td>50.0</td>\n",
              "      <td>0.0</td>\n",
              "      <td>165.1</td>\n",
              "      <td>2.0</td>\n",
              "      <td>50.2</td>\n",
              "    </tr>\n",
              "  </tbody>\n",
              "</table>\n",
              "</div>\n",
              "      <button class=\"colab-df-convert\" onclick=\"convertToInteractive('df-ff7b789d-f5f3-41ff-ae39-051e69464491')\"\n",
              "              title=\"Convert this dataframe to an interactive table.\"\n",
              "              style=\"display:none;\">\n",
              "        \n",
              "  <svg xmlns=\"http://www.w3.org/2000/svg\" height=\"24px\"viewBox=\"0 0 24 24\"\n",
              "       width=\"24px\">\n",
              "    <path d=\"M0 0h24v24H0V0z\" fill=\"none\"/>\n",
              "    <path d=\"M18.56 5.44l.94 2.06.94-2.06 2.06-.94-2.06-.94-.94-2.06-.94 2.06-2.06.94zm-11 1L8.5 8.5l.94-2.06 2.06-.94-2.06-.94L8.5 2.5l-.94 2.06-2.06.94zm10 10l.94 2.06.94-2.06 2.06-.94-2.06-.94-.94-2.06-.94 2.06-2.06.94z\"/><path d=\"M17.41 7.96l-1.37-1.37c-.4-.4-.92-.59-1.43-.59-.52 0-1.04.2-1.43.59L10.3 9.45l-7.72 7.72c-.78.78-.78 2.05 0 2.83L4 21.41c.39.39.9.59 1.41.59.51 0 1.02-.2 1.41-.59l7.78-7.78 2.81-2.81c.8-.78.8-2.07 0-2.86zM5.41 20L4 18.59l7.72-7.72 1.47 1.35L5.41 20z\"/>\n",
              "  </svg>\n",
              "      </button>\n",
              "      \n",
              "  <style>\n",
              "    .colab-df-container {\n",
              "      display:flex;\n",
              "      flex-wrap:wrap;\n",
              "      gap: 12px;\n",
              "    }\n",
              "\n",
              "    .colab-df-convert {\n",
              "      background-color: #E8F0FE;\n",
              "      border: none;\n",
              "      border-radius: 50%;\n",
              "      cursor: pointer;\n",
              "      display: none;\n",
              "      fill: #1967D2;\n",
              "      height: 32px;\n",
              "      padding: 0 0 0 0;\n",
              "      width: 32px;\n",
              "    }\n",
              "\n",
              "    .colab-df-convert:hover {\n",
              "      background-color: #E2EBFA;\n",
              "      box-shadow: 0px 1px 2px rgba(60, 64, 67, 0.3), 0px 1px 3px 1px rgba(60, 64, 67, 0.15);\n",
              "      fill: #174EA6;\n",
              "    }\n",
              "\n",
              "    [theme=dark] .colab-df-convert {\n",
              "      background-color: #3B4455;\n",
              "      fill: #D2E3FC;\n",
              "    }\n",
              "\n",
              "    [theme=dark] .colab-df-convert:hover {\n",
              "      background-color: #434B5C;\n",
              "      box-shadow: 0px 1px 3px 1px rgba(0, 0, 0, 0.15);\n",
              "      filter: drop-shadow(0px 1px 2px rgba(0, 0, 0, 0.3));\n",
              "      fill: #FFFFFF;\n",
              "    }\n",
              "  </style>\n",
              "\n",
              "      <script>\n",
              "        const buttonEl =\n",
              "          document.querySelector('#df-ff7b789d-f5f3-41ff-ae39-051e69464491 button.colab-df-convert');\n",
              "        buttonEl.style.display =\n",
              "          google.colab.kernel.accessAllowed ? 'block' : 'none';\n",
              "\n",
              "        async function convertToInteractive(key) {\n",
              "          const element = document.querySelector('#df-ff7b789d-f5f3-41ff-ae39-051e69464491');\n",
              "          const dataTable =\n",
              "            await google.colab.kernel.invokeFunction('convertToInteractive',\n",
              "                                                     [key], {});\n",
              "          if (!dataTable) return;\n",
              "\n",
              "          const docLinkHtml = 'Like what you see? Visit the ' +\n",
              "            '<a target=\"_blank\" href=https://colab.research.google.com/notebooks/data_table.ipynb>data table notebook</a>'\n",
              "            + ' to learn more about interactive tables.';\n",
              "          element.innerHTML = '';\n",
              "          dataTable['output_type'] = 'display_data';\n",
              "          await google.colab.output.renderOutput(dataTable, element);\n",
              "          const docLink = document.createElement('div');\n",
              "          docLink.innerHTML = docLinkHtml;\n",
              "          element.appendChild(docLink);\n",
              "        }\n",
              "      </script>\n",
              "    </div>\n",
              "  </div>\n",
              "  "
            ]
          },
          "metadata": {},
          "execution_count": 10
        }
      ],
      "source": [
        "info_df.head()"
      ]
    },
    {
      "cell_type": "code",
      "execution_count": 11,
      "metadata": {
        "id": "KvOnIKKOYJWF",
        "colab": {
          "base_uri": "https://localhost:8080/"
        },
        "outputId": "063c8c3f-173d-461f-8990-380b6e532562"
      },
      "outputs": [
        {
          "output_type": "execute_result",
          "data": {
            "text/plain": [
              "15.0"
            ]
          },
          "metadata": {},
          "execution_count": 11
        }
      ],
      "source": [
        "info_df['Age'].min()"
      ]
    },
    {
      "cell_type": "code",
      "execution_count": 12,
      "metadata": {
        "id": "oK3dhVJDYV5L",
        "colab": {
          "base_uri": "https://localhost:8080/"
        },
        "outputId": "42e54d4c-372d-45a8-ef1a-73303b6183b8"
      },
      "outputs": [
        {
          "output_type": "execute_result",
          "data": {
            "text/plain": [
              "90.0"
            ]
          },
          "metadata": {},
          "execution_count": 12
        }
      ],
      "source": [
        "info_df['Age'].max()"
      ]
    },
    {
      "cell_type": "code",
      "execution_count": 13,
      "metadata": {
        "id": "oblBURIs7wvH",
        "colab": {
          "base_uri": "https://localhost:8080/",
          "height": 0
        },
        "outputId": "2b124254-f3c2-47ad-e703-9ea62ac7b322"
      },
      "outputs": [
        {
          "output_type": "execute_result",
          "data": {
            "text/plain": [
              "   RecordID   Time Parameter  Value\n",
              "0  140271.0  00:00   DiasABP   71.0\n",
              "1  140271.0  00:00       GCS    3.0\n",
              "2  140271.0  00:00        HR   91.0\n",
              "3  140271.0  00:00       MAP  115.0\n",
              "4  140271.0  00:00    SysABP  178.0"
            ],
            "text/html": [
              "\n",
              "  <div id=\"df-c7179b4f-927c-49b3-add2-1c3ad7e152bc\">\n",
              "    <div class=\"colab-df-container\">\n",
              "      <div>\n",
              "<style scoped>\n",
              "    .dataframe tbody tr th:only-of-type {\n",
              "        vertical-align: middle;\n",
              "    }\n",
              "\n",
              "    .dataframe tbody tr th {\n",
              "        vertical-align: top;\n",
              "    }\n",
              "\n",
              "    .dataframe thead th {\n",
              "        text-align: right;\n",
              "    }\n",
              "</style>\n",
              "<table border=\"1\" class=\"dataframe\">\n",
              "  <thead>\n",
              "    <tr style=\"text-align: right;\">\n",
              "      <th></th>\n",
              "      <th>RecordID</th>\n",
              "      <th>Time</th>\n",
              "      <th>Parameter</th>\n",
              "      <th>Value</th>\n",
              "    </tr>\n",
              "  </thead>\n",
              "  <tbody>\n",
              "    <tr>\n",
              "      <th>0</th>\n",
              "      <td>140271.0</td>\n",
              "      <td>00:00</td>\n",
              "      <td>DiasABP</td>\n",
              "      <td>71.0</td>\n",
              "    </tr>\n",
              "    <tr>\n",
              "      <th>1</th>\n",
              "      <td>140271.0</td>\n",
              "      <td>00:00</td>\n",
              "      <td>GCS</td>\n",
              "      <td>3.0</td>\n",
              "    </tr>\n",
              "    <tr>\n",
              "      <th>2</th>\n",
              "      <td>140271.0</td>\n",
              "      <td>00:00</td>\n",
              "      <td>HR</td>\n",
              "      <td>91.0</td>\n",
              "    </tr>\n",
              "    <tr>\n",
              "      <th>3</th>\n",
              "      <td>140271.0</td>\n",
              "      <td>00:00</td>\n",
              "      <td>MAP</td>\n",
              "      <td>115.0</td>\n",
              "    </tr>\n",
              "    <tr>\n",
              "      <th>4</th>\n",
              "      <td>140271.0</td>\n",
              "      <td>00:00</td>\n",
              "      <td>SysABP</td>\n",
              "      <td>178.0</td>\n",
              "    </tr>\n",
              "  </tbody>\n",
              "</table>\n",
              "</div>\n",
              "      <button class=\"colab-df-convert\" onclick=\"convertToInteractive('df-c7179b4f-927c-49b3-add2-1c3ad7e152bc')\"\n",
              "              title=\"Convert this dataframe to an interactive table.\"\n",
              "              style=\"display:none;\">\n",
              "        \n",
              "  <svg xmlns=\"http://www.w3.org/2000/svg\" height=\"24px\"viewBox=\"0 0 24 24\"\n",
              "       width=\"24px\">\n",
              "    <path d=\"M0 0h24v24H0V0z\" fill=\"none\"/>\n",
              "    <path d=\"M18.56 5.44l.94 2.06.94-2.06 2.06-.94-2.06-.94-.94-2.06-.94 2.06-2.06.94zm-11 1L8.5 8.5l.94-2.06 2.06-.94-2.06-.94L8.5 2.5l-.94 2.06-2.06.94zm10 10l.94 2.06.94-2.06 2.06-.94-2.06-.94-.94-2.06-.94 2.06-2.06.94z\"/><path d=\"M17.41 7.96l-1.37-1.37c-.4-.4-.92-.59-1.43-.59-.52 0-1.04.2-1.43.59L10.3 9.45l-7.72 7.72c-.78.78-.78 2.05 0 2.83L4 21.41c.39.39.9.59 1.41.59.51 0 1.02-.2 1.41-.59l7.78-7.78 2.81-2.81c.8-.78.8-2.07 0-2.86zM5.41 20L4 18.59l7.72-7.72 1.47 1.35L5.41 20z\"/>\n",
              "  </svg>\n",
              "      </button>\n",
              "      \n",
              "  <style>\n",
              "    .colab-df-container {\n",
              "      display:flex;\n",
              "      flex-wrap:wrap;\n",
              "      gap: 12px;\n",
              "    }\n",
              "\n",
              "    .colab-df-convert {\n",
              "      background-color: #E8F0FE;\n",
              "      border: none;\n",
              "      border-radius: 50%;\n",
              "      cursor: pointer;\n",
              "      display: none;\n",
              "      fill: #1967D2;\n",
              "      height: 32px;\n",
              "      padding: 0 0 0 0;\n",
              "      width: 32px;\n",
              "    }\n",
              "\n",
              "    .colab-df-convert:hover {\n",
              "      background-color: #E2EBFA;\n",
              "      box-shadow: 0px 1px 2px rgba(60, 64, 67, 0.3), 0px 1px 3px 1px rgba(60, 64, 67, 0.15);\n",
              "      fill: #174EA6;\n",
              "    }\n",
              "\n",
              "    [theme=dark] .colab-df-convert {\n",
              "      background-color: #3B4455;\n",
              "      fill: #D2E3FC;\n",
              "    }\n",
              "\n",
              "    [theme=dark] .colab-df-convert:hover {\n",
              "      background-color: #434B5C;\n",
              "      box-shadow: 0px 1px 3px 1px rgba(0, 0, 0, 0.15);\n",
              "      filter: drop-shadow(0px 1px 2px rgba(0, 0, 0, 0.3));\n",
              "      fill: #FFFFFF;\n",
              "    }\n",
              "  </style>\n",
              "\n",
              "      <script>\n",
              "        const buttonEl =\n",
              "          document.querySelector('#df-c7179b4f-927c-49b3-add2-1c3ad7e152bc button.colab-df-convert');\n",
              "        buttonEl.style.display =\n",
              "          google.colab.kernel.accessAllowed ? 'block' : 'none';\n",
              "\n",
              "        async function convertToInteractive(key) {\n",
              "          const element = document.querySelector('#df-c7179b4f-927c-49b3-add2-1c3ad7e152bc');\n",
              "          const dataTable =\n",
              "            await google.colab.kernel.invokeFunction('convertToInteractive',\n",
              "                                                     [key], {});\n",
              "          if (!dataTable) return;\n",
              "\n",
              "          const docLinkHtml = 'Like what you see? Visit the ' +\n",
              "            '<a target=\"_blank\" href=https://colab.research.google.com/notebooks/data_table.ipynb>data table notebook</a>'\n",
              "            + ' to learn more about interactive tables.';\n",
              "          element.innerHTML = '';\n",
              "          dataTable['output_type'] = 'display_data';\n",
              "          await google.colab.output.renderOutput(dataTable, element);\n",
              "          const docLink = document.createElement('div');\n",
              "          docLink.innerHTML = docLinkHtml;\n",
              "          element.appendChild(docLink);\n",
              "        }\n",
              "      </script>\n",
              "    </div>\n",
              "  </div>\n",
              "  "
            ]
          },
          "metadata": {},
          "execution_count": 13
        }
      ],
      "source": [
        "readings_df.head()"
      ]
    },
    {
      "cell_type": "code",
      "execution_count": 14,
      "metadata": {
        "id": "wpeKYdUiRckW"
      },
      "outputs": [],
      "source": [
        "df_merge = info_df.merge(outcomes_df)"
      ]
    },
    {
      "cell_type": "code",
      "execution_count": 15,
      "metadata": {
        "id": "0x2i4Xb9kiER",
        "colab": {
          "base_uri": "https://localhost:8080/"
        },
        "outputId": "9eefdf3a-a0d3-4cd0-ace7-a005eeea3569"
      },
      "outputs": [
        {
          "output_type": "execute_result",
          "data": {
            "text/plain": [
              "(4000, 11)"
            ]
          },
          "metadata": {},
          "execution_count": 15
        }
      ],
      "source": [
        "df_merge.shape"
      ]
    },
    {
      "cell_type": "code",
      "execution_count": 16,
      "metadata": {
        "id": "PWkxLvmRknI_",
        "colab": {
          "base_uri": "https://localhost:8080/"
        },
        "outputId": "a16458da-9c13-4507-fb10-5e8787efa668"
      },
      "outputs": [
        {
          "output_type": "execute_result",
          "data": {
            "text/plain": [
              "RecordID             0\n",
              "Age                  0\n",
              "Gender               0\n",
              "Height               0\n",
              "ICUType              0\n",
              "Weight               0\n",
              "SAPS-I               0\n",
              "SOFA                 0\n",
              "Length_of_stay       0\n",
              "Survival             0\n",
              "In-hospital_death    0\n",
              "dtype: int64"
            ]
          },
          "metadata": {},
          "execution_count": 16
        }
      ],
      "source": [
        "df_merge.isnull().sum()"
      ]
    },
    {
      "cell_type": "code",
      "execution_count": 17,
      "metadata": {
        "id": "Mzbai97aksEf",
        "colab": {
          "base_uri": "https://localhost:8080/"
        },
        "outputId": "8a0c5c54-31cd-4ad7-9fa1-d8db2834fc70"
      },
      "outputs": [
        {
          "output_type": "execute_result",
          "data": {
            "text/plain": [
              "RecordID             0.0\n",
              "Age                  0.0\n",
              "Gender               0.0\n",
              "Height               0.0\n",
              "ICUType              0.0\n",
              "Weight               0.0\n",
              "SAPS-I               0.0\n",
              "SOFA                 0.0\n",
              "Length_of_stay       0.0\n",
              "Survival             0.0\n",
              "In-hospital_death    0.0\n",
              "dtype: float64"
            ]
          },
          "metadata": {},
          "execution_count": 17
        }
      ],
      "source": [
        "df_merge.isnull().sum() / len(df_merge)"
      ]
    },
    {
      "cell_type": "code",
      "execution_count": 18,
      "metadata": {
        "id": "EukmFExdVjN3"
      },
      "outputs": [],
      "source": [
        "#df_merge : is merging both the info_df and outcomes_df together to do the visualizations\n",
        "df_merge = info_df.merge(outcomes_df)"
      ]
    },
    {
      "cell_type": "code",
      "execution_count": 19,
      "metadata": {
        "id": "q4IhZM4bVfzH",
        "colab": {
          "base_uri": "https://localhost:8080/"
        },
        "outputId": "cc793603-aaa8-4ee9-c906-225dbdb6df08"
      },
      "outputs": [
        {
          "output_type": "execute_result",
          "data": {
            "text/plain": [
              "Index(['RecordID', 'Age', 'Gender', 'Height', 'ICUType', 'Weight', 'SAPS-I',\n",
              "       'SOFA', 'Length_of_stay', 'Survival', 'In-hospital_death'],\n",
              "      dtype='object')"
            ]
          },
          "metadata": {},
          "execution_count": 19
        }
      ],
      "source": [
        "df_merge.columns"
      ]
    },
    {
      "cell_type": "code",
      "execution_count": 20,
      "metadata": {
        "id": "koe7utC3VVqO",
        "colab": {
          "base_uri": "https://localhost:8080/"
        },
        "outputId": "7eac0831-d129-422c-87c4-b59d7974fd90"
      },
      "outputs": [
        {
          "output_type": "stream",
          "name": "stdout",
          "text": [
            "<class 'pandas.core.frame.DataFrame'>\n",
            "Int64Index: 4000 entries, 0 to 3999\n",
            "Data columns (total 11 columns):\n",
            " #   Column             Non-Null Count  Dtype  \n",
            "---  ------             --------------  -----  \n",
            " 0   RecordID           4000 non-null   float64\n",
            " 1   Age                4000 non-null   float64\n",
            " 2   Gender             4000 non-null   float64\n",
            " 3   Height             4000 non-null   float64\n",
            " 4   ICUType            4000 non-null   float64\n",
            " 5   Weight             4000 non-null   float64\n",
            " 6   SAPS-I             4000 non-null   int64  \n",
            " 7   SOFA               4000 non-null   int64  \n",
            " 8   Length_of_stay     4000 non-null   int64  \n",
            " 9   Survival           4000 non-null   int64  \n",
            " 10  In-hospital_death  4000 non-null   int64  \n",
            "dtypes: float64(6), int64(5)\n",
            "memory usage: 375.0 KB\n"
          ]
        }
      ],
      "source": [
        "df_merge.info()"
      ]
    },
    {
      "cell_type": "code",
      "execution_count": 21,
      "metadata": {
        "id": "owJaTKHOV7Q_",
        "colab": {
          "base_uri": "https://localhost:8080/",
          "height": 0
        },
        "outputId": "ae3f0a79-ee7e-409a-e2d6-77fa94255fc9"
      },
      "outputs": [
        {
          "output_type": "execute_result",
          "data": {
            "text/plain": [
              "            RecordID          Age       Gender       Height      ICUType  \\\n",
              "count    4000.000000  4000.000000  4000.000000  4000.000000  4000.000000   \n",
              "mean   137605.122000    64.247500     0.560750    88.919475     2.760000   \n",
              "std      2923.608886    17.560946     0.497867    86.531203     1.002572   \n",
              "min    132539.000000    15.000000    -1.000000    -1.000000     1.000000   \n",
              "25%    135075.750000    52.750000     0.000000    -1.000000     2.000000   \n",
              "50%    137592.500000    67.000000     1.000000   152.400000     3.000000   \n",
              "75%    140100.250000    78.000000     1.000000   170.200000     4.000000   \n",
              "max    142673.000000    90.000000     1.000000   431.800000     4.000000   \n",
              "\n",
              "           Weight       SAPS-I         SOFA  Length_of_stay     Survival  \\\n",
              "count  4000.00000  4000.000000  4000.000000     4000.000000  4000.000000   \n",
              "mean     74.75629    14.203500     6.402500       13.441750   128.735500   \n",
              "std      31.97107     6.088584     4.201298       12.246371   363.714273   \n",
              "min      -1.00000    -1.000000    -1.000000       -1.000000    -1.000000   \n",
              "25%      62.00000    11.000000     3.000000        6.000000    -1.000000   \n",
              "50%      76.20000    15.000000     6.000000       10.000000    -1.000000   \n",
              "75%      90.42500    18.000000     9.000000       17.000000    16.000000   \n",
              "max     300.00000    34.000000    22.000000      154.000000  2600.000000   \n",
              "\n",
              "       In-hospital_death  \n",
              "count        4000.000000  \n",
              "mean            0.138500  \n",
              "std             0.345467  \n",
              "min             0.000000  \n",
              "25%             0.000000  \n",
              "50%             0.000000  \n",
              "75%             0.000000  \n",
              "max             1.000000  "
            ],
            "text/html": [
              "\n",
              "  <div id=\"df-f054a035-e608-4c73-aea6-c18eb982efae\">\n",
              "    <div class=\"colab-df-container\">\n",
              "      <div>\n",
              "<style scoped>\n",
              "    .dataframe tbody tr th:only-of-type {\n",
              "        vertical-align: middle;\n",
              "    }\n",
              "\n",
              "    .dataframe tbody tr th {\n",
              "        vertical-align: top;\n",
              "    }\n",
              "\n",
              "    .dataframe thead th {\n",
              "        text-align: right;\n",
              "    }\n",
              "</style>\n",
              "<table border=\"1\" class=\"dataframe\">\n",
              "  <thead>\n",
              "    <tr style=\"text-align: right;\">\n",
              "      <th></th>\n",
              "      <th>RecordID</th>\n",
              "      <th>Age</th>\n",
              "      <th>Gender</th>\n",
              "      <th>Height</th>\n",
              "      <th>ICUType</th>\n",
              "      <th>Weight</th>\n",
              "      <th>SAPS-I</th>\n",
              "      <th>SOFA</th>\n",
              "      <th>Length_of_stay</th>\n",
              "      <th>Survival</th>\n",
              "      <th>In-hospital_death</th>\n",
              "    </tr>\n",
              "  </thead>\n",
              "  <tbody>\n",
              "    <tr>\n",
              "      <th>count</th>\n",
              "      <td>4000.000000</td>\n",
              "      <td>4000.000000</td>\n",
              "      <td>4000.000000</td>\n",
              "      <td>4000.000000</td>\n",
              "      <td>4000.000000</td>\n",
              "      <td>4000.00000</td>\n",
              "      <td>4000.000000</td>\n",
              "      <td>4000.000000</td>\n",
              "      <td>4000.000000</td>\n",
              "      <td>4000.000000</td>\n",
              "      <td>4000.000000</td>\n",
              "    </tr>\n",
              "    <tr>\n",
              "      <th>mean</th>\n",
              "      <td>137605.122000</td>\n",
              "      <td>64.247500</td>\n",
              "      <td>0.560750</td>\n",
              "      <td>88.919475</td>\n",
              "      <td>2.760000</td>\n",
              "      <td>74.75629</td>\n",
              "      <td>14.203500</td>\n",
              "      <td>6.402500</td>\n",
              "      <td>13.441750</td>\n",
              "      <td>128.735500</td>\n",
              "      <td>0.138500</td>\n",
              "    </tr>\n",
              "    <tr>\n",
              "      <th>std</th>\n",
              "      <td>2923.608886</td>\n",
              "      <td>17.560946</td>\n",
              "      <td>0.497867</td>\n",
              "      <td>86.531203</td>\n",
              "      <td>1.002572</td>\n",
              "      <td>31.97107</td>\n",
              "      <td>6.088584</td>\n",
              "      <td>4.201298</td>\n",
              "      <td>12.246371</td>\n",
              "      <td>363.714273</td>\n",
              "      <td>0.345467</td>\n",
              "    </tr>\n",
              "    <tr>\n",
              "      <th>min</th>\n",
              "      <td>132539.000000</td>\n",
              "      <td>15.000000</td>\n",
              "      <td>-1.000000</td>\n",
              "      <td>-1.000000</td>\n",
              "      <td>1.000000</td>\n",
              "      <td>-1.00000</td>\n",
              "      <td>-1.000000</td>\n",
              "      <td>-1.000000</td>\n",
              "      <td>-1.000000</td>\n",
              "      <td>-1.000000</td>\n",
              "      <td>0.000000</td>\n",
              "    </tr>\n",
              "    <tr>\n",
              "      <th>25%</th>\n",
              "      <td>135075.750000</td>\n",
              "      <td>52.750000</td>\n",
              "      <td>0.000000</td>\n",
              "      <td>-1.000000</td>\n",
              "      <td>2.000000</td>\n",
              "      <td>62.00000</td>\n",
              "      <td>11.000000</td>\n",
              "      <td>3.000000</td>\n",
              "      <td>6.000000</td>\n",
              "      <td>-1.000000</td>\n",
              "      <td>0.000000</td>\n",
              "    </tr>\n",
              "    <tr>\n",
              "      <th>50%</th>\n",
              "      <td>137592.500000</td>\n",
              "      <td>67.000000</td>\n",
              "      <td>1.000000</td>\n",
              "      <td>152.400000</td>\n",
              "      <td>3.000000</td>\n",
              "      <td>76.20000</td>\n",
              "      <td>15.000000</td>\n",
              "      <td>6.000000</td>\n",
              "      <td>10.000000</td>\n",
              "      <td>-1.000000</td>\n",
              "      <td>0.000000</td>\n",
              "    </tr>\n",
              "    <tr>\n",
              "      <th>75%</th>\n",
              "      <td>140100.250000</td>\n",
              "      <td>78.000000</td>\n",
              "      <td>1.000000</td>\n",
              "      <td>170.200000</td>\n",
              "      <td>4.000000</td>\n",
              "      <td>90.42500</td>\n",
              "      <td>18.000000</td>\n",
              "      <td>9.000000</td>\n",
              "      <td>17.000000</td>\n",
              "      <td>16.000000</td>\n",
              "      <td>0.000000</td>\n",
              "    </tr>\n",
              "    <tr>\n",
              "      <th>max</th>\n",
              "      <td>142673.000000</td>\n",
              "      <td>90.000000</td>\n",
              "      <td>1.000000</td>\n",
              "      <td>431.800000</td>\n",
              "      <td>4.000000</td>\n",
              "      <td>300.00000</td>\n",
              "      <td>34.000000</td>\n",
              "      <td>22.000000</td>\n",
              "      <td>154.000000</td>\n",
              "      <td>2600.000000</td>\n",
              "      <td>1.000000</td>\n",
              "    </tr>\n",
              "  </tbody>\n",
              "</table>\n",
              "</div>\n",
              "      <button class=\"colab-df-convert\" onclick=\"convertToInteractive('df-f054a035-e608-4c73-aea6-c18eb982efae')\"\n",
              "              title=\"Convert this dataframe to an interactive table.\"\n",
              "              style=\"display:none;\">\n",
              "        \n",
              "  <svg xmlns=\"http://www.w3.org/2000/svg\" height=\"24px\"viewBox=\"0 0 24 24\"\n",
              "       width=\"24px\">\n",
              "    <path d=\"M0 0h24v24H0V0z\" fill=\"none\"/>\n",
              "    <path d=\"M18.56 5.44l.94 2.06.94-2.06 2.06-.94-2.06-.94-.94-2.06-.94 2.06-2.06.94zm-11 1L8.5 8.5l.94-2.06 2.06-.94-2.06-.94L8.5 2.5l-.94 2.06-2.06.94zm10 10l.94 2.06.94-2.06 2.06-.94-2.06-.94-.94-2.06-.94 2.06-2.06.94z\"/><path d=\"M17.41 7.96l-1.37-1.37c-.4-.4-.92-.59-1.43-.59-.52 0-1.04.2-1.43.59L10.3 9.45l-7.72 7.72c-.78.78-.78 2.05 0 2.83L4 21.41c.39.39.9.59 1.41.59.51 0 1.02-.2 1.41-.59l7.78-7.78 2.81-2.81c.8-.78.8-2.07 0-2.86zM5.41 20L4 18.59l7.72-7.72 1.47 1.35L5.41 20z\"/>\n",
              "  </svg>\n",
              "      </button>\n",
              "      \n",
              "  <style>\n",
              "    .colab-df-container {\n",
              "      display:flex;\n",
              "      flex-wrap:wrap;\n",
              "      gap: 12px;\n",
              "    }\n",
              "\n",
              "    .colab-df-convert {\n",
              "      background-color: #E8F0FE;\n",
              "      border: none;\n",
              "      border-radius: 50%;\n",
              "      cursor: pointer;\n",
              "      display: none;\n",
              "      fill: #1967D2;\n",
              "      height: 32px;\n",
              "      padding: 0 0 0 0;\n",
              "      width: 32px;\n",
              "    }\n",
              "\n",
              "    .colab-df-convert:hover {\n",
              "      background-color: #E2EBFA;\n",
              "      box-shadow: 0px 1px 2px rgba(60, 64, 67, 0.3), 0px 1px 3px 1px rgba(60, 64, 67, 0.15);\n",
              "      fill: #174EA6;\n",
              "    }\n",
              "\n",
              "    [theme=dark] .colab-df-convert {\n",
              "      background-color: #3B4455;\n",
              "      fill: #D2E3FC;\n",
              "    }\n",
              "\n",
              "    [theme=dark] .colab-df-convert:hover {\n",
              "      background-color: #434B5C;\n",
              "      box-shadow: 0px 1px 3px 1px rgba(0, 0, 0, 0.15);\n",
              "      filter: drop-shadow(0px 1px 2px rgba(0, 0, 0, 0.3));\n",
              "      fill: #FFFFFF;\n",
              "    }\n",
              "  </style>\n",
              "\n",
              "      <script>\n",
              "        const buttonEl =\n",
              "          document.querySelector('#df-f054a035-e608-4c73-aea6-c18eb982efae button.colab-df-convert');\n",
              "        buttonEl.style.display =\n",
              "          google.colab.kernel.accessAllowed ? 'block' : 'none';\n",
              "\n",
              "        async function convertToInteractive(key) {\n",
              "          const element = document.querySelector('#df-f054a035-e608-4c73-aea6-c18eb982efae');\n",
              "          const dataTable =\n",
              "            await google.colab.kernel.invokeFunction('convertToInteractive',\n",
              "                                                     [key], {});\n",
              "          if (!dataTable) return;\n",
              "\n",
              "          const docLinkHtml = 'Like what you see? Visit the ' +\n",
              "            '<a target=\"_blank\" href=https://colab.research.google.com/notebooks/data_table.ipynb>data table notebook</a>'\n",
              "            + ' to learn more about interactive tables.';\n",
              "          element.innerHTML = '';\n",
              "          dataTable['output_type'] = 'display_data';\n",
              "          await google.colab.output.renderOutput(dataTable, element);\n",
              "          const docLink = document.createElement('div');\n",
              "          docLink.innerHTML = docLinkHtml;\n",
              "          element.appendChild(docLink);\n",
              "        }\n",
              "      </script>\n",
              "    </div>\n",
              "  </div>\n",
              "  "
            ]
          },
          "metadata": {},
          "execution_count": 21
        }
      ],
      "source": [
        "df_merge.describe()"
      ]
    },
    {
      "cell_type": "code",
      "execution_count": 22,
      "metadata": {
        "id": "I3AI1zyMWOx_",
        "colab": {
          "base_uri": "https://localhost:8080/"
        },
        "outputId": "2d01a7f6-afff-476e-bde8-bbe6d4116286"
      },
      "outputs": [
        {
          "output_type": "execute_result",
          "data": {
            "text/plain": [
              "3.0    1481\n",
              "4.0    1068\n",
              "2.0     874\n",
              "1.0     577\n",
              "Name: ICUType, dtype: int64"
            ]
          },
          "metadata": {},
          "execution_count": 22
        }
      ],
      "source": [
        "# how often specific values occur in a column\n",
        "# Comparing the Counts among the ICU_TYPE\n",
        "#  \n",
        "df_merge[\"ICUType\"].value_counts()"
      ]
    },
    {
      "cell_type": "code",
      "execution_count": 23,
      "metadata": {
        "id": "X-ixyWM-Y1QF",
        "colab": {
          "base_uri": "https://localhost:8080/"
        },
        "outputId": "59dc7879-28be-4783-c8a5-f92d6dd91dfd"
      },
      "outputs": [
        {
          "output_type": "execute_result",
          "data": {
            "text/plain": [
              "0    3446\n",
              "1     554\n",
              "Name: In-hospital_death, dtype: int64"
            ]
          },
          "metadata": {},
          "execution_count": 23
        }
      ],
      "source": [
        "#  Number of survivals\n",
        "df_merge[\"In-hospital_death\"].value_counts()"
      ]
    },
    {
      "cell_type": "code",
      "execution_count": 24,
      "metadata": {
        "id": "EWFuLK9SZD53",
        "colab": {
          "base_uri": "https://localhost:8080/"
        },
        "outputId": "54e66518-bb11-4bb5-f964-04e7f8397162"
      },
      "outputs": [
        {
          "output_type": "execute_result",
          "data": {
            "text/plain": [
              " 1.0    2246\n",
              " 0.0    1751\n",
              "-1.0       3\n",
              "Name: Gender, dtype: int64"
            ]
          },
          "metadata": {},
          "execution_count": 24
        }
      ],
      "source": [
        "#  0: female, or 1: male\n",
        "df_merge[\"Gender\"].value_counts()"
      ]
    },
    {
      "cell_type": "code",
      "execution_count": 25,
      "metadata": {
        "id": "uEgoY2FLmPzG",
        "colab": {
          "base_uri": "https://localhost:8080/"
        },
        "outputId": "76bbc95b-337f-4c57-ed0d-5e3023f83353"
      },
      "outputs": [
        {
          "output_type": "execute_result",
          "data": {
            "text/plain": [
              "Index(['RecordID', 'Time', 'Parameter', 'Value'], dtype='object')"
            ]
          },
          "metadata": {},
          "execution_count": 25
        }
      ],
      "source": [
        "readings_df.columns"
      ]
    },
    {
      "cell_type": "code",
      "execution_count": 26,
      "metadata": {
        "id": "bpIHLJG8lZuP"
      },
      "outputs": [],
      "source": [
        "# merge In-hospital with reading data\n",
        "# Feature Correlation with the In-hospital_death\n",
        "#print('Feature Correlation with target:')\n",
        "#df_merge.corr()['In-hospital_death']"
      ]
    },
    {
      "cell_type": "markdown",
      "metadata": {
        "id": "I9UnuvSWWTFn"
      },
      "source": [
        "# Data Cleaning"
      ]
    },
    {
      "cell_type": "code",
      "execution_count": 27,
      "metadata": {
        "id": "HU5YnC8mPh8u",
        "colab": {
          "base_uri": "https://localhost:8080/"
        },
        "outputId": "c72bee86-7b6a-43ed-b1ab-7f90a8ffa5c5"
      },
      "outputs": [
        {
          "output_type": "execute_result",
          "data": {
            "text/plain": [
              " 1.0    2246\n",
              " 0.0    1751\n",
              "-1.0       3\n",
              "Name: Gender, dtype: int64"
            ]
          },
          "metadata": {},
          "execution_count": 27
        }
      ],
      "source": [
        "df_merge['Gender'].value_counts()"
      ]
    },
    {
      "cell_type": "code",
      "execution_count": 28,
      "metadata": {
        "id": "PMMWc07nPH31"
      },
      "outputs": [],
      "source": [
        "df_merge.drop(df_merge.index[df_merge['Gender'] == -1], inplace = True)"
      ]
    },
    {
      "cell_type": "code",
      "execution_count": 29,
      "metadata": {
        "id": "vT2i6iR-gfym",
        "colab": {
          "base_uri": "https://localhost:8080/"
        },
        "outputId": "d3c8f271-fc47-4faa-e6ac-3cb4b78c2335"
      },
      "outputs": [
        {
          "output_type": "execute_result",
          "data": {
            "text/plain": [
              "array([2., 4., 3., ..., 3., 1., 3.])"
            ]
          },
          "metadata": {},
          "execution_count": 29
        }
      ],
      "source": [
        "df_merge[\"ICUType\"].values"
      ]
    },
    {
      "cell_type": "code",
      "execution_count": 30,
      "metadata": {
        "id": "5rHprJOChPx-",
        "colab": {
          "base_uri": "https://localhost:8080/"
        },
        "outputId": "67da67b0-61bb-402a-cb1c-ed2fa0a73c26"
      },
      "outputs": [
        {
          "output_type": "execute_result",
          "data": {
            "text/plain": [
              "array([81., 77., 42., ..., 53., 81., 66.])"
            ]
          },
          "metadata": {},
          "execution_count": 30
        }
      ],
      "source": [
        "df_merge[\"Age\"].values"
      ]
    },
    {
      "cell_type": "markdown",
      "metadata": {
        "id": "4--oRGdghzXP"
      },
      "source": [
        "Range of Age:"
      ]
    },
    {
      "cell_type": "code",
      "execution_count": 31,
      "metadata": {
        "id": "ivYqLU3BhfRP",
        "colab": {
          "base_uri": "https://localhost:8080/"
        },
        "outputId": "d93b2832-5a1e-4b29-b63c-4a252e7f8c7c"
      },
      "outputs": [
        {
          "output_type": "execute_result",
          "data": {
            "text/plain": [
              "15.0"
            ]
          },
          "metadata": {},
          "execution_count": 31
        }
      ],
      "source": [
        "Age_min = df_merge[\"Age\"]\n",
        "Age_min.min()"
      ]
    },
    {
      "cell_type": "code",
      "execution_count": 32,
      "metadata": {
        "id": "AKQQ2Xw7ht4o",
        "colab": {
          "base_uri": "https://localhost:8080/"
        },
        "outputId": "939b8601-9f89-4ed0-cb8c-b326162cfce3"
      },
      "outputs": [
        {
          "output_type": "execute_result",
          "data": {
            "text/plain": [
              "90.0"
            ]
          },
          "metadata": {},
          "execution_count": 32
        }
      ],
      "source": [
        "Age_max = df_merge[\"Age\"]\n",
        "Age_max.max()"
      ]
    },
    {
      "cell_type": "markdown",
      "metadata": {
        "id": "LaXGMYr4PC73"
      },
      "source": [
        "Data Visualizations:"
      ]
    },
    {
      "cell_type": "markdown",
      "metadata": {
        "id": "9x3M4itpO4x-"
      },
      "source": [
        "Mortaility Distribution:"
      ]
    },
    {
      "cell_type": "markdown",
      "metadata": {
        "id": "5YQX9ZG1WNlO"
      },
      "source": [
        "In-hospital death (0: survivor, or 1: died in-hospital)"
      ]
    },
    {
      "cell_type": "code",
      "execution_count": 33,
      "metadata": {
        "id": "WHWrtMsxT05d",
        "colab": {
          "base_uri": "https://localhost:8080/"
        },
        "outputId": "83cdc25a-d7e0-4f81-bae2-3a6be762ca72"
      },
      "outputs": [
        {
          "output_type": "execute_result",
          "data": {
            "text/plain": [
              "0    3444\n",
              "1     553\n",
              "Name: In-hospital_death, dtype: int64"
            ]
          },
          "metadata": {},
          "execution_count": 33
        }
      ],
      "source": [
        "df_merge['In-hospital_death'].value_counts()"
      ]
    },
    {
      "cell_type": "code",
      "execution_count": 34,
      "metadata": {
        "id": "-Lf9LB8zSgvd",
        "colab": {
          "base_uri": "https://localhost:8080/",
          "height": 0
        },
        "outputId": "45fb334c-11c6-4a36-b94a-30d9b8237787"
      },
      "outputs": [
        {
          "output_type": "stream",
          "name": "stderr",
          "text": [
            "/usr/local/lib/python3.7/dist-packages/seaborn/_decorators.py:43: FutureWarning: Pass the following variable as a keyword arg: x. From version 0.12, the only valid positional argument will be `data`, and passing other arguments without an explicit keyword will result in an error or misinterpretation.\n",
            "  FutureWarning\n"
          ]
        },
        {
          "output_type": "display_data",
          "data": {
            "text/plain": [
              "<Figure size 576x576 with 1 Axes>"
            ],
            "image/png": "[encoded data removed]"
          },
          "metadata": {
            "needs_background": "light"
          }
        }
      ],
      "source": [
        "plt.figure(figsize = (8, 8))\n",
        "ax = sns.countplot(df_merge['In-hospital_death'])\n",
        "plt.title('Mortality Distribution')\n",
        "for p in ax.patches:\n",
        "        height = p.get_height()\n",
        "        ax.text(p.get_x() + p.get_width() / 2.0, height + 3,\n",
        "                f\"{round(100 * height / len(df_merge), 2)}%\",\n",
        "                ha = 'center')"
      ]
    },
    {
      "cell_type": "code",
      "execution_count": 35,
      "metadata": {
        "id": "RPW3-auEChQG"
      },
      "outputs": [],
      "source": [
        "#!pip install -U pandasql\n",
        "#from pandasql import sqldf \n",
        "#mysql = lambda q: sqldf(q, globals())\n",
        "#mysql(\"SELECT Gender FROM info_df LIMIT 5;\")\n",
        "#'''\n",
        "#SELECT m.Gender, b.'In-hospital_death'\n",
        "#FROM info_df AS m\n",
        "#INNER JOIN \n",
        "##outcomes_df AS b\n",
        "#ON m.RecordID = b.RecordID;\n",
        "#'''\n",
        "#mysql(query)"
      ]
    },
    {
      "cell_type": "markdown",
      "metadata": {
        "id": "AV5Wvi13QHX3"
      },
      "source": [
        "Mortality Rate Based on Gender:"
      ]
    },
    {
      "cell_type": "code",
      "execution_count": 36,
      "metadata": {
        "id": "61EtKQnsVcv2",
        "colab": {
          "base_uri": "https://localhost:8080/",
          "height": 0
        },
        "outputId": "67752ccc-cdec-402f-94cb-b5bfadbceae2"
      },
      "outputs": [
        {
          "output_type": "display_data",
          "data": {
            "text/plain": [
              "<Figure size 576x576 with 1 Axes>"
            ],
            "image/png": "[encoded data removed]"
          },
          "metadata": {
            "needs_background": "light"
          }
        }
      ],
      "source": [
        "plt.figure(figsize = (8, 8))\n",
        "plt.title('Mortality by Gender')\n",
        "ax = sns.countplot(x = 'Gender', data = df_merge, hue = 'In-hospital_death')\n",
        "for p in ax.patches:\n",
        "        height = p.get_height()\n",
        "        ax.text(p.get_x() + p.get_width() / 2.0, height + 3,\n",
        "                f\"{round(100 * height / len(df_merge), 2)}%\",\n",
        "                ha = 'center')"
      ]
    },
    {
      "cell_type": "markdown",
      "metadata": {
        "id": "lR7xaz24h-9e"
      },
      "source": [
        "Distribution among each ICU_TYPE: Number of patients per ICU"
      ]
    },
    {
      "cell_type": "code",
      "execution_count": 37,
      "metadata": {
        "id": "TJiU9YlDJc-T",
        "colab": {
          "base_uri": "https://localhost:8080/",
          "height": 0
        },
        "outputId": "a1b6b3ef-d988-4d48-8a17-628a796ab525"
      },
      "outputs": [
        {
          "output_type": "display_data",
          "data": {
            "text/plain": [
              "<Figure size 1296x576 with 1 Axes>"
            ],
            "image/png": "[encoded data removed]"
          },
          "metadata": {
            "needs_background": "light"
          }
        }
      ],
      "source": [
        "plt.figure(figsize = (18, 8))\n",
        "plt.subplot(1, 2, 1)\n",
        "plt.title('ICU Type Distribution')\n",
        "ax = sns.countplot(x = 'ICUType', data = df_merge)\n",
        "for p in ax.patches:\n",
        "        height = p.get_height()\n",
        "        ax.text(p.get_x() + p.get_width() / 2.0, height + 3,\n",
        "                f\"{round(100 * height / len(df_merge), 2)}%\",\n",
        "                ha = 'center')\n",
        "        \n"
      ]
    },
    {
      "cell_type": "markdown",
      "metadata": {
        "id": "AU_GC8k0jov9"
      },
      "source": [
        "The Percentage of the In-Hospital_death according to the ICU_TYPE"
      ]
    },
    {
      "cell_type": "markdown",
      "metadata": {
        "id": "RfbkKpaxkNzn"
      },
      "source": [
        "In-hospital death (0: survivor, or 1: died in-hospital) "
      ]
    },
    {
      "cell_type": "code",
      "execution_count": 38,
      "metadata": {
        "id": "aiHuWPlrjXJQ",
        "colab": {
          "base_uri": "https://localhost:8080/",
          "height": 0
        },
        "outputId": "7b9c0dcb-a22a-4898-9249-493ab4d8c0f9"
      },
      "outputs": [
        {
          "output_type": "display_data",
          "data": {
            "text/plain": [
              "<Figure size 1296x576 with 1 Axes>"
            ],
            "image/png": "[encoded data removed]"
          },
          "metadata": {
            "needs_background": "light"
          }
        }
      ],
      "source": [
        "plt.figure(figsize = (18, 8))\n",
        "plt.subplot(1, 2, 2)\n",
        "plt.title('ICU Type Distribution by Mortality')\n",
        "ax = sns.countplot(x = 'ICUType', data = df_merge, hue = 'In-hospital_death')\n",
        "for p in ax.patches:\n",
        "        height = p.get_height()\n",
        "        ax.text(p.get_x() + p.get_width() / 2.0, height + 3,\n",
        "                f\"{round(100 * height / len(df_merge), 2)}%\",\n",
        "                ha = 'center')"
      ]
    },
    {
      "cell_type": "code",
      "execution_count": 39,
      "metadata": {
        "id": "aiegkSC2LAXk",
        "colab": {
          "base_uri": "https://localhost:8080/"
        },
        "outputId": "83a41f3f-f218-413b-ddc1-d24bf1d7b780"
      },
      "outputs": [
        {
          "output_type": "execute_result",
          "data": {
            "text/plain": [
              "<bound method DataFrame.info of          RecordID   Time  Parameter   Value\n",
              "0        140271.0  00:00    DiasABP   71.00\n",
              "1        140271.0  00:00        GCS    3.00\n",
              "2        140271.0  00:00         HR   91.00\n",
              "3        140271.0  00:00        MAP  115.00\n",
              "4        140271.0  00:00     SysABP  178.00\n",
              "...           ...    ...        ...     ...\n",
              "1737975  135127.0  47:47  NIDiasABP   64.00\n",
              "1737976  135127.0  47:47      NIMAP   79.67\n",
              "1737977  135127.0  47:47   NISysABP  111.00\n",
              "1737978  135127.0  47:47      Urine   45.00\n",
              "1737979  135127.0  47:47     Weight   96.40\n",
              "\n",
              "[1737980 rows x 4 columns]>"
            ]
          },
          "metadata": {},
          "execution_count": 39
        }
      ],
      "source": [
        "readings_df.info"
      ]
    },
    {
      "cell_type": "code",
      "execution_count": 40,
      "metadata": {
        "id": "rZznV5N3MaCe",
        "colab": {
          "base_uri": "https://localhost:8080/",
          "height": 0
        },
        "outputId": "a49de2e7-17c8-4681-aa92-565fe497b0bf"
      },
      "outputs": [
        {
          "output_type": "execute_result",
          "data": {
            "text/plain": [
              "    RecordID   Time   Parameter    Value\n",
              "0   140271.0  00:00     DiasABP    71.00\n",
              "1   140271.0  00:00         GCS     3.00\n",
              "2   140271.0  00:00          HR    91.00\n",
              "3   140271.0  00:00         MAP   115.00\n",
              "4   140271.0  00:00      SysABP   178.00\n",
              "5   140271.0  00:00        Temp    36.20\n",
              "6   140271.0  00:00       Urine  1130.00\n",
              "7   140271.0  00:00      Weight    74.50\n",
              "8   140271.0  00:02        FiO2     0.50\n",
              "9   140271.0  00:02    MechVent     1.00\n",
              "10  140271.0  00:05     DiasABP    82.00\n",
              "11  140271.0  00:05          HR    96.00\n",
              "12  140271.0  00:05         MAP   132.00\n",
              "13  140271.0  00:05      SysABP   196.00\n",
              "14  140271.0  00:10       Urine    30.00\n",
              "15  140271.0  00:15     DiasABP    74.00\n",
              "16  140271.0  00:15          HR    87.00\n",
              "17  140271.0  00:15         MAP   119.00\n",
              "18  140271.0  00:15      SysABP   187.00\n",
              "19  140271.0  00:25     DiasABP    73.00\n",
              "20  140271.0  00:25         GCS     3.00\n",
              "21  140271.0  00:25          HR    87.00\n",
              "22  140271.0  00:25         MAP   122.00\n",
              "23  140271.0  00:25      SysABP   187.00\n",
              "24  140271.0  00:30     DiasABP    85.00\n",
              "25  140271.0  00:30          HR    91.00\n",
              "26  140271.0  00:30         MAP   137.00\n",
              "27  140271.0  00:30      SysABP   202.00\n",
              "28  140271.0  00:35     DiasABP    76.00\n",
              "29  140271.0  00:35          HR    86.00\n",
              "30  140271.0  00:35         MAP   124.00\n",
              "31  140271.0  00:35      SysABP   188.00\n",
              "32  140271.0  00:40     DiasABP    75.00\n",
              "33  140271.0  00:40          HR    85.00\n",
              "34  140271.0  00:40         MAP   124.00\n",
              "35  140271.0  00:40      SysABP   189.00\n",
              "36  140271.0  00:41          pH     7.34\n",
              "37  140271.0  00:41       PaCO2    48.00\n",
              "38  140271.0  00:41        PaO2   145.00\n",
              "39  140271.0  00:41        SaO2    98.00\n",
              "40  140271.0  00:43         BUN    34.00\n",
              "41  140271.0  00:43  Creatinine     1.10\n",
              "42  140271.0  00:43     Glucose   158.00\n",
              "43  140271.0  00:43        HCO3    25.00\n",
              "44  140271.0  00:43         HCT    34.10\n",
              "45  140271.0  00:43          Mg     2.10\n",
              "46  140271.0  00:43   Platelets   285.00\n",
              "47  140271.0  00:43           K     5.20\n",
              "48  140271.0  00:43          Na   139.00\n",
              "49  140271.0  00:43         WBC    16.20"
            ],
            "text/html": [
              "\n",
              "  <div id=\"df-13c8fdfd-13f7-4f77-b25d-7b1bbe1458ec\">\n",
              "    <div class=\"colab-df-container\">\n",
              "      <div>\n",
              "<style scoped>\n",
              "    .dataframe tbody tr th:only-of-type {\n",
              "        vertical-align: middle;\n",
              "    }\n",
              "\n",
              "    .dataframe tbody tr th {\n",
              "        vertical-align: top;\n",
              "    }\n",
              "\n",
              "    .dataframe thead th {\n",
              "        text-align: right;\n",
              "    }\n",
              "</style>\n",
              "<table border=\"1\" class=\"dataframe\">\n",
              "  <thead>\n",
              "    <tr style=\"text-align: right;\">\n",
              "      <th></th>\n",
              "      <th>RecordID</th>\n",
              "      <th>Time</th>\n",
              "      <th>Parameter</th>\n",
              "      <th>Value</th>\n",
              "    </tr>\n",
              "  </thead>\n",
              "  <tbody>\n",
              "    <tr>\n",
              "      <th>0</th>\n",
              "      <td>140271.0</td>\n",
              "      <td>00:00</td>\n",
              "      <td>DiasABP</td>\n",
              "      <td>71.00</td>\n",
              "    </tr>\n",
              "    <tr>\n",
              "      <th>1</th>\n",
              "      <td>140271.0</td>\n",
              "      <td>00:00</td>\n",
              "      <td>GCS</td>\n",
              "      <td>3.00</td>\n",
              "    </tr>\n",
              "    <tr>\n",
              "      <th>2</th>\n",
              "      <td>140271.0</td>\n",
              "      <td>00:00</td>\n",
              "      <td>HR</td>\n",
              "      <td>91.00</td>\n",
              "    </tr>\n",
              "    <tr>\n",
              "      <th>3</th>\n",
              "      <td>140271.0</td>\n",
              "      <td>00:00</td>\n",
              "      <td>MAP</td>\n",
              "      <td>115.00</td>\n",
              "    </tr>\n",
              "    <tr>\n",
              "      <th>4</th>\n",
              "      <td>140271.0</td>\n",
              "      <td>00:00</td>\n",
              "      <td>SysABP</td>\n",
              "      <td>178.00</td>\n",
              "    </tr>\n",
              "    <tr>\n",
              "      <th>5</th>\n",
              "      <td>140271.0</td>\n",
              "      <td>00:00</td>\n",
              "      <td>Temp</td>\n",
              "      <td>36.20</td>\n",
              "    </tr>\n",
              "    <tr>\n",
              "      <th>6</th>\n",
              "      <td>140271.0</td>\n",
              "      <td>00:00</td>\n",
              "      <td>Urine</td>\n",
              "      <td>1130.00</td>\n",
              "    </tr>\n",
              "    <tr>\n",
              "      <th>7</th>\n",
              "      <td>140271.0</td>\n",
              "      <td>00:00</td>\n",
              "      <td>Weight</td>\n",
              "      <td>74.50</td>\n",
              "    </tr>\n",
              "    <tr>\n",
              "      <th>8</th>\n",
              "      <td>140271.0</td>\n",
              "      <td>00:02</td>\n",
              "      <td>FiO2</td>\n",
              "      <td>0.50</td>\n",
              "    </tr>\n",
              "    <tr>\n",
              "      <th>9</th>\n",
              "      <td>140271.0</td>\n",
              "      <td>00:02</td>\n",
              "      <td>MechVent</td>\n",
              "      <td>1.00</td>\n",
              "    </tr>\n",
              "    <tr>\n",
              "      <th>10</th>\n",
              "      <td>140271.0</td>\n",
              "      <td>00:05</td>\n",
              "      <td>DiasABP</td>\n",
              "      <td>82.00</td>\n",
              "    </tr>\n",
              "    <tr>\n",
              "      <th>11</th>\n",
              "      <td>140271.0</td>\n",
              "      <td>00:05</td>\n",
              "      <td>HR</td>\n",
              "      <td>96.00</td>\n",
              "    </tr>\n",
              "    <tr>\n",
              "      <th>12</th>\n",
              "      <td>140271.0</td>\n",
              "      <td>00:05</td>\n",
              "      <td>MAP</td>\n",
              "      <td>132.00</td>\n",
              "    </tr>\n",
              "    <tr>\n",
              "      <th>13</th>\n",
              "      <td>140271.0</td>\n",
              "      <td>00:05</td>\n",
              "      <td>SysABP</td>\n",
              "      <td>196.00</td>\n",
              "    </tr>\n",
              "    <tr>\n",
              "      <th>14</th>\n",
              "      <td>140271.0</td>\n",
              "      <td>00:10</td>\n",
              "      <td>Urine</td>\n",
              "      <td>30.00</td>\n",
              "    </tr>\n",
              "    <tr>\n",
              "      <th>15</th>\n",
              "      <td>140271.0</td>\n",
              "      <td>00:15</td>\n",
              "      <td>DiasABP</td>\n",
              "      <td>74.00</td>\n",
              "    </tr>\n",
              "    <tr>\n",
              "      <th>16</th>\n",
              "      <td>140271.0</td>\n",
              "      <td>00:15</td>\n",
              "      <td>HR</td>\n",
              "      <td>87.00</td>\n",
              "    </tr>\n",
              "    <tr>\n",
              "      <th>17</th>\n",
              "      <td>140271.0</td>\n",
              "      <td>00:15</td>\n",
              "      <td>MAP</td>\n",
              "      <td>119.00</td>\n",
              "    </tr>\n",
              "    <tr>\n",
              "      <th>18</th>\n",
              "      <td>140271.0</td>\n",
              "      <td>00:15</td>\n",
              "      <td>SysABP</td>\n",
              "      <td>187.00</td>\n",
              "    </tr>\n",
              "    <tr>\n",
              "      <th>19</th>\n",
              "      <td>140271.0</td>\n",
              "      <td>00:25</td>\n",
              "      <td>DiasABP</td>\n",
              "      <td>73.00</td>\n",
              "    </tr>\n",
              "    <tr>\n",
              "      <th>20</th>\n",
              "      <td>140271.0</td>\n",
              "      <td>00:25</td>\n",
              "      <td>GCS</td>\n",
              "      <td>3.00</td>\n",
              "    </tr>\n",
              "    <tr>\n",
              "      <th>21</th>\n",
              "      <td>140271.0</td>\n",
              "      <td>00:25</td>\n",
              "      <td>HR</td>\n",
              "      <td>87.00</td>\n",
              "    </tr>\n",
              "    <tr>\n",
              "      <th>22</th>\n",
              "      <td>140271.0</td>\n",
              "      <td>00:25</td>\n",
              "      <td>MAP</td>\n",
              "      <td>122.00</td>\n",
              "    </tr>\n",
              "    <tr>\n",
              "      <th>23</th>\n",
              "      <td>140271.0</td>\n",
              "      <td>00:25</td>\n",
              "      <td>SysABP</td>\n",
              "      <td>187.00</td>\n",
              "    </tr>\n",
              "    <tr>\n",
              "      <th>24</th>\n",
              "      <td>140271.0</td>\n",
              "      <td>00:30</td>\n",
              "      <td>DiasABP</td>\n",
              "      <td>85.00</td>\n",
              "    </tr>\n",
              "    <tr>\n",
              "      <th>25</th>\n",
              "      <td>140271.0</td>\n",
              "      <td>00:30</td>\n",
              "      <td>HR</td>\n",
              "      <td>91.00</td>\n",
              "    </tr>\n",
              "    <tr>\n",
              "      <th>26</th>\n",
              "      <td>140271.0</td>\n",
              "      <td>00:30</td>\n",
              "      <td>MAP</td>\n",
              "      <td>137.00</td>\n",
              "    </tr>\n",
              "    <tr>\n",
              "      <th>27</th>\n",
              "      <td>140271.0</td>\n",
              "      <td>00:30</td>\n",
              "      <td>SysABP</td>\n",
              "      <td>202.00</td>\n",
              "    </tr>\n",
              "    <tr>\n",
              "      <th>28</th>\n",
              "      <td>140271.0</td>\n",
              "      <td>00:35</td>\n",
              "      <td>DiasABP</td>\n",
              "      <td>76.00</td>\n",
              "    </tr>\n",
              "    <tr>\n",
              "      <th>29</th>\n",
              "      <td>140271.0</td>\n",
              "      <td>00:35</td>\n",
              "      <td>HR</td>\n",
              "      <td>86.00</td>\n",
              "    </tr>\n",
              "    <tr>\n",
              "      <th>30</th>\n",
              "      <td>140271.0</td>\n",
              "      <td>00:35</td>\n",
              "      <td>MAP</td>\n",
              "      <td>124.00</td>\n",
              "    </tr>\n",
              "    <tr>\n",
              "      <th>31</th>\n",
              "      <td>140271.0</td>\n",
              "      <td>00:35</td>\n",
              "      <td>SysABP</td>\n",
              "      <td>188.00</td>\n",
              "    </tr>\n",
              "    <tr>\n",
              "      <th>32</th>\n",
              "      <td>140271.0</td>\n",
              "      <td>00:40</td>\n",
              "      <td>DiasABP</td>\n",
              "      <td>75.00</td>\n",
              "    </tr>\n",
              "    <tr>\n",
              "      <th>33</th>\n",
              "      <td>140271.0</td>\n",
              "      <td>00:40</td>\n",
              "      <td>HR</td>\n",
              "      <td>85.00</td>\n",
              "    </tr>\n",
              "    <tr>\n",
              "      <th>34</th>\n",
              "      <td>140271.0</td>\n",
              "      <td>00:40</td>\n",
              "      <td>MAP</td>\n",
              "      <td>124.00</td>\n",
              "    </tr>\n",
              "    <tr>\n",
              "      <th>35</th>\n",
              "      <td>140271.0</td>\n",
              "      <td>00:40</td>\n",
              "      <td>SysABP</td>\n",
              "      <td>189.00</td>\n",
              "    </tr>\n",
              "    <tr>\n",
              "      <th>36</th>\n",
              "      <td>140271.0</td>\n",
              "      <td>00:41</td>\n",
              "      <td>pH</td>\n",
              "      <td>7.34</td>\n",
              "    </tr>\n",
              "    <tr>\n",
              "      <th>37</th>\n",
              "      <td>140271.0</td>\n",
              "      <td>00:41</td>\n",
              "      <td>PaCO2</td>\n",
              "      <td>48.00</td>\n",
              "    </tr>\n",
              "    <tr>\n",
              "      <th>38</th>\n",
              "      <td>140271.0</td>\n",
              "      <td>00:41</td>\n",
              "      <td>PaO2</td>\n",
              "      <td>145.00</td>\n",
              "    </tr>\n",
              "    <tr>\n",
              "      <th>39</th>\n",
              "      <td>140271.0</td>\n",
              "      <td>00:41</td>\n",
              "      <td>SaO2</td>\n",
              "      <td>98.00</td>\n",
              "    </tr>\n",
              "    <tr>\n",
              "      <th>40</th>\n",
              "      <td>140271.0</td>\n",
              "      <td>00:43</td>\n",
              "      <td>BUN</td>\n",
              "      <td>34.00</td>\n",
              "    </tr>\n",
              "    <tr>\n",
              "      <th>41</th>\n",
              "      <td>140271.0</td>\n",
              "      <td>00:43</td>\n",
              "      <td>Creatinine</td>\n",
              "      <td>1.10</td>\n",
              "    </tr>\n",
              "    <tr>\n",
              "      <th>42</th>\n",
              "      <td>140271.0</td>\n",
              "      <td>00:43</td>\n",
              "      <td>Glucose</td>\n",
              "      <td>158.00</td>\n",
              "    </tr>\n",
              "    <tr>\n",
              "      <th>43</th>\n",
              "      <td>140271.0</td>\n",
              "      <td>00:43</td>\n",
              "      <td>HCO3</td>\n",
              "      <td>25.00</td>\n",
              "    </tr>\n",
              "    <tr>\n",
              "      <th>44</th>\n",
              "      <td>140271.0</td>\n",
              "      <td>00:43</td>\n",
              "      <td>HCT</td>\n",
              "      <td>34.10</td>\n",
              "    </tr>\n",
              "    <tr>\n",
              "      <th>45</th>\n",
              "      <td>140271.0</td>\n",
              "      <td>00:43</td>\n",
              "      <td>Mg</td>\n",
              "      <td>2.10</td>\n",
              "    </tr>\n",
              "    <tr>\n",
              "      <th>46</th>\n",
              "      <td>140271.0</td>\n",
              "      <td>00:43</td>\n",
              "      <td>Platelets</td>\n",
              "      <td>285.00</td>\n",
              "    </tr>\n",
              "    <tr>\n",
              "      <th>47</th>\n",
              "      <td>140271.0</td>\n",
              "      <td>00:43</td>\n",
              "      <td>K</td>\n",
              "      <td>5.20</td>\n",
              "    </tr>\n",
              "    <tr>\n",
              "      <th>48</th>\n",
              "      <td>140271.0</td>\n",
              "      <td>00:43</td>\n",
              "      <td>Na</td>\n",
              "      <td>139.00</td>\n",
              "    </tr>\n",
              "    <tr>\n",
              "      <th>49</th>\n",
              "      <td>140271.0</td>\n",
              "      <td>00:43</td>\n",
              "      <td>WBC</td>\n",
              "      <td>16.20</td>\n",
              "    </tr>\n",
              "  </tbody>\n",
              "</table>\n",
              "</div>\n",
              "      <button class=\"colab-df-convert\" onclick=\"convertToInteractive('df-13c8fdfd-13f7-4f77-b25d-7b1bbe1458ec')\"\n",
              "              title=\"Convert this dataframe to an interactive table.\"\n",
              "              style=\"display:none;\">\n",
              "        \n",
              "  <svg xmlns=\"http://www.w3.org/2000/svg\" height=\"24px\"viewBox=\"0 0 24 24\"\n",
              "       width=\"24px\">\n",
              "    <path d=\"M0 0h24v24H0V0z\" fill=\"none\"/>\n",
              "    <path d=\"M18.56 5.44l.94 2.06.94-2.06 2.06-.94-2.06-.94-.94-2.06-.94 2.06-2.06.94zm-11 1L8.5 8.5l.94-2.06 2.06-.94-2.06-.94L8.5 2.5l-.94 2.06-2.06.94zm10 10l.94 2.06.94-2.06 2.06-.94-2.06-.94-.94-2.06-.94 2.06-2.06.94z\"/><path d=\"M17.41 7.96l-1.37-1.37c-.4-.4-.92-.59-1.43-.59-.52 0-1.04.2-1.43.59L10.3 9.45l-7.72 7.72c-.78.78-.78 2.05 0 2.83L4 21.41c.39.39.9.59 1.41.59.51 0 1.02-.2 1.41-.59l7.78-7.78 2.81-2.81c.8-.78.8-2.07 0-2.86zM5.41 20L4 18.59l7.72-7.72 1.47 1.35L5.41 20z\"/>\n",
              "  </svg>\n",
              "      </button>\n",
              "      \n",
              "  <style>\n",
              "    .colab-df-container {\n",
              "      display:flex;\n",
              "      flex-wrap:wrap;\n",
              "      gap: 12px;\n",
              "    }\n",
              "\n",
              "    .colab-df-convert {\n",
              "      background-color: #E8F0FE;\n",
              "      border: none;\n",
              "      border-radius: 50%;\n",
              "      cursor: pointer;\n",
              "      display: none;\n",
              "      fill: #1967D2;\n",
              "      height: 32px;\n",
              "      padding: 0 0 0 0;\n",
              "      width: 32px;\n",
              "    }\n",
              "\n",
              "    .colab-df-convert:hover {\n",
              "      background-color: #E2EBFA;\n",
              "      box-shadow: 0px 1px 2px rgba(60, 64, 67, 0.3), 0px 1px 3px 1px rgba(60, 64, 67, 0.15);\n",
              "      fill: #174EA6;\n",
              "    }\n",
              "\n",
              "    [theme=dark] .colab-df-convert {\n",
              "      background-color: #3B4455;\n",
              "      fill: #D2E3FC;\n",
              "    }\n",
              "\n",
              "    [theme=dark] .colab-df-convert:hover {\n",
              "      background-color: #434B5C;\n",
              "      box-shadow: 0px 1px 3px 1px rgba(0, 0, 0, 0.15);\n",
              "      filter: drop-shadow(0px 1px 2px rgba(0, 0, 0, 0.3));\n",
              "      fill: #FFFFFF;\n",
              "    }\n",
              "  </style>\n",
              "\n",
              "      <script>\n",
              "        const buttonEl =\n",
              "          document.querySelector('#df-13c8fdfd-13f7-4f77-b25d-7b1bbe1458ec button.colab-df-convert');\n",
              "        buttonEl.style.display =\n",
              "          google.colab.kernel.accessAllowed ? 'block' : 'none';\n",
              "\n",
              "        async function convertToInteractive(key) {\n",
              "          const element = document.querySelector('#df-13c8fdfd-13f7-4f77-b25d-7b1bbe1458ec');\n",
              "          const dataTable =\n",
              "            await google.colab.kernel.invokeFunction('convertToInteractive',\n",
              "                                                     [key], {});\n",
              "          if (!dataTable) return;\n",
              "\n",
              "          const docLinkHtml = 'Like what you see? Visit the ' +\n",
              "            '<a target=\"_blank\" href=https://colab.research.google.com/notebooks/data_table.ipynb>data table notebook</a>'\n",
              "            + ' to learn more about interactive tables.';\n",
              "          element.innerHTML = '';\n",
              "          dataTable['output_type'] = 'display_data';\n",
              "          await google.colab.output.renderOutput(dataTable, element);\n",
              "          const docLink = document.createElement('div');\n",
              "          docLink.innerHTML = docLinkHtml;\n",
              "          element.appendChild(docLink);\n",
              "        }\n",
              "      </script>\n",
              "    </div>\n",
              "  </div>\n",
              "  "
            ]
          },
          "metadata": {},
          "execution_count": 40
        }
      ],
      "source": [
        "readings_df.head(50)"
      ]
    },
    {
      "cell_type": "code",
      "execution_count": 41,
      "metadata": {
        "id": "Vlo_3JtrNNov",
        "colab": {
          "base_uri": "https://localhost:8080/"
        },
        "outputId": "c273f810-336d-46c1-d2c3-dfcc0b9438ac"
      },
      "outputs": [
        {
          "output_type": "execute_result",
          "data": {
            "text/plain": [
              "135365.0    1497\n",
              "137996.0     980\n",
              "133780.0     974\n",
              "135481.0     958\n",
              "138221.0     958\n",
              "            ... \n",
              "133628.0       6\n",
              "139060.0       2\n",
              "140501.0       1\n",
              "140936.0       1\n",
              "141264.0       1\n",
              "Name: RecordID, Length: 4000, dtype: int64"
            ]
          },
          "metadata": {},
          "execution_count": 41
        }
      ],
      "source": [
        "readings_df['RecordID'].value_counts()"
      ]
    },
    {
      "cell_type": "code",
      "execution_count": 42,
      "metadata": {
        "id": "WsNRvKzsNeZL",
        "colab": {
          "base_uri": "https://localhost:8080/"
        },
        "outputId": "509dc2e1-2c9b-4a0e-e648-04fd1f5cd3cb"
      },
      "outputs": [
        {
          "output_type": "execute_result",
          "data": {
            "text/plain": [
              "RecordID     0\n",
              "Time         0\n",
              "Parameter    0\n",
              "Value        0\n",
              "dtype: int64"
            ]
          },
          "metadata": {},
          "execution_count": 42
        }
      ],
      "source": [
        "readings_df.isnull().sum()"
      ]
    },
    {
      "cell_type": "code",
      "execution_count": 43,
      "metadata": {
        "id": "umk6osKdRlt6",
        "colab": {
          "base_uri": "https://localhost:8080/"
        },
        "outputId": "71b88d34-a850-40df-ea73-a32bc8749a6f"
      },
      "outputs": [
        {
          "output_type": "execute_result",
          "data": {
            "text/plain": [
              "(4000, 6)"
            ]
          },
          "metadata": {},
          "execution_count": 43
        }
      ],
      "source": [
        "outcomes_df.shape"
      ]
    },
    {
      "cell_type": "markdown",
      "metadata": {
        "id": "pPXW-JV3Sufu"
      },
      "source": [
        "Getting the means corresponding to each patient readings in a new dataset:"
      ]
    },
    {
      "cell_type": "code",
      "execution_count": 44,
      "metadata": {
        "id": "gJzkFFyLTibW"
      },
      "outputs": [],
      "source": [
        "data = {'Albumin ',\n",
        "'ALP ',\n",
        "'ALT',\n",
        "'AST',\n",
        "'Bilirubin',\n",
        "'BUN',\n",
        "'Cholesterol',\n",
        "'Creatinine',\n",
        "'DiasABP',\n",
        "'FiO2',\n",
        "'GCS',\n",
        "'Glucose',\n",
        "'HCO3',\n",
        "'HCT',\n",
        "'HR',\n",
        "'K',\n",
        "'Lactate',\n",
        "'Mg',\n",
        "'MAP',\n",
        "'MechVent',\n",
        "'Na',\n",
        "'NIDiasABP',\n",
        "'NIMAP',\n",
        "'NISysABP',\n",
        "'PaCO2',\n",
        "'PaO2',\n",
        "'pH',\n",
        "'Platelets',\n",
        "'RespRate',\n",
        "'SaO2',\n",
        "'SysABP' , 'Temp' ,'TropI' ,'TropT' ,'Urine','WBC',\n",
        "'Weight'} "
      ]
    },
    {
      "cell_type": "markdown",
      "metadata": {
        "id": "sT2-sVI1pL_1"
      },
      "source": [
        "\n",
        "\n",
        "\n",
        "# Aya :  Creating Dataset of the avg ,min, max value of every parameter for each patient\n",
        "##### 2 - Trial to convert the million records to 4000 records#####"
      ]
    },
    {
      "cell_type": "code",
      "execution_count": 45,
      "metadata": {
        "id": "3-WiF4_p8_Fl"
      },
      "outputs": [],
      "source": [
        "readings_df_copy = pd.read_csv(directory + 'readings.csv')\n"
      ]
    },
    {
      "cell_type": "markdown",
      "metadata": {
        "id": "-X8yZZu9jmmq"
      },
      "source": [
        "# grouped_multiple : is a dataset contains the mean , min , max values per patient per parameter.\n",
        "saved to csv file named:  to_csv('dfmeans_values_Aya.csv')"
      ]
    },
    {
      "cell_type": "code",
      "execution_count": 46,
      "metadata": {
        "id": "jIcjTVNo9BAs",
        "colab": {
          "base_uri": "https://localhost:8080/"
        },
        "outputId": "33cbbeef-406e-4c7b-dfdc-32b39d52c899"
      },
      "outputs": [
        {
          "output_type": "stream",
          "name": "stdout",
          "text": [
            "        RecordID   Parameter        mean     min     max\n",
            "0       132539.0         BUN   10.500000    8.00   13.00\n",
            "1       132539.0  Creatinine    0.750000    0.70    0.80\n",
            "2       132539.0         GCS   14.923077   14.00   15.00\n",
            "3       132539.0     Glucose  160.000000  115.00  205.00\n",
            "4       132539.0        HCO3   27.000000   26.00   28.00\n",
            "...          ...         ...         ...     ...     ...\n",
            "106988  142673.0        Temp   36.381395   34.60   37.90\n",
            "106989  142673.0       Urine   57.750000    0.00  500.00\n",
            "106990  142673.0         WBC    9.228571    4.80   11.90\n",
            "106991  142673.0      Weight   87.838889   70.70   88.80\n",
            "106992  142673.0          pH    7.305600    7.03    7.42\n",
            "\n",
            "[106993 rows x 5 columns]\n"
          ]
        }
      ],
      "source": [
        "grouped_multiple = readings_df_copy.groupby(['RecordID', 'Parameter']).agg({'Value': ['mean', 'min', 'max']})\n",
        "grouped_multiple.columns = ['mean', 'min', 'max']\n",
        "grouped_multiple = grouped_multiple.reset_index()\n",
        "print(grouped_multiple)"
      ]
    },
    {
      "cell_type": "code",
      "execution_count": 47,
      "metadata": {
        "id": "9jT4UbZE9GBP"
      },
      "outputs": [],
      "source": [
        "grouped_multiple.to_csv('dfmeans_values_Aya.csv')"
      ]
    },
    {
      "cell_type": "code",
      "execution_count": 48,
      "metadata": {
        "id": "dkf_-_JQAYw8",
        "colab": {
          "base_uri": "https://localhost:8080/"
        },
        "outputId": "c983d822-2e3c-4d43-ae16-29f30d11401b"
      },
      "outputs": [
        {
          "output_type": "execute_result",
          "data": {
            "text/plain": [
              "RecordID     0\n",
              "Parameter    0\n",
              "mean         0\n",
              "min          0\n",
              "max          0\n",
              "dtype: int64"
            ]
          },
          "metadata": {},
          "execution_count": 48
        }
      ],
      "source": [
        "grouped_multiple.isnull().sum()"
      ]
    },
    {
      "cell_type": "code",
      "execution_count": 49,
      "metadata": {
        "id": "6Cs5eRT8SMc1",
        "colab": {
          "base_uri": "https://localhost:8080/"
        },
        "outputId": "2df91b8e-6989-418b-c86f-86b1d6d902ca"
      },
      "outputs": [
        {
          "output_type": "execute_result",
          "data": {
            "text/plain": [
              "Weight         4000\n",
              "HR             3937\n",
              "HCT            3936\n",
              "Creatinine     3936\n",
              "Temp           3936\n",
              "BUN            3936\n",
              "GCS            3936\n",
              "Platelets      3932\n",
              "WBC            3927\n",
              "Na             3925\n",
              "HCO3           3924\n",
              "K              3904\n",
              "Mg             3897\n",
              "Glucose        3887\n",
              "Urine          3883\n",
              "NISysABP       3493\n",
              "NIDiasABP      3483\n",
              "NIMAP          3481\n",
              "pH             3040\n",
              "PaCO2          3023\n",
              "PaO2           3023\n",
              "DiasABP        2799\n",
              "SysABP         2799\n",
              "MAP            2792\n",
              "FiO2           2717\n",
              "MechVent       2529\n",
              "Lactate        2183\n",
              "SaO2           1792\n",
              "AST            1725\n",
              "ALT            1721\n",
              "Bilirubin      1718\n",
              "ALP            1690\n",
              "Albumin        1615\n",
              "RespRate       1101\n",
              "TroponinT       863\n",
              "Cholesterol     305\n",
              "TroponinI       205\n",
              "Name: Parameter, dtype: int64"
            ]
          },
          "metadata": {},
          "execution_count": 49
        }
      ],
      "source": [
        "# How many entries are there for each Parameter?\n",
        "# Checking Whether \n",
        "grouped_multiple['Parameter'].value_counts()"
      ]
    },
    {
      "cell_type": "code",
      "execution_count": 50,
      "metadata": {
        "id": "Yuf3BvfbldKB",
        "colab": {
          "base_uri": "https://localhost:8080/",
          "height": 424
        },
        "outputId": "6df52ef6-325d-449c-b516-11bf21da1ed0"
      },
      "outputs": [
        {
          "output_type": "execute_result",
          "data": {
            "text/plain": [
              "        RecordID   Parameter        mean\n",
              "0       132539.0         BUN   10.500000\n",
              "1       132539.0  Creatinine    0.750000\n",
              "2       132539.0         GCS   14.923077\n",
              "3       132539.0     Glucose  160.000000\n",
              "4       132539.0        HCO3   27.000000\n",
              "...          ...         ...         ...\n",
              "106988  142673.0        Temp   36.381395\n",
              "106989  142673.0       Urine   57.750000\n",
              "106990  142673.0         WBC    9.228571\n",
              "106991  142673.0      Weight   87.838889\n",
              "106992  142673.0          pH    7.305600\n",
              "\n",
              "[106993 rows x 3 columns]"
            ],
            "text/html": [
              "\n",
              "  <div id=\"df-b48df503-2aa8-4b28-9824-2dbac5d55162\">\n",
              "    <div class=\"colab-df-container\">\n",
              "      <div>\n",
              "<style scoped>\n",
              "    .dataframe tbody tr th:only-of-type {\n",
              "        vertical-align: middle;\n",
              "    }\n",
              "\n",
              "    .dataframe tbody tr th {\n",
              "        vertical-align: top;\n",
              "    }\n",
              "\n",
              "    .dataframe thead th {\n",
              "        text-align: right;\n",
              "    }\n",
              "</style>\n",
              "<table border=\"1\" class=\"dataframe\">\n",
              "  <thead>\n",
              "    <tr style=\"text-align: right;\">\n",
              "      <th></th>\n",
              "      <th>RecordID</th>\n",
              "      <th>Parameter</th>\n",
              "      <th>mean</th>\n",
              "    </tr>\n",
              "  </thead>\n",
              "  <tbody>\n",
              "    <tr>\n",
              "      <th>0</th>\n",
              "      <td>132539.0</td>\n",
              "      <td>BUN</td>\n",
              "      <td>10.500000</td>\n",
              "    </tr>\n",
              "    <tr>\n",
              "      <th>1</th>\n",
              "      <td>132539.0</td>\n",
              "      <td>Creatinine</td>\n",
              "      <td>0.750000</td>\n",
              "    </tr>\n",
              "    <tr>\n",
              "      <th>2</th>\n",
              "      <td>132539.0</td>\n",
              "      <td>GCS</td>\n",
              "      <td>14.923077</td>\n",
              "    </tr>\n",
              "    <tr>\n",
              "      <th>3</th>\n",
              "      <td>132539.0</td>\n",
              "      <td>Glucose</td>\n",
              "      <td>160.000000</td>\n",
              "    </tr>\n",
              "    <tr>\n",
              "      <th>4</th>\n",
              "      <td>132539.0</td>\n",
              "      <td>HCO3</td>\n",
              "      <td>27.000000</td>\n",
              "    </tr>\n",
              "    <tr>\n",
              "      <th>...</th>\n",
              "      <td>...</td>\n",
              "      <td>...</td>\n",
              "      <td>...</td>\n",
              "    </tr>\n",
              "    <tr>\n",
              "      <th>106988</th>\n",
              "      <td>142673.0</td>\n",
              "      <td>Temp</td>\n",
              "      <td>36.381395</td>\n",
              "    </tr>\n",
              "    <tr>\n",
              "      <th>106989</th>\n",
              "      <td>142673.0</td>\n",
              "      <td>Urine</td>\n",
              "      <td>57.750000</td>\n",
              "    </tr>\n",
              "    <tr>\n",
              "      <th>106990</th>\n",
              "      <td>142673.0</td>\n",
              "      <td>WBC</td>\n",
              "      <td>9.228571</td>\n",
              "    </tr>\n",
              "    <tr>\n",
              "      <th>106991</th>\n",
              "      <td>142673.0</td>\n",
              "      <td>Weight</td>\n",
              "      <td>87.838889</td>\n",
              "    </tr>\n",
              "    <tr>\n",
              "      <th>106992</th>\n",
              "      <td>142673.0</td>\n",
              "      <td>pH</td>\n",
              "      <td>7.305600</td>\n",
              "    </tr>\n",
              "  </tbody>\n",
              "</table>\n",
              "<p>106993 rows × 3 columns</p>\n",
              "</div>\n",
              "      <button class=\"colab-df-convert\" onclick=\"convertToInteractive('df-b48df503-2aa8-4b28-9824-2dbac5d55162')\"\n",
              "              title=\"Convert this dataframe to an interactive table.\"\n",
              "              style=\"display:none;\">\n",
              "        \n",
              "  <svg xmlns=\"http://www.w3.org/2000/svg\" height=\"24px\"viewBox=\"0 0 24 24\"\n",
              "       width=\"24px\">\n",
              "    <path d=\"M0 0h24v24H0V0z\" fill=\"none\"/>\n",
              "    <path d=\"M18.56 5.44l.94 2.06.94-2.06 2.06-.94-2.06-.94-.94-2.06-.94 2.06-2.06.94zm-11 1L8.5 8.5l.94-2.06 2.06-.94-2.06-.94L8.5 2.5l-.94 2.06-2.06.94zm10 10l.94 2.06.94-2.06 2.06-.94-2.06-.94-.94-2.06-.94 2.06-2.06.94z\"/><path d=\"M17.41 7.96l-1.37-1.37c-.4-.4-.92-.59-1.43-.59-.52 0-1.04.2-1.43.59L10.3 9.45l-7.72 7.72c-.78.78-.78 2.05 0 2.83L4 21.41c.39.39.9.59 1.41.59.51 0 1.02-.2 1.41-.59l7.78-7.78 2.81-2.81c.8-.78.8-2.07 0-2.86zM5.41 20L4 18.59l7.72-7.72 1.47 1.35L5.41 20z\"/>\n",
              "  </svg>\n",
              "      </button>\n",
              "      \n",
              "  <style>\n",
              "    .colab-df-container {\n",
              "      display:flex;\n",
              "      flex-wrap:wrap;\n",
              "      gap: 12px;\n",
              "    }\n",
              "\n",
              "    .colab-df-convert {\n",
              "      background-color: #E8F0FE;\n",
              "      border: none;\n",
              "      border-radius: 50%;\n",
              "      cursor: pointer;\n",
              "      display: none;\n",
              "      fill: #1967D2;\n",
              "      height: 32px;\n",
              "      padding: 0 0 0 0;\n",
              "      width: 32px;\n",
              "    }\n",
              "\n",
              "    .colab-df-convert:hover {\n",
              "      background-color: #E2EBFA;\n",
              "      box-shadow: 0px 1px 2px rgba(60, 64, 67, 0.3), 0px 1px 3px 1px rgba(60, 64, 67, 0.15);\n",
              "      fill: #174EA6;\n",
              "    }\n",
              "\n",
              "    [theme=dark] .colab-df-convert {\n",
              "      background-color: #3B4455;\n",
              "      fill: #D2E3FC;\n",
              "    }\n",
              "\n",
              "    [theme=dark] .colab-df-convert:hover {\n",
              "      background-color: #434B5C;\n",
              "      box-shadow: 0px 1px 3px 1px rgba(0, 0, 0, 0.15);\n",
              "      filter: drop-shadow(0px 1px 2px rgba(0, 0, 0, 0.3));\n",
              "      fill: #FFFFFF;\n",
              "    }\n",
              "  </style>\n",
              "\n",
              "      <script>\n",
              "        const buttonEl =\n",
              "          document.querySelector('#df-b48df503-2aa8-4b28-9824-2dbac5d55162 button.colab-df-convert');\n",
              "        buttonEl.style.display =\n",
              "          google.colab.kernel.accessAllowed ? 'block' : 'none';\n",
              "\n",
              "        async function convertToInteractive(key) {\n",
              "          const element = document.querySelector('#df-b48df503-2aa8-4b28-9824-2dbac5d55162');\n",
              "          const dataTable =\n",
              "            await google.colab.kernel.invokeFunction('convertToInteractive',\n",
              "                                                     [key], {});\n",
              "          if (!dataTable) return;\n",
              "\n",
              "          const docLinkHtml = 'Like what you see? Visit the ' +\n",
              "            '<a target=\"_blank\" href=https://colab.research.google.com/notebooks/data_table.ipynb>data table notebook</a>'\n",
              "            + ' to learn more about interactive tables.';\n",
              "          element.innerHTML = '';\n",
              "          dataTable['output_type'] = 'display_data';\n",
              "          await google.colab.output.renderOutput(dataTable, element);\n",
              "          const docLink = document.createElement('div');\n",
              "          docLink.innerHTML = docLinkHtml;\n",
              "          element.appendChild(docLink);\n",
              "        }\n",
              "      </script>\n",
              "    </div>\n",
              "  </div>\n",
              "  "
            ]
          },
          "metadata": {},
          "execution_count": 50
        }
      ],
      "source": [
        "grouped_multiple.drop(['min', 'max'], axis=1)"
      ]
    },
    {
      "cell_type": "code",
      "execution_count": 51,
      "metadata": {
        "id": "W49ZJ5bQIWew",
        "colab": {
          "base_uri": "https://localhost:8080/"
        },
        "outputId": "218c0fac-76c2-49e4-febe-c756c5719212"
      },
      "outputs": [
        {
          "output_type": "execute_result",
          "data": {
            "text/plain": [
              "RecordID     0\n",
              "Parameter    0\n",
              "mean         0\n",
              "min          0\n",
              "max          0\n",
              "dtype: int64"
            ]
          },
          "metadata": {},
          "execution_count": 51
        }
      ],
      "source": [
        "grouped_multiple.isnull().sum()"
      ]
    },
    {
      "cell_type": "markdown",
      "metadata": {
        "id": "FnXnNlbkkIOD"
      },
      "source": [
        "Creating new dataset excluding parameters not measured in more than 50 % of the patients : grouped_multiple_less_2000"
      ]
    },
    {
      "cell_type": "code",
      "execution_count": 52,
      "metadata": {
        "id": "4j-zLshIU247",
        "colab": {
          "base_uri": "https://localhost:8080/",
          "height": 424
        },
        "outputId": "b1984b3f-5b99-4d70-af01-23b9308931cc"
      },
      "outputs": [
        {
          "output_type": "execute_result",
          "data": {
            "text/plain": [
              "        RecordID   Parameter        mean     min     max\n",
              "0       132539.0         BUN   10.500000    8.00   13.00\n",
              "1       132539.0  Creatinine    0.750000    0.70    0.80\n",
              "2       132539.0         GCS   14.923077   14.00   15.00\n",
              "3       132539.0     Glucose  160.000000  115.00  205.00\n",
              "4       132539.0        HCO3   27.000000   26.00   28.00\n",
              "...          ...         ...         ...     ...     ...\n",
              "106988  142673.0        Temp   36.381395   34.60   37.90\n",
              "106989  142673.0       Urine   57.750000    0.00  500.00\n",
              "106990  142673.0         WBC    9.228571    4.80   11.90\n",
              "106991  142673.0      Weight   87.838889   70.70   88.80\n",
              "106992  142673.0          pH    7.305600    7.03    7.42\n",
              "\n",
              "[94258 rows x 5 columns]"
            ],
            "text/html": [
              "\n",
              "  <div id=\"df-cf2b7a28-a9d5-4579-a2e3-793920185d05\">\n",
              "    <div class=\"colab-df-container\">\n",
              "      <div>\n",
              "<style scoped>\n",
              "    .dataframe tbody tr th:only-of-type {\n",
              "        vertical-align: middle;\n",
              "    }\n",
              "\n",
              "    .dataframe tbody tr th {\n",
              "        vertical-align: top;\n",
              "    }\n",
              "\n",
              "    .dataframe thead th {\n",
              "        text-align: right;\n",
              "    }\n",
              "</style>\n",
              "<table border=\"1\" class=\"dataframe\">\n",
              "  <thead>\n",
              "    <tr style=\"text-align: right;\">\n",
              "      <th></th>\n",
              "      <th>RecordID</th>\n",
              "      <th>Parameter</th>\n",
              "      <th>mean</th>\n",
              "      <th>min</th>\n",
              "      <th>max</th>\n",
              "    </tr>\n",
              "  </thead>\n",
              "  <tbody>\n",
              "    <tr>\n",
              "      <th>0</th>\n",
              "      <td>132539.0</td>\n",
              "      <td>BUN</td>\n",
              "      <td>10.500000</td>\n",
              "      <td>8.00</td>\n",
              "      <td>13.00</td>\n",
              "    </tr>\n",
              "    <tr>\n",
              "      <th>1</th>\n",
              "      <td>132539.0</td>\n",
              "      <td>Creatinine</td>\n",
              "      <td>0.750000</td>\n",
              "      <td>0.70</td>\n",
              "      <td>0.80</td>\n",
              "    </tr>\n",
              "    <tr>\n",
              "      <th>2</th>\n",
              "      <td>132539.0</td>\n",
              "      <td>GCS</td>\n",
              "      <td>14.923077</td>\n",
              "      <td>14.00</td>\n",
              "      <td>15.00</td>\n",
              "    </tr>\n",
              "    <tr>\n",
              "      <th>3</th>\n",
              "      <td>132539.0</td>\n",
              "      <td>Glucose</td>\n",
              "      <td>160.000000</td>\n",
              "      <td>115.00</td>\n",
              "      <td>205.00</td>\n",
              "    </tr>\n",
              "    <tr>\n",
              "      <th>4</th>\n",
              "      <td>132539.0</td>\n",
              "      <td>HCO3</td>\n",
              "      <td>27.000000</td>\n",
              "      <td>26.00</td>\n",
              "      <td>28.00</td>\n",
              "    </tr>\n",
              "    <tr>\n",
              "      <th>...</th>\n",
              "      <td>...</td>\n",
              "      <td>...</td>\n",
              "      <td>...</td>\n",
              "      <td>...</td>\n",
              "      <td>...</td>\n",
              "    </tr>\n",
              "    <tr>\n",
              "      <th>106988</th>\n",
              "      <td>142673.0</td>\n",
              "      <td>Temp</td>\n",
              "      <td>36.381395</td>\n",
              "      <td>34.60</td>\n",
              "      <td>37.90</td>\n",
              "    </tr>\n",
              "    <tr>\n",
              "      <th>106989</th>\n",
              "      <td>142673.0</td>\n",
              "      <td>Urine</td>\n",
              "      <td>57.750000</td>\n",
              "      <td>0.00</td>\n",
              "      <td>500.00</td>\n",
              "    </tr>\n",
              "    <tr>\n",
              "      <th>106990</th>\n",
              "      <td>142673.0</td>\n",
              "      <td>WBC</td>\n",
              "      <td>9.228571</td>\n",
              "      <td>4.80</td>\n",
              "      <td>11.90</td>\n",
              "    </tr>\n",
              "    <tr>\n",
              "      <th>106991</th>\n",
              "      <td>142673.0</td>\n",
              "      <td>Weight</td>\n",
              "      <td>87.838889</td>\n",
              "      <td>70.70</td>\n",
              "      <td>88.80</td>\n",
              "    </tr>\n",
              "    <tr>\n",
              "      <th>106992</th>\n",
              "      <td>142673.0</td>\n",
              "      <td>pH</td>\n",
              "      <td>7.305600</td>\n",
              "      <td>7.03</td>\n",
              "      <td>7.42</td>\n",
              "    </tr>\n",
              "  </tbody>\n",
              "</table>\n",
              "<p>94258 rows × 5 columns</p>\n",
              "</div>\n",
              "      <button class=\"colab-df-convert\" onclick=\"convertToInteractive('df-cf2b7a28-a9d5-4579-a2e3-793920185d05')\"\n",
              "              title=\"Convert this dataframe to an interactive table.\"\n",
              "              style=\"display:none;\">\n",
              "        \n",
              "  <svg xmlns=\"http://www.w3.org/2000/svg\" height=\"24px\"viewBox=\"0 0 24 24\"\n",
              "       width=\"24px\">\n",
              "    <path d=\"M0 0h24v24H0V0z\" fill=\"none\"/>\n",
              "    <path d=\"M18.56 5.44l.94 2.06.94-2.06 2.06-.94-2.06-.94-.94-2.06-.94 2.06-2.06.94zm-11 1L8.5 8.5l.94-2.06 2.06-.94-2.06-.94L8.5 2.5l-.94 2.06-2.06.94zm10 10l.94 2.06.94-2.06 2.06-.94-2.06-.94-.94-2.06-.94 2.06-2.06.94z\"/><path d=\"M17.41 7.96l-1.37-1.37c-.4-.4-.92-.59-1.43-.59-.52 0-1.04.2-1.43.59L10.3 9.45l-7.72 7.72c-.78.78-.78 2.05 0 2.83L4 21.41c.39.39.9.59 1.41.59.51 0 1.02-.2 1.41-.59l7.78-7.78 2.81-2.81c.8-.78.8-2.07 0-2.86zM5.41 20L4 18.59l7.72-7.72 1.47 1.35L5.41 20z\"/>\n",
              "  </svg>\n",
              "      </button>\n",
              "      \n",
              "  <style>\n",
              "    .colab-df-container {\n",
              "      display:flex;\n",
              "      flex-wrap:wrap;\n",
              "      gap: 12px;\n",
              "    }\n",
              "\n",
              "    .colab-df-convert {\n",
              "      background-color: #E8F0FE;\n",
              "      border: none;\n",
              "      border-radius: 50%;\n",
              "      cursor: pointer;\n",
              "      display: none;\n",
              "      fill: #1967D2;\n",
              "      height: 32px;\n",
              "      padding: 0 0 0 0;\n",
              "      width: 32px;\n",
              "    }\n",
              "\n",
              "    .colab-df-convert:hover {\n",
              "      background-color: #E2EBFA;\n",
              "      box-shadow: 0px 1px 2px rgba(60, 64, 67, 0.3), 0px 1px 3px 1px rgba(60, 64, 67, 0.15);\n",
              "      fill: #174EA6;\n",
              "    }\n",
              "\n",
              "    [theme=dark] .colab-df-convert {\n",
              "      background-color: #3B4455;\n",
              "      fill: #D2E3FC;\n",
              "    }\n",
              "\n",
              "    [theme=dark] .colab-df-convert:hover {\n",
              "      background-color: #434B5C;\n",
              "      box-shadow: 0px 1px 3px 1px rgba(0, 0, 0, 0.15);\n",
              "      filter: drop-shadow(0px 1px 2px rgba(0, 0, 0, 0.3));\n",
              "      fill: #FFFFFF;\n",
              "    }\n",
              "  </style>\n",
              "\n",
              "      <script>\n",
              "        const buttonEl =\n",
              "          document.querySelector('#df-cf2b7a28-a9d5-4579-a2e3-793920185d05 button.colab-df-convert');\n",
              "        buttonEl.style.display =\n",
              "          google.colab.kernel.accessAllowed ? 'block' : 'none';\n",
              "\n",
              "        async function convertToInteractive(key) {\n",
              "          const element = document.querySelector('#df-cf2b7a28-a9d5-4579-a2e3-793920185d05');\n",
              "          const dataTable =\n",
              "            await google.colab.kernel.invokeFunction('convertToInteractive',\n",
              "                                                     [key], {});\n",
              "          if (!dataTable) return;\n",
              "\n",
              "          const docLinkHtml = 'Like what you see? Visit the ' +\n",
              "            '<a target=\"_blank\" href=https://colab.research.google.com/notebooks/data_table.ipynb>data table notebook</a>'\n",
              "            + ' to learn more about interactive tables.';\n",
              "          element.innerHTML = '';\n",
              "          dataTable['output_type'] = 'display_data';\n",
              "          await google.colab.output.renderOutput(dataTable, element);\n",
              "          const docLink = document.createElement('div');\n",
              "          docLink.innerHTML = docLinkHtml;\n",
              "          element.appendChild(docLink);\n",
              "        }\n",
              "      </script>\n",
              "    </div>\n",
              "  </div>\n",
              "  "
            ]
          },
          "metadata": {},
          "execution_count": 52
        }
      ],
      "source": [
        "# Setting a threshold if the count of a certain parameter is less than 2000 which means 50% of the patients don't have values, it will be ignored\n",
        "#define values\n",
        "values = ['SaO2', 'AST', 'ALT','Bilirubin','ALP','Albumin','RespRate','TroponinT','Cholesterol','TroponinI']\n",
        "\n",
        "#drop rows that contain any value in the list\n",
        "grouped_multiple_less_2000 = grouped_multiple[grouped_multiple.Parameter.isin(values) == False]\n",
        "grouped_multiple_less_2000"
      ]
    },
    {
      "cell_type": "code",
      "execution_count": 53,
      "metadata": {
        "id": "hAkmDXCgWkV8",
        "colab": {
          "base_uri": "https://localhost:8080/"
        },
        "outputId": "9955d1d1-2d53-45c1-cff0-3ebc926ecf26"
      },
      "outputs": [
        {
          "output_type": "execute_result",
          "data": {
            "text/plain": [
              "Weight        4000\n",
              "HR            3937\n",
              "BUN           3936\n",
              "Creatinine    3936\n",
              "GCS           3936\n",
              "Temp          3936\n",
              "HCT           3936\n",
              "Platelets     3932\n",
              "WBC           3927\n",
              "Na            3925\n",
              "HCO3          3924\n",
              "K             3904\n",
              "Mg            3897\n",
              "Glucose       3887\n",
              "Urine         3883\n",
              "NISysABP      3493\n",
              "NIDiasABP     3483\n",
              "NIMAP         3481\n",
              "pH            3040\n",
              "PaCO2         3023\n",
              "PaO2          3023\n",
              "DiasABP       2799\n",
              "SysABP        2799\n",
              "MAP           2792\n",
              "FiO2          2717\n",
              "MechVent      2529\n",
              "Lactate       2183\n",
              "Name: Parameter, dtype: int64"
            ]
          },
          "metadata": {},
          "execution_count": 53
        }
      ],
      "source": [
        "grouped_multiple_less_2000['Parameter'].value_counts()"
      ]
    },
    {
      "cell_type": "code",
      "execution_count": 54,
      "metadata": {
        "id": "uat1EmncTk2V",
        "colab": {
          "base_uri": "https://localhost:8080/"
        },
        "outputId": "a4cdb0b0-2167-44ff-b5dd-c30a6d244f96"
      },
      "outputs": [
        {
          "output_type": "stream",
          "name": "stdout",
          "text": [
            "RecordID    0\n",
            "Weight      0\n",
            "dtype: int64\n"
          ]
        },
        {
          "output_type": "stream",
          "name": "stderr",
          "text": [
            "/usr/local/lib/python3.7/dist-packages/pandas/core/frame.py:5047: SettingWithCopyWarning: \n",
            "A value is trying to be set on a copy of a slice from a DataFrame\n",
            "\n",
            "See the caveats in the documentation: https://pandas.pydata.org/pandas-docs/stable/user_guide/indexing.html#returning-a-view-versus-a-copy\n",
            "  errors=errors,\n"
          ]
        }
      ],
      "source": [
        "# Data Set of Weight\n",
        "grouped_multiple_Weight = grouped_multiple[grouped_multiple.Parameter == 'Weight'  ]\n",
        "grouped_multiple_Weight.rename(columns = {'mean':'Weight'}, inplace = True)\n",
        "grouped_multiple_Weight = grouped_multiple_Weight.drop(['Parameter','min','max'], axis=1)\n",
        "print(grouped_multiple_Weight.isnull().sum())"
      ]
    },
    {
      "cell_type": "code",
      "execution_count": 55,
      "metadata": {
        "id": "36HDUMDzyCkU",
        "colab": {
          "base_uri": "https://localhost:8080/"
        },
        "outputId": "8eaa93f8-7b99-423e-ad40-e0471c4c5942"
      },
      "outputs": [
        {
          "output_type": "execute_result",
          "data": {
            "text/plain": [
              "True"
            ]
          },
          "metadata": {},
          "execution_count": 55
        }
      ],
      "source": [
        "isinstance(grouped_multiple_Weight, pd.DataFrame)"
      ]
    },
    {
      "cell_type": "code",
      "execution_count": 56,
      "metadata": {
        "id": "pJfLA6R2ONMU",
        "colab": {
          "base_uri": "https://localhost:8080/",
          "height": 424
        },
        "outputId": "b1d9d5b7-b16b-442f-8468-4808149b198c"
      },
      "outputs": [
        {
          "output_type": "execute_result",
          "data": {
            "text/plain": [
              "        RecordID Parameter       mean   min    max\n",
              "6       132539.0        HR  70.810811  58.0   86.0\n",
              "27      132540.0        HR  80.794118  65.0   90.0\n",
              "59      132541.0        HR  83.759259  57.0  113.0\n",
              "90      132543.0        HR  70.983333  57.0   88.0\n",
              "110     132545.0        HR  74.958333  65.0   94.0\n",
              "...          ...       ...        ...   ...    ...\n",
              "106862  142665.0        HR  99.230769  83.0  113.0\n",
              "106888  142667.0        HR  79.136364  59.0  106.0\n",
              "106913  142670.0        HR  97.884615  80.0  143.0\n",
              "106944  142671.0        HR  88.461538  74.0  101.0\n",
              "106973  142673.0        HR  88.531915  59.0  177.0\n",
              "\n",
              "[3937 rows x 5 columns]"
            ],
            "text/html": [
              "\n",
              "  <div id=\"df-d790580c-75dd-4c21-9fb9-ae6901533431\">\n",
              "    <div class=\"colab-df-container\">\n",
              "      <div>\n",
              "<style scoped>\n",
              "    .dataframe tbody tr th:only-of-type {\n",
              "        vertical-align: middle;\n",
              "    }\n",
              "\n",
              "    .dataframe tbody tr th {\n",
              "        vertical-align: top;\n",
              "    }\n",
              "\n",
              "    .dataframe thead th {\n",
              "        text-align: right;\n",
              "    }\n",
              "</style>\n",
              "<table border=\"1\" class=\"dataframe\">\n",
              "  <thead>\n",
              "    <tr style=\"text-align: right;\">\n",
              "      <th></th>\n",
              "      <th>RecordID</th>\n",
              "      <th>Parameter</th>\n",
              "      <th>mean</th>\n",
              "      <th>min</th>\n",
              "      <th>max</th>\n",
              "    </tr>\n",
              "  </thead>\n",
              "  <tbody>\n",
              "    <tr>\n",
              "      <th>6</th>\n",
              "      <td>132539.0</td>\n",
              "      <td>HR</td>\n",
              "      <td>70.810811</td>\n",
              "      <td>58.0</td>\n",
              "      <td>86.0</td>\n",
              "    </tr>\n",
              "    <tr>\n",
              "      <th>27</th>\n",
              "      <td>132540.0</td>\n",
              "      <td>HR</td>\n",
              "      <td>80.794118</td>\n",
              "      <td>65.0</td>\n",
              "      <td>90.0</td>\n",
              "    </tr>\n",
              "    <tr>\n",
              "      <th>59</th>\n",
              "      <td>132541.0</td>\n",
              "      <td>HR</td>\n",
              "      <td>83.759259</td>\n",
              "      <td>57.0</td>\n",
              "      <td>113.0</td>\n",
              "    </tr>\n",
              "    <tr>\n",
              "      <th>90</th>\n",
              "      <td>132543.0</td>\n",
              "      <td>HR</td>\n",
              "      <td>70.983333</td>\n",
              "      <td>57.0</td>\n",
              "      <td>88.0</td>\n",
              "    </tr>\n",
              "    <tr>\n",
              "      <th>110</th>\n",
              "      <td>132545.0</td>\n",
              "      <td>HR</td>\n",
              "      <td>74.958333</td>\n",
              "      <td>65.0</td>\n",
              "      <td>94.0</td>\n",
              "    </tr>\n",
              "    <tr>\n",
              "      <th>...</th>\n",
              "      <td>...</td>\n",
              "      <td>...</td>\n",
              "      <td>...</td>\n",
              "      <td>...</td>\n",
              "      <td>...</td>\n",
              "    </tr>\n",
              "    <tr>\n",
              "      <th>106862</th>\n",
              "      <td>142665.0</td>\n",
              "      <td>HR</td>\n",
              "      <td>99.230769</td>\n",
              "      <td>83.0</td>\n",
              "      <td>113.0</td>\n",
              "    </tr>\n",
              "    <tr>\n",
              "      <th>106888</th>\n",
              "      <td>142667.0</td>\n",
              "      <td>HR</td>\n",
              "      <td>79.136364</td>\n",
              "      <td>59.0</td>\n",
              "      <td>106.0</td>\n",
              "    </tr>\n",
              "    <tr>\n",
              "      <th>106913</th>\n",
              "      <td>142670.0</td>\n",
              "      <td>HR</td>\n",
              "      <td>97.884615</td>\n",
              "      <td>80.0</td>\n",
              "      <td>143.0</td>\n",
              "    </tr>\n",
              "    <tr>\n",
              "      <th>106944</th>\n",
              "      <td>142671.0</td>\n",
              "      <td>HR</td>\n",
              "      <td>88.461538</td>\n",
              "      <td>74.0</td>\n",
              "      <td>101.0</td>\n",
              "    </tr>\n",
              "    <tr>\n",
              "      <th>106973</th>\n",
              "      <td>142673.0</td>\n",
              "      <td>HR</td>\n",
              "      <td>88.531915</td>\n",
              "      <td>59.0</td>\n",
              "      <td>177.0</td>\n",
              "    </tr>\n",
              "  </tbody>\n",
              "</table>\n",
              "<p>3937 rows × 5 columns</p>\n",
              "</div>\n",
              "      <button class=\"colab-df-convert\" onclick=\"convertToInteractive('df-d790580c-75dd-4c21-9fb9-ae6901533431')\"\n",
              "              title=\"Convert this dataframe to an interactive table.\"\n",
              "              style=\"display:none;\">\n",
              "        \n",
              "  <svg xmlns=\"http://www.w3.org/2000/svg\" height=\"24px\"viewBox=\"0 0 24 24\"\n",
              "       width=\"24px\">\n",
              "    <path d=\"M0 0h24v24H0V0z\" fill=\"none\"/>\n",
              "    <path d=\"M18.56 5.44l.94 2.06.94-2.06 2.06-.94-2.06-.94-.94-2.06-.94 2.06-2.06.94zm-11 1L8.5 8.5l.94-2.06 2.06-.94-2.06-.94L8.5 2.5l-.94 2.06-2.06.94zm10 10l.94 2.06.94-2.06 2.06-.94-2.06-.94-.94-2.06-.94 2.06-2.06.94z\"/><path d=\"M17.41 7.96l-1.37-1.37c-.4-.4-.92-.59-1.43-.59-.52 0-1.04.2-1.43.59L10.3 9.45l-7.72 7.72c-.78.78-.78 2.05 0 2.83L4 21.41c.39.39.9.59 1.41.59.51 0 1.02-.2 1.41-.59l7.78-7.78 2.81-2.81c.8-.78.8-2.07 0-2.86zM5.41 20L4 18.59l7.72-7.72 1.47 1.35L5.41 20z\"/>\n",
              "  </svg>\n",
              "      </button>\n",
              "      \n",
              "  <style>\n",
              "    .colab-df-container {\n",
              "      display:flex;\n",
              "      flex-wrap:wrap;\n",
              "      gap: 12px;\n",
              "    }\n",
              "\n",
              "    .colab-df-convert {\n",
              "      background-color: #E8F0FE;\n",
              "      border: none;\n",
              "      border-radius: 50%;\n",
              "      cursor: pointer;\n",
              "      display: none;\n",
              "      fill: #1967D2;\n",
              "      height: 32px;\n",
              "      padding: 0 0 0 0;\n",
              "      width: 32px;\n",
              "    }\n",
              "\n",
              "    .colab-df-convert:hover {\n",
              "      background-color: #E2EBFA;\n",
              "      box-shadow: 0px 1px 2px rgba(60, 64, 67, 0.3), 0px 1px 3px 1px rgba(60, 64, 67, 0.15);\n",
              "      fill: #174EA6;\n",
              "    }\n",
              "\n",
              "    [theme=dark] .colab-df-convert {\n",
              "      background-color: #3B4455;\n",
              "      fill: #D2E3FC;\n",
              "    }\n",
              "\n",
              "    [theme=dark] .colab-df-convert:hover {\n",
              "      background-color: #434B5C;\n",
              "      box-shadow: 0px 1px 3px 1px rgba(0, 0, 0, 0.15);\n",
              "      filter: drop-shadow(0px 1px 2px rgba(0, 0, 0, 0.3));\n",
              "      fill: #FFFFFF;\n",
              "    }\n",
              "  </style>\n",
              "\n",
              "      <script>\n",
              "        const buttonEl =\n",
              "          document.querySelector('#df-d790580c-75dd-4c21-9fb9-ae6901533431 button.colab-df-convert');\n",
              "        buttonEl.style.display =\n",
              "          google.colab.kernel.accessAllowed ? 'block' : 'none';\n",
              "\n",
              "        async function convertToInteractive(key) {\n",
              "          const element = document.querySelector('#df-d790580c-75dd-4c21-9fb9-ae6901533431');\n",
              "          const dataTable =\n",
              "            await google.colab.kernel.invokeFunction('convertToInteractive',\n",
              "                                                     [key], {});\n",
              "          if (!dataTable) return;\n",
              "\n",
              "          const docLinkHtml = 'Like what you see? Visit the ' +\n",
              "            '<a target=\"_blank\" href=https://colab.research.google.com/notebooks/data_table.ipynb>data table notebook</a>'\n",
              "            + ' to learn more about interactive tables.';\n",
              "          element.innerHTML = '';\n",
              "          dataTable['output_type'] = 'display_data';\n",
              "          await google.colab.output.renderOutput(dataTable, element);\n",
              "          const docLink = document.createElement('div');\n",
              "          docLink.innerHTML = docLinkHtml;\n",
              "          element.appendChild(docLink);\n",
              "        }\n",
              "      </script>\n",
              "    </div>\n",
              "  </div>\n",
              "  "
            ]
          },
          "metadata": {},
          "execution_count": 56
        }
      ],
      "source": [
        "grouped_multiple.loc[grouped_multiple.Parameter == 'HR']"
      ]
    },
    {
      "cell_type": "code",
      "execution_count": 57,
      "metadata": {
        "id": "yo1cvrCp0RmP",
        "colab": {
          "base_uri": "https://localhost:8080/"
        },
        "outputId": "e196aa99-01f0-496e-d2fb-08db43a3c418"
      },
      "outputs": [
        {
          "output_type": "stream",
          "name": "stderr",
          "text": [
            "/usr/local/lib/python3.7/dist-packages/pandas/core/frame.py:5047: SettingWithCopyWarning: \n",
            "A value is trying to be set on a copy of a slice from a DataFrame\n",
            "\n",
            "See the caveats in the documentation: https://pandas.pydata.org/pandas-docs/stable/user_guide/indexing.html#returning-a-view-versus-a-copy\n",
            "  errors=errors,\n"
          ]
        },
        {
          "output_type": "execute_result",
          "data": {
            "text/plain": [
              "(3937, 2)"
            ]
          },
          "metadata": {},
          "execution_count": 57
        }
      ],
      "source": [
        "# Data Set of HR \n",
        "grouped_multiple_HR  = grouped_multiple.loc[grouped_multiple.Parameter == 'HR']\n",
        "grouped_multiple_HR.rename(columns = {'mean':'HR'}, inplace = True)\n",
        "grouped_multiple_HR = grouped_multiple_HR.drop(['Parameter','min','max'], axis=1)\n",
        "grouped_multiple_HR.shape"
      ]
    },
    {
      "cell_type": "code",
      "execution_count": 58,
      "metadata": {
        "id": "3scI07oLDshd",
        "colab": {
          "base_uri": "https://localhost:8080/"
        },
        "outputId": "a6e7f4a1-90ed-435a-f8cf-07ac7d592d6d"
      },
      "outputs": [
        {
          "output_type": "execute_result",
          "data": {
            "text/plain": [
              "(3937, 2)"
            ]
          },
          "metadata": {},
          "execution_count": 58
        }
      ],
      "source": [
        "grouped_multiple_HR.shape"
      ]
    },
    {
      "cell_type": "code",
      "execution_count": 59,
      "metadata": {
        "id": "vhOSaigP0X1n",
        "colab": {
          "base_uri": "https://localhost:8080/"
        },
        "outputId": "e7802cc8-f911-454f-fc19-85cc5cdbba4a"
      },
      "outputs": [
        {
          "output_type": "stream",
          "name": "stdout",
          "text": [
            "RecordID    0\n",
            "BUN         0\n",
            "dtype: int64\n"
          ]
        }
      ],
      "source": [
        "# Data Set of BUN\n",
        "grouped_multiple_BUN  = grouped_multiple[grouped_multiple.Parameter == 'BUN']\n",
        "grouped_multiple_BUN.rename(columns = {'mean':'BUN'}, inplace = True)\n",
        "grouped_multiple_BUN= grouped_multiple_BUN.drop(['Parameter','min','max'], axis=1)\n",
        "print(grouped_multiple_BUN.isnull().sum())"
      ]
    },
    {
      "cell_type": "code",
      "execution_count": 60,
      "metadata": {
        "id": "8bwP0uGy0di_",
        "colab": {
          "base_uri": "https://localhost:8080/"
        },
        "outputId": "4c56541c-36f1-43aa-b3e6-ea9175997b28"
      },
      "outputs": [
        {
          "output_type": "stream",
          "name": "stdout",
          "text": [
            "RecordID      0\n",
            "Creatinine    0\n",
            "dtype: int64\n"
          ]
        }
      ],
      "source": [
        "# Data Set of Creatinine\n",
        "grouped_multiple_Creatinine  = grouped_multiple[grouped_multiple.Parameter == 'Creatinine']\n",
        "grouped_multiple_Creatinine.rename(columns = {'mean':'Creatinine'}, inplace = True)\n",
        "grouped_multiple_Creatinine = grouped_multiple_Creatinine.drop(['Parameter','min','max'], axis=1)\n",
        "print(grouped_multiple_Creatinine.isnull().sum())"
      ]
    },
    {
      "cell_type": "code",
      "execution_count": 61,
      "metadata": {
        "id": "2RWRDkoR0ktX",
        "colab": {
          "base_uri": "https://localhost:8080/"
        },
        "outputId": "6c5c90ea-d753-430f-8ad1-4665e947f337"
      },
      "outputs": [
        {
          "output_type": "stream",
          "name": "stdout",
          "text": [
            "RecordID    0\n",
            "GCS         0\n",
            "dtype: int64\n"
          ]
        }
      ],
      "source": [
        "# Data Set of GCS\n",
        "grouped_multiple_GCS  = grouped_multiple[grouped_multiple.Parameter == 'GCS']\n",
        "grouped_multiple_GCS.rename(columns = {'mean':'GCS'}, inplace = True)\n",
        "grouped_multiple_GCS = grouped_multiple_GCS.drop(['Parameter','min','max'], axis=1)\n",
        "print(grouped_multiple_GCS.isnull().sum())"
      ]
    },
    {
      "cell_type": "code",
      "execution_count": 62,
      "metadata": {
        "id": "7WPhAgpS0uQ_",
        "colab": {
          "base_uri": "https://localhost:8080/"
        },
        "outputId": "f36c4f6a-8759-42fb-ec58-5653b7bd093b"
      },
      "outputs": [
        {
          "output_type": "stream",
          "name": "stdout",
          "text": [
            "RecordID    0\n",
            "Temp        0\n",
            "dtype: int64\n"
          ]
        }
      ],
      "source": [
        "# Data Set of Temp\n",
        "grouped_multiple_Temp  = grouped_multiple[grouped_multiple.Parameter == 'Temp']\n",
        "grouped_multiple_Temp.rename(columns = {'mean':'Temp'}, inplace = True)\n",
        "grouped_multiple_Temp = grouped_multiple_Temp.drop(['Parameter','min','max'], axis=1)\n",
        "print(grouped_multiple_Temp.isnull().sum())"
      ]
    },
    {
      "cell_type": "code",
      "execution_count": 63,
      "metadata": {
        "id": "wA8ulgUA04lA",
        "colab": {
          "base_uri": "https://localhost:8080/"
        },
        "outputId": "9e58b93e-d899-4b11-b53b-279fff2e95cf"
      },
      "outputs": [
        {
          "output_type": "stream",
          "name": "stdout",
          "text": [
            "RecordID    0\n",
            "HCT         0\n",
            "dtype: int64\n"
          ]
        }
      ],
      "source": [
        "# Data Set of HCT\n",
        "grouped_multiple_HCT  = grouped_multiple[grouped_multiple.Parameter == 'HCT']\n",
        "grouped_multiple_HCT.rename(columns = {'mean':'HCT'}, inplace = True)\n",
        "grouped_multiple_HCT = grouped_multiple_HCT.drop(['Parameter','min','max'], axis=1)\n",
        "print(grouped_multiple_HCT.isnull().sum())"
      ]
    },
    {
      "cell_type": "code",
      "execution_count": 64,
      "metadata": {
        "id": "jd9_hapb0-97",
        "colab": {
          "base_uri": "https://localhost:8080/"
        },
        "outputId": "28ebb6c6-3609-417d-8813-c7310707f1da"
      },
      "outputs": [
        {
          "output_type": "stream",
          "name": "stdout",
          "text": [
            "RecordID     0\n",
            "Platelets    0\n",
            "dtype: int64\n"
          ]
        }
      ],
      "source": [
        "# Data Set of Platelets\n",
        "grouped_multiple_Platelets  = grouped_multiple[grouped_multiple.Parameter == 'Platelets']\n",
        "grouped_multiple_Platelets.rename(columns = {'mean':'Platelets'}, inplace = True)\n",
        "grouped_multiple_Platelets = grouped_multiple_Platelets.drop(['Parameter','min','max'], axis=1)\n",
        "print(grouped_multiple_Platelets.isnull().sum())"
      ]
    },
    {
      "cell_type": "code",
      "execution_count": 65,
      "metadata": {
        "id": "ryWi6lPk0-5_",
        "colab": {
          "base_uri": "https://localhost:8080/"
        },
        "outputId": "5cae667f-c26b-43a5-fba0-d5875b7ae7ac"
      },
      "outputs": [
        {
          "output_type": "stream",
          "name": "stdout",
          "text": [
            "RecordID    0\n",
            "WBC         0\n",
            "dtype: int64\n"
          ]
        }
      ],
      "source": [
        "# Data Set of WBC\n",
        "grouped_multiple_WBC  = grouped_multiple[grouped_multiple.Parameter == 'WBC'  ]\n",
        "grouped_multiple_WBC.rename(columns = {'mean':'WBC'}, inplace = True)\n",
        "grouped_multiple_WBC = grouped_multiple_WBC.drop(['Parameter','min','max'], axis=1)\n",
        "print(grouped_multiple_WBC.isnull().sum())"
      ]
    },
    {
      "cell_type": "code",
      "execution_count": 66,
      "metadata": {
        "id": "SvCtarf40-2P",
        "colab": {
          "base_uri": "https://localhost:8080/"
        },
        "outputId": "d4191d2f-1087-4100-8d79-184ce538aeaa"
      },
      "outputs": [
        {
          "output_type": "stream",
          "name": "stdout",
          "text": [
            "RecordID    0\n",
            "Na          0\n",
            "dtype: int64\n"
          ]
        }
      ],
      "source": [
        "# Data Set of Na\n",
        "grouped_multiple_Na  = grouped_multiple[grouped_multiple.Parameter == 'Na']\n",
        "grouped_multiple_Na.rename(columns = {'mean':'Na'}, inplace = True)\n",
        "grouped_multiple_Na = grouped_multiple_Na.drop(['Parameter','min','max'], axis=1)\n",
        "print(grouped_multiple_Na.isnull().sum())"
      ]
    },
    {
      "cell_type": "code",
      "execution_count": 67,
      "metadata": {
        "id": "mkP1iDoI0-tn",
        "colab": {
          "base_uri": "https://localhost:8080/"
        },
        "outputId": "0b64e64e-cae3-4522-f38d-7140d8ef1113"
      },
      "outputs": [
        {
          "output_type": "stream",
          "name": "stdout",
          "text": [
            "RecordID    0\n",
            "HCO3        0\n",
            "dtype: int64\n"
          ]
        }
      ],
      "source": [
        "# Data Set of HCO3 \n",
        "#grouped_multiple.loc[grouped_multiple.Parameter == 'HCO3']\n",
        "grouped_multiple_HCO3   = grouped_multiple[grouped_multiple.Parameter == 'HCO3']\n",
        "grouped_multiple_HCO3.rename(columns = {'mean':'HCO3'}, inplace = True)\n",
        "grouped_multiple_HCO3 = grouped_multiple_HCO3.drop(['Parameter','min','max'], axis=1)\n",
        "print(grouped_multiple_HCO3.isnull().sum())"
      ]
    },
    {
      "cell_type": "code",
      "execution_count": 68,
      "metadata": {
        "id": "q4toBvn11aQW",
        "colab": {
          "base_uri": "https://localhost:8080/"
        },
        "outputId": "89c9f888-e415-4ae7-f0d3-89bb9b4f58dd"
      },
      "outputs": [
        {
          "output_type": "stream",
          "name": "stdout",
          "text": [
            "RecordID    0\n",
            "k           0\n",
            "dtype: int64\n"
          ]
        }
      ],
      "source": [
        "# Data Set of k\n",
        "grouped_multiple_k   = grouped_multiple.loc[grouped_multiple.Parameter == 'K']\n",
        "grouped_multiple_k.rename(columns = {'mean':'k'}, inplace = True)\n",
        "grouped_multiple_k = grouped_multiple_k.drop(['Parameter','min','max'], axis=1)\n",
        "print(grouped_multiple_k.isnull().sum())"
      ]
    },
    {
      "cell_type": "code",
      "execution_count": 69,
      "metadata": {
        "id": "qdAhuiaV1aM3",
        "colab": {
          "base_uri": "https://localhost:8080/"
        },
        "outputId": "646def96-7498-4fe3-b76c-9fa55daa17f2"
      },
      "outputs": [
        {
          "output_type": "stream",
          "name": "stdout",
          "text": [
            "RecordID    0\n",
            "Mg          0\n",
            "dtype: int64\n"
          ]
        }
      ],
      "source": [
        "# Data Set of Mg\n",
        "grouped_multiple_Mg   = grouped_multiple[grouped_multiple.Parameter == 'Mg']\n",
        "grouped_multiple_Mg.rename(columns = {'mean':'Mg'}, inplace = True)\n",
        "grouped_multiple_Mg = grouped_multiple_Mg.drop(['Parameter','min','max'], axis=1)\n",
        "print(grouped_multiple_Mg.isnull().sum())"
      ]
    },
    {
      "cell_type": "code",
      "execution_count": 70,
      "metadata": {
        "id": "mdSzWkCN1aD-",
        "colab": {
          "base_uri": "https://localhost:8080/"
        },
        "outputId": "b42a7463-ef8d-4758-a249-298fbf7cd93e"
      },
      "outputs": [
        {
          "output_type": "stream",
          "name": "stdout",
          "text": [
            "RecordID    0\n",
            "Glucose     0\n",
            "dtype: int64\n"
          ]
        }
      ],
      "source": [
        "# Data Set of Glucose\n",
        "grouped_multiple_Glucose   = grouped_multiple[grouped_multiple.Parameter == 'Glucose']\n",
        "grouped_multiple_Glucose.rename(columns = {'mean':'Glucose'}, inplace = True)\n",
        "grouped_multiple_Glucose= grouped_multiple_Glucose.drop(['Parameter','min','max'], axis=1)\n",
        "print(grouped_multiple_Glucose.isnull().sum())"
      ]
    },
    {
      "cell_type": "code",
      "execution_count": 71,
      "metadata": {
        "id": "tFuRND-DbFCe",
        "colab": {
          "base_uri": "https://localhost:8080/"
        },
        "outputId": "aed0ef84-72dd-4840-f172-e54cb87f2591"
      },
      "outputs": [
        {
          "output_type": "stream",
          "name": "stdout",
          "text": [
            "RecordID    0\n",
            "Urine       0\n",
            "dtype: int64\n"
          ]
        }
      ],
      "source": [
        "# Data Set of Urine\n",
        "grouped_multiple_Urine   = grouped_multiple[grouped_multiple.Parameter == 'Urine']\n",
        "grouped_multiple_Urine.rename(columns = {'mean':'Urine'}, inplace = True)\n",
        "grouped_multiple_Urine= grouped_multiple_Urine.drop(['Parameter','min','max'], axis=1)\n",
        "print(grouped_multiple_Urine.isnull().sum())\n"
      ]
    },
    {
      "cell_type": "code",
      "execution_count": 72,
      "metadata": {
        "id": "znKIP8nKbE_v",
        "colab": {
          "base_uri": "https://localhost:8080/"
        },
        "outputId": "e9612a19-5bc0-4645-c71d-0faff4594097"
      },
      "outputs": [
        {
          "output_type": "stream",
          "name": "stdout",
          "text": [
            "RecordID    0\n",
            "NISysABP    0\n",
            "dtype: int64\n"
          ]
        }
      ],
      "source": [
        "# Data Set of NISysABP\n",
        "grouped_multiple_NISysABP   = grouped_multiple[grouped_multiple.Parameter == 'NISysABP']\n",
        "grouped_multiple_NISysABP.rename(columns = {'mean':'NISysABP'}, inplace = True)\n",
        "grouped_multiple_NISysABP= grouped_multiple_NISysABP.drop(['Parameter','min','max'], axis=1)\n",
        "print(grouped_multiple_NISysABP.isnull().sum())"
      ]
    },
    {
      "cell_type": "code",
      "execution_count": 73,
      "metadata": {
        "id": "NEKIyboRbE8s",
        "colab": {
          "base_uri": "https://localhost:8080/"
        },
        "outputId": "dc578758-0b7e-4797-acd9-4d032bb5cd16"
      },
      "outputs": [
        {
          "output_type": "stream",
          "name": "stdout",
          "text": [
            "RecordID     0\n",
            "NIDiasABP    0\n",
            "dtype: int64\n"
          ]
        }
      ],
      "source": [
        "# Data Set of NIDiasABP\n",
        "grouped_multiple_NIDiasABP   = grouped_multiple[grouped_multiple.Parameter == 'NIDiasABP']\n",
        "grouped_multiple_NIDiasABP.rename(columns = {'mean':'NIDiasABP'}, inplace = True)\n",
        "grouped_multiple_NIDiasABP= grouped_multiple_NIDiasABP.drop(['Parameter','min','max'], axis=1)\n",
        "print(grouped_multiple_NIDiasABP.isnull().sum())"
      ]
    },
    {
      "cell_type": "code",
      "execution_count": 74,
      "metadata": {
        "id": "KYWYfv8CbE4e",
        "colab": {
          "base_uri": "https://localhost:8080/"
        },
        "outputId": "625483e4-6066-4e9e-8dde-e4e72473b932"
      },
      "outputs": [
        {
          "output_type": "stream",
          "name": "stdout",
          "text": [
            "RecordID    0\n",
            "NIMAP       0\n",
            "dtype: int64\n"
          ]
        }
      ],
      "source": [
        "# Data Set of NIMAP\n",
        "grouped_multiple_NIMAP   = grouped_multiple[grouped_multiple.Parameter == 'NIMAP']\n",
        "grouped_multiple_NIMAP.rename(columns = {'mean':'NIMAP'}, inplace = True)\n",
        "grouped_multiple_NIMAP= grouped_multiple_NIMAP.drop(['Parameter','min','max'], axis=1)\n",
        "print(grouped_multiple_NIMAP.isnull().sum())"
      ]
    },
    {
      "cell_type": "code",
      "execution_count": 75,
      "metadata": {
        "id": "pxuxThNQbE1O",
        "colab": {
          "base_uri": "https://localhost:8080/"
        },
        "outputId": "dd42cf33-7151-4822-df7d-0d6c4a793488"
      },
      "outputs": [
        {
          "output_type": "stream",
          "name": "stdout",
          "text": [
            "RecordID    0\n",
            "pH          0\n",
            "dtype: int64\n"
          ]
        }
      ],
      "source": [
        "# Data Set of pH\n",
        "grouped_multiple_pH   = grouped_multiple[grouped_multiple.Parameter == 'pH']\n",
        "grouped_multiple_pH.rename(columns = {'mean':'pH'}, inplace = True)\n",
        "grouped_multiple_pH= grouped_multiple_pH.drop(['Parameter','min','max'], axis=1)\n",
        "print(grouped_multiple_pH.isnull().sum())"
      ]
    },
    {
      "cell_type": "code",
      "execution_count": 76,
      "metadata": {
        "id": "2RIL_QkmbEvv",
        "colab": {
          "base_uri": "https://localhost:8080/"
        },
        "outputId": "ea1ed1d7-8c9d-4a9f-c49b-d47bc3340d7a"
      },
      "outputs": [
        {
          "output_type": "stream",
          "name": "stdout",
          "text": [
            "RecordID    0\n",
            "PaCO2       0\n",
            "dtype: int64\n"
          ]
        }
      ],
      "source": [
        "# Data Set of PaCO2\n",
        "grouped_multiple_PaCO2   = grouped_multiple[grouped_multiple.Parameter == 'PaCO2']\n",
        "grouped_multiple_PaCO2.rename(columns = {'mean':'PaCO2'}, inplace = True)\n",
        "grouped_multiple_PaCO2= grouped_multiple_PaCO2.drop(['Parameter','min','max'], axis=1)\n",
        "print(grouped_multiple_PaCO2.isnull().sum())"
      ]
    },
    {
      "cell_type": "code",
      "execution_count": 77,
      "metadata": {
        "id": "N6JN2JGXctLh",
        "colab": {
          "base_uri": "https://localhost:8080/"
        },
        "outputId": "fcb4b70c-39bb-4f8f-f148-585ec108227a"
      },
      "outputs": [
        {
          "output_type": "stream",
          "name": "stdout",
          "text": [
            "RecordID    0\n",
            "PaO2        0\n",
            "dtype: int64\n"
          ]
        }
      ],
      "source": [
        "# Data Set of PaO2\n",
        "grouped_multiple_PaO2   = grouped_multiple[grouped_multiple.Parameter == 'PaO2']\n",
        "grouped_multiple_PaO2.rename(columns = {'mean':'PaO2'}, inplace = True)\n",
        "grouped_multiple_PaO2= grouped_multiple_PaO2.drop(['Parameter','min','max'], axis=1)\n",
        "print(grouped_multiple_PaO2.isnull().sum())"
      ]
    },
    {
      "cell_type": "code",
      "execution_count": 78,
      "metadata": {
        "id": "Vx9XGdYyctIx",
        "colab": {
          "base_uri": "https://localhost:8080/"
        },
        "outputId": "e982c41e-c581-48bd-d27f-319b39836ef6"
      },
      "outputs": [
        {
          "output_type": "stream",
          "name": "stdout",
          "text": [
            "RecordID    0\n",
            "DiasABP     0\n",
            "dtype: int64\n"
          ]
        }
      ],
      "source": [
        "# Data Set of DiasABP\n",
        "grouped_multiple_DiasABP   = grouped_multiple[grouped_multiple.Parameter == 'DiasABP']\n",
        "grouped_multiple_DiasABP.rename(columns = {'mean':'DiasABP'}, inplace = True)\n",
        "grouped_multiple_DiasABP= grouped_multiple_DiasABP.drop(['Parameter','min','max'], axis=1)\n",
        "print(grouped_multiple_DiasABP.isnull().sum())"
      ]
    },
    {
      "cell_type": "code",
      "execution_count": 79,
      "metadata": {
        "id": "3_8zhKWMdZd-",
        "colab": {
          "base_uri": "https://localhost:8080/"
        },
        "outputId": "b06ce469-0c94-4fe4-d94e-7283ce3e5e2a"
      },
      "outputs": [
        {
          "output_type": "stream",
          "name": "stdout",
          "text": [
            "RecordID    0\n",
            "SysABP      0\n",
            "dtype: int64\n"
          ]
        }
      ],
      "source": [
        "# Data Set of SysABP\n",
        "grouped_multiple_SysABP   = grouped_multiple[grouped_multiple.Parameter == 'SysABP']\n",
        "grouped_multiple_SysABP.rename(columns = {'mean':'SysABP'}, inplace = True)\n",
        "grouped_multiple_SysABP= grouped_multiple_SysABP.drop(['Parameter','min','max'], axis=1)\n",
        "print(grouped_multiple_SysABP.isnull().sum())"
      ]
    },
    {
      "cell_type": "code",
      "execution_count": 80,
      "metadata": {
        "id": "wVywnY7NdZZ4",
        "colab": {
          "base_uri": "https://localhost:8080/"
        },
        "outputId": "58935431-12ba-42d2-f6fd-69d8798bccf4"
      },
      "outputs": [
        {
          "output_type": "stream",
          "name": "stdout",
          "text": [
            "RecordID    0\n",
            "MAP         0\n",
            "dtype: int64\n"
          ]
        }
      ],
      "source": [
        "# Data Set of MAP\n",
        "grouped_multiple_MAP   = grouped_multiple[grouped_multiple.Parameter == 'MAP']\n",
        "grouped_multiple_MAP.rename(columns = {'mean':'MAP'}, inplace = True)\n",
        "grouped_multiple_MAP= grouped_multiple_MAP.drop(['Parameter','min','max'], axis=1)\n",
        "print(grouped_multiple_MAP.isnull().sum())"
      ]
    },
    {
      "cell_type": "code",
      "execution_count": 81,
      "metadata": {
        "id": "uGr2ncMrdZXK",
        "colab": {
          "base_uri": "https://localhost:8080/"
        },
        "outputId": "c64fc80f-674c-48c9-ceca-ffd0f8b98e2e"
      },
      "outputs": [
        {
          "output_type": "stream",
          "name": "stdout",
          "text": [
            "RecordID    0\n",
            "FiO2        0\n",
            "dtype: int64\n"
          ]
        }
      ],
      "source": [
        "# Data Set of FiO2\n",
        "grouped_multiple_FiO2   = grouped_multiple[grouped_multiple.Parameter == 'FiO2']\n",
        "grouped_multiple_FiO2.rename(columns = {'mean':'FiO2'}, inplace = True)\n",
        "grouped_multiple_FiO2= grouped_multiple_FiO2.drop(['Parameter','min','max'], axis=1)\n",
        "print(grouped_multiple_FiO2.isnull().sum())"
      ]
    },
    {
      "cell_type": "code",
      "execution_count": 82,
      "metadata": {
        "id": "gToL3rmydZUY",
        "colab": {
          "base_uri": "https://localhost:8080/"
        },
        "outputId": "3aa7b4f2-1fc3-4309-88e1-851d360138c6"
      },
      "outputs": [
        {
          "output_type": "stream",
          "name": "stdout",
          "text": [
            "RecordID    0\n",
            "MechVent    0\n",
            "dtype: int64\n"
          ]
        }
      ],
      "source": [
        "# Data Set of MechVent\n",
        "grouped_multiple_MechVent   = grouped_multiple[grouped_multiple.Parameter == 'MechVent']\n",
        "grouped_multiple_MechVent.rename(columns = {'mean':'MechVent'}, inplace = True)\n",
        "grouped_multiple_MechVent= grouped_multiple_MechVent.drop(['Parameter','min','max'], axis=1)\n",
        "print(grouped_multiple_MechVent.isnull().sum())"
      ]
    },
    {
      "cell_type": "code",
      "execution_count": 83,
      "metadata": {
        "id": "4134fHEedZR1",
        "colab": {
          "base_uri": "https://localhost:8080/"
        },
        "outputId": "a92e48cd-c55d-4e28-f43f-c987f4562dd9"
      },
      "outputs": [
        {
          "output_type": "stream",
          "name": "stdout",
          "text": [
            "RecordID    0\n",
            "Lactate     0\n",
            "dtype: int64\n"
          ]
        }
      ],
      "source": [
        "# Data Set of Lactate\n",
        "grouped_multiple_Lactate   = grouped_multiple[grouped_multiple.Parameter == 'Lactate']\n",
        "grouped_multiple_Lactate.rename(columns = {'mean':'Lactate'}, inplace = True)\n",
        "grouped_multiple_Lactate= grouped_multiple_Lactate.drop(['Parameter','min','max'], axis=1)\n",
        "print(grouped_multiple_Lactate.isnull().sum())"
      ]
    },
    {
      "cell_type": "code",
      "execution_count": 84,
      "metadata": {
        "id": "h81nbqscHRgw"
      },
      "outputs": [],
      "source": [
        "import pandas as pd\n",
        "from functools import reduce"
      ]
    },
    {
      "cell_type": "code",
      "execution_count": 85,
      "metadata": {
        "id": "zvrVzlGxrDav",
        "colab": {
          "base_uri": "https://localhost:8080/"
        },
        "outputId": "542c1d8b-2eef-4559-cfc5-64f369103d8c"
      },
      "outputs": [
        {
          "output_type": "execute_result",
          "data": {
            "text/plain": [
              "Index(['RecordID', 'Age', 'Gender', 'Height', 'ICUType', 'Weight'], dtype='object')"
            ]
          },
          "metadata": {},
          "execution_count": 85
        }
      ],
      "source": [
        "info_df.columns"
      ]
    },
    {
      "cell_type": "code",
      "execution_count": 86,
      "metadata": {
        "id": "Gy-q42AUHx7h"
      },
      "outputs": [],
      "source": [
        "df_survivals = outcomes_df[['RecordID','In-hospital_death']]\n",
        "df_ICUTYPE = info_df[['RecordID','ICUType']]\n",
        "df_Age = info_df[['RecordID','Age']]\n",
        "df_SOFA = outcomes_df[['RecordID','SOFA']]\n",
        "df_SAPSI = outcomes_df[['RecordID','SAPS-I']]"
      ]
    },
    {
      "cell_type": "code",
      "execution_count": 87,
      "metadata": {
        "id": "td4JaUspePbr"
      },
      "outputs": [],
      "source": [
        "#define list of DataFrames\n",
        "list_df_more_2000 = [df_survivals,df_ICUTYPE,df_Age,df_SOFA,df_SAPSI,grouped_multiple_Weight,grouped_multiple_HR,grouped_multiple_BUN,grouped_multiple_Creatinine,grouped_multiple_GCS,\n",
        "           grouped_multiple_Temp,grouped_multiple_HCT ,grouped_multiple_Platelets, grouped_multiple_WBC, grouped_multiple_Na,\n",
        "           grouped_multiple_HCO3,grouped_multiple_k,grouped_multiple_Mg,grouped_multiple_Glucose,grouped_multiple_Urine,\n",
        "           grouped_multiple_NISysABP,grouped_multiple_NIDiasABP,grouped_multiple_NIMAP,grouped_multiple_pH,\n",
        "           grouped_multiple_PaCO2,grouped_multiple_PaO2,grouped_multiple_DiasABP,grouped_multiple_SysABP,\n",
        "           grouped_multiple_MAP,grouped_multiple_FiO2,grouped_multiple_MechVent,grouped_multiple_Lactate ]"
      ]
    },
    {
      "cell_type": "code",
      "execution_count": 88,
      "metadata": {
        "id": "923w3qb6HMdJ",
        "colab": {
          "base_uri": "https://localhost:8080/"
        },
        "outputId": "12309786-c975-419d-a179-0b30672f7b88"
      },
      "outputs": [
        {
          "output_type": "execute_result",
          "data": {
            "text/plain": [
              "RecordID                0\n",
              "In-hospital_death       0\n",
              "ICUType                 0\n",
              "Age                     0\n",
              "SOFA                    0\n",
              "SAPS-I                  0\n",
              "Weight                  0\n",
              "HR                     63\n",
              "BUN                    64\n",
              "Creatinine             64\n",
              "GCS                    64\n",
              "Temp                   64\n",
              "HCT                    64\n",
              "Platelets              68\n",
              "WBC                    73\n",
              "Na                     75\n",
              "HCO3                   76\n",
              "k                      96\n",
              "Mg                    103\n",
              "Glucose               113\n",
              "Urine                 117\n",
              "NISysABP              507\n",
              "NIDiasABP             517\n",
              "NIMAP                 519\n",
              "pH                    960\n",
              "PaCO2                 977\n",
              "PaO2                  977\n",
              "DiasABP              1201\n",
              "SysABP               1201\n",
              "MAP                  1208\n",
              "FiO2                 1283\n",
              "MechVent             1471\n",
              "Lactate              1817\n",
              "dtype: int64"
            ]
          },
          "metadata": {},
          "execution_count": 88
        }
      ],
      "source": [
        "#merge all DataFrames into one\n",
        "final_df_means = reduce(lambda  left,right: pd.merge(left,right,on=['RecordID'],\n",
        "                                            how='outer'), list_df_more_2000)\n",
        "final_df_means.isnull().sum()"
      ]
    },
    {
      "cell_type": "markdown",
      "source": [
        "# Final dataset"
      ],
      "metadata": {
        "id": "Paj9It2GRcva"
      }
    },
    {
      "cell_type": "code",
      "execution_count": 89,
      "metadata": {
        "id": "C_lm1c0b9tfx"
      },
      "outputs": [],
      "source": [
        "final_df_means.to_csv(directory + 'final_df_means.csv', index=False)"
      ]
    },
    {
      "cell_type": "code",
      "execution_count": 90,
      "metadata": {
        "id": "V23OXWeCAM_c"
      },
      "outputs": [],
      "source": [
        "final_df_means = pd.read_csv(directory + 'final_df_means.csv')"
      ]
    },
    {
      "cell_type": "code",
      "execution_count": 91,
      "metadata": {
        "id": "s6cCeV7MH7k5",
        "colab": {
          "base_uri": "https://localhost:8080/"
        },
        "outputId": "c2a36f79-2019-442c-983a-ef9850483793"
      },
      "outputs": [
        {
          "output_type": "stream",
          "name": "stdout",
          "text": [
            "<class 'pandas.core.frame.DataFrame'>\n",
            "RangeIndex: 4000 entries, 0 to 3999\n",
            "Data columns (total 33 columns):\n",
            " #   Column             Non-Null Count  Dtype  \n",
            "---  ------             --------------  -----  \n",
            " 0   RecordID           4000 non-null   int64  \n",
            " 1   In-hospital_death  4000 non-null   int64  \n",
            " 2   ICUType            4000 non-null   float64\n",
            " 3   Age                4000 non-null   float64\n",
            " 4   SOFA               4000 non-null   int64  \n",
            " 5   SAPS-I             4000 non-null   int64  \n",
            " 6   Weight             4000 non-null   float64\n",
            " 7   HR                 3937 non-null   float64\n",
            " 8   BUN                3936 non-null   float64\n",
            " 9   Creatinine         3936 non-null   float64\n",
            " 10  GCS                3936 non-null   float64\n",
            " 11  Temp               3936 non-null   float64\n",
            " 12  HCT                3936 non-null   float64\n",
            " 13  Platelets          3932 non-null   float64\n",
            " 14  WBC                3927 non-null   float64\n",
            " 15  Na                 3925 non-null   float64\n",
            " 16  HCO3               3924 non-null   float64\n",
            " 17  k                  3904 non-null   float64\n",
            " 18  Mg                 3897 non-null   float64\n",
            " 19  Glucose            3887 non-null   float64\n",
            " 20  Urine              3883 non-null   float64\n",
            " 21  NISysABP           3493 non-null   float64\n",
            " 22  NIDiasABP          3483 non-null   float64\n",
            " 23  NIMAP              3481 non-null   float64\n",
            " 24  pH                 3040 non-null   float64\n",
            " 25  PaCO2              3023 non-null   float64\n",
            " 26  PaO2               3023 non-null   float64\n",
            " 27  DiasABP            2799 non-null   float64\n",
            " 28  SysABP             2799 non-null   float64\n",
            " 29  MAP                2792 non-null   float64\n",
            " 30  FiO2               2717 non-null   float64\n",
            " 31  MechVent           2529 non-null   float64\n",
            " 32  Lactate            2183 non-null   float64\n",
            "dtypes: float64(29), int64(4)\n",
            "memory usage: 1.0 MB\n"
          ]
        }
      ],
      "source": [
        "final_df_means.info()"
      ]
    },
    {
      "cell_type": "code",
      "execution_count": 92,
      "metadata": {
        "id": "-ecehYkcH7h3",
        "colab": {
          "base_uri": "https://localhost:8080/"
        },
        "outputId": "d1e135f7-16fb-4c32-d860-ae8a89f130e8"
      },
      "outputs": [
        {
          "output_type": "execute_result",
          "data": {
            "text/plain": [
              "(4000, 33)"
            ]
          },
          "metadata": {},
          "execution_count": 92
        }
      ],
      "source": [
        "final_df_means.shape"
      ]
    },
    {
      "cell_type": "code",
      "execution_count": 93,
      "metadata": {
        "id": "G0gSCfGuA5oG",
        "colab": {
          "base_uri": "https://localhost:8080/"
        },
        "outputId": "f716a80c-27a8-4656-93ec-2cddedd08f88"
      },
      "outputs": [
        {
          "output_type": "execute_result",
          "data": {
            "text/plain": [
              "RecordID                0\n",
              "In-hospital_death       0\n",
              "ICUType                 0\n",
              "Age                     0\n",
              "SOFA                    0\n",
              "SAPS-I                  0\n",
              "Weight                  0\n",
              "HR                     63\n",
              "BUN                    64\n",
              "Creatinine             64\n",
              "GCS                    64\n",
              "Temp                   64\n",
              "HCT                    64\n",
              "Platelets              68\n",
              "WBC                    73\n",
              "Na                     75\n",
              "HCO3                   76\n",
              "k                      96\n",
              "Mg                    103\n",
              "Glucose               113\n",
              "Urine                 117\n",
              "NISysABP              507\n",
              "NIDiasABP             517\n",
              "NIMAP                 519\n",
              "pH                    960\n",
              "PaCO2                 977\n",
              "PaO2                  977\n",
              "DiasABP              1201\n",
              "SysABP               1201\n",
              "MAP                  1208\n",
              "FiO2                 1283\n",
              "MechVent             1471\n",
              "Lactate              1817\n",
              "dtype: int64"
            ]
          },
          "metadata": {},
          "execution_count": 93
        }
      ],
      "source": [
        "final_df_means.isnull().sum()"
      ]
    },
    {
      "cell_type": "code",
      "execution_count": 94,
      "metadata": {
        "id": "g__j4RSen9Cy"
      },
      "outputs": [],
      "source": [
        "# Cleaning the data from the nulls\n",
        "# Split the data into two datasets based on In-hospital_death\n",
        "\n",
        "# splitting the dataframe into 2 parts\n",
        "\n",
        "df_0 = final_df_means[final_df_means['In-hospital_death']== 0]\n",
        "df_1 = final_df_means[final_df_means['In-hospital_death']== 1]"
      ]
    },
    {
      "cell_type": "code",
      "execution_count": 95,
      "metadata": {
        "id": "izPhVHu0pk1i",
        "colab": {
          "base_uri": "https://localhost:8080/"
        },
        "outputId": "650f32e6-94dd-472a-8815-76b27771ea51"
      },
      "outputs": [
        {
          "output_type": "stream",
          "name": "stderr",
          "text": [
            "/usr/local/lib/python3.7/dist-packages/pandas/core/frame.py:5182: SettingWithCopyWarning: \n",
            "A value is trying to be set on a copy of a slice from a DataFrame\n",
            "\n",
            "See the caveats in the documentation: https://pandas.pydata.org/pandas-docs/stable/user_guide/indexing.html#returning-a-view-versus-a-copy\n",
            "  downcast=downcast,\n"
          ]
        }
      ],
      "source": [
        "# Replace nan values with average of columns\n",
        "df_0.mean()\n",
        "df_0.fillna(value=df_0['In-hospital_death'].mean(), inplace=True)"
      ]
    },
    {
      "cell_type": "code",
      "execution_count": 96,
      "metadata": {
        "id": "NmFwwueZpxi5",
        "colab": {
          "base_uri": "https://localhost:8080/",
          "height": 505
        },
        "outputId": "be7a0596-6aa8-4877-f928-32a83f7a193d"
      },
      "outputs": [
        {
          "output_type": "execute_result",
          "data": {
            "text/plain": [
              "      RecordID  In-hospital_death  ICUType   Age  SOFA  SAPS-I      Weight  \\\n",
              "0       132539                  0      4.0  54.0     1       6   -1.000000   \n",
              "1       132540                  0      2.0  76.0     8      16   80.670588   \n",
              "2       132541                  0      3.0  44.0    11      21   56.700000   \n",
              "3       132543                  0      3.0  68.0     1       7   84.600000   \n",
              "4       132545                  0      3.0  88.0     2      17   -1.000000   \n",
              "...        ...                ...      ...   ...   ...     ...         ...   \n",
              "3994    142664                  0      4.0  51.0     8      13   75.000000   \n",
              "3995    142665                  0      4.0  70.0     7      19   87.000000   \n",
              "3996    142667                  0      3.0  25.0     2       8  166.400000   \n",
              "3997    142670                  0      3.0  44.0     5       8  109.000000   \n",
              "3999    142673                  0      4.0  78.0    11      25   87.838889   \n",
              "\n",
              "             HR        BUN  Creatinine  ...      NIMAP        pH      PaCO2  \\\n",
              "0     70.810811  10.500000    0.750000  ...  71.559118  0.000000   0.000000   \n",
              "1     80.794118  18.333333    1.100000  ...  75.308571  7.395000  38.857143   \n",
              "2     83.759259   4.666667    0.333333  ...  96.751316  7.495000  35.500000   \n",
              "3     70.983333  17.666667    0.766667  ...  83.885517  0.000000   0.000000   \n",
              "4     74.958333  35.000000    1.000000  ...  74.946512  0.000000   0.000000   \n",
              "...         ...        ...         ...  ...        ...       ...        ...   \n",
              "3994  95.827586  11.333333    0.466667  ...   0.000000  7.443333  40.000000   \n",
              "3995  99.230769  16.000000    0.900000  ...  79.144333  7.381429  40.428571   \n",
              "3996  79.136364   4.400000    0.840000  ...  81.471364  0.000000   0.000000   \n",
              "3997  97.884615   7.750000    1.125000  ...  80.529130  7.396667  42.000000   \n",
              "3999  88.531915  20.166667    1.116667  ...  73.533333  7.305600  40.041667   \n",
              "\n",
              "            PaO2    DiasABP      SysABP        MAP      FiO2  MechVent  \\\n",
              "0       0.000000   0.000000    0.000000   0.000000  0.000000       0.0   \n",
              "1     210.142857  58.897059  113.411765  76.940299  0.560000       1.0   \n",
              "2     134.500000  67.125000  125.687500  90.437500  0.500000       1.0   \n",
              "3       0.000000   0.000000    0.000000   0.000000  0.000000       0.0   \n",
              "4       0.000000   0.000000    0.000000   0.000000  0.000000       0.0   \n",
              "...          ...        ...         ...        ...       ...       ...   \n",
              "3994  138.250000  70.103448  117.258621  86.396552  0.414286       1.0   \n",
              "3995  141.285714  68.865385  117.230769  86.865385  0.442857       1.0   \n",
              "3996    0.000000   0.000000    0.000000   0.000000  0.000000       0.0   \n",
              "3997  149.000000  74.166667  125.666667  89.666667  0.412500       1.0   \n",
              "3999  163.458333  57.836957  111.532609  76.472527  0.600000       1.0   \n",
              "\n",
              "       Lactate  \n",
              "0     0.000000  \n",
              "1     0.000000  \n",
              "2     1.366667  \n",
              "3     0.000000  \n",
              "4     0.000000  \n",
              "...        ...  \n",
              "3994  0.000000  \n",
              "3995  2.200000  \n",
              "3996  0.000000  \n",
              "3997  0.000000  \n",
              "3999  3.238462  \n",
              "\n",
              "[3446 rows x 33 columns]"
            ],
            "text/html": [
              "\n",
              "  <div id=\"df-45670eb0-8bf2-4652-a30e-3842097bd690\">\n",
              "    <div class=\"colab-df-container\">\n",
              "      <div>\n",
              "<style scoped>\n",
              "    .dataframe tbody tr th:only-of-type {\n",
              "        vertical-align: middle;\n",
              "    }\n",
              "\n",
              "    .dataframe tbody tr th {\n",
              "        vertical-align: top;\n",
              "    }\n",
              "\n",
              "    .dataframe thead th {\n",
              "        text-align: right;\n",
              "    }\n",
              "</style>\n",
              "<table border=\"1\" class=\"dataframe\">\n",
              "  <thead>\n",
              "    <tr style=\"text-align: right;\">\n",
              "      <th></th>\n",
              "      <th>RecordID</th>\n",
              "      <th>In-hospital_death</th>\n",
              "      <th>ICUType</th>\n",
              "      <th>Age</th>\n",
              "      <th>SOFA</th>\n",
              "      <th>SAPS-I</th>\n",
              "      <th>Weight</th>\n",
              "      <th>HR</th>\n",
              "      <th>BUN</th>\n",
              "      <th>Creatinine</th>\n",
              "      <th>...</th>\n",
              "      <th>NIMAP</th>\n",
              "      <th>pH</th>\n",
              "      <th>PaCO2</th>\n",
              "      <th>PaO2</th>\n",
              "      <th>DiasABP</th>\n",
              "      <th>SysABP</th>\n",
              "      <th>MAP</th>\n",
              "      <th>FiO2</th>\n",
              "      <th>MechVent</th>\n",
              "      <th>Lactate</th>\n",
              "    </tr>\n",
              "  </thead>\n",
              "  <tbody>\n",
              "    <tr>\n",
              "      <th>0</th>\n",
              "      <td>132539</td>\n",
              "      <td>0</td>\n",
              "      <td>4.0</td>\n",
              "      <td>54.0</td>\n",
              "      <td>1</td>\n",
              "      <td>6</td>\n",
              "      <td>-1.000000</td>\n",
              "      <td>70.810811</td>\n",
              "      <td>10.500000</td>\n",
              "      <td>0.750000</td>\n",
              "      <td>...</td>\n",
              "      <td>71.559118</td>\n",
              "      <td>0.000000</td>\n",
              "      <td>0.000000</td>\n",
              "      <td>0.000000</td>\n",
              "      <td>0.000000</td>\n",
              "      <td>0.000000</td>\n",
              "      <td>0.000000</td>\n",
              "      <td>0.000000</td>\n",
              "      <td>0.0</td>\n",
              "      <td>0.000000</td>\n",
              "    </tr>\n",
              "    <tr>\n",
              "      <th>1</th>\n",
              "      <td>132540</td>\n",
              "      <td>0</td>\n",
              "      <td>2.0</td>\n",
              "      <td>76.0</td>\n",
              "      <td>8</td>\n",
              "      <td>16</td>\n",
              "      <td>80.670588</td>\n",
              "      <td>80.794118</td>\n",
              "      <td>18.333333</td>\n",
              "      <td>1.100000</td>\n",
              "      <td>...</td>\n",
              "      <td>75.308571</td>\n",
              "      <td>7.395000</td>\n",
              "      <td>38.857143</td>\n",
              "      <td>210.142857</td>\n",
              "      <td>58.897059</td>\n",
              "      <td>113.411765</td>\n",
              "      <td>76.940299</td>\n",
              "      <td>0.560000</td>\n",
              "      <td>1.0</td>\n",
              "      <td>0.000000</td>\n",
              "    </tr>\n",
              "    <tr>\n",
              "      <th>2</th>\n",
              "      <td>132541</td>\n",
              "      <td>0</td>\n",
              "      <td>3.0</td>\n",
              "      <td>44.0</td>\n",
              "      <td>11</td>\n",
              "      <td>21</td>\n",
              "      <td>56.700000</td>\n",
              "      <td>83.759259</td>\n",
              "      <td>4.666667</td>\n",
              "      <td>0.333333</td>\n",
              "      <td>...</td>\n",
              "      <td>96.751316</td>\n",
              "      <td>7.495000</td>\n",
              "      <td>35.500000</td>\n",
              "      <td>134.500000</td>\n",
              "      <td>67.125000</td>\n",
              "      <td>125.687500</td>\n",
              "      <td>90.437500</td>\n",
              "      <td>0.500000</td>\n",
              "      <td>1.0</td>\n",
              "      <td>1.366667</td>\n",
              "    </tr>\n",
              "    <tr>\n",
              "      <th>3</th>\n",
              "      <td>132543</td>\n",
              "      <td>0</td>\n",
              "      <td>3.0</td>\n",
              "      <td>68.0</td>\n",
              "      <td>1</td>\n",
              "      <td>7</td>\n",
              "      <td>84.600000</td>\n",
              "      <td>70.983333</td>\n",
              "      <td>17.666667</td>\n",
              "      <td>0.766667</td>\n",
              "      <td>...</td>\n",
              "      <td>83.885517</td>\n",
              "      <td>0.000000</td>\n",
              "      <td>0.000000</td>\n",
              "      <td>0.000000</td>\n",
              "      <td>0.000000</td>\n",
              "      <td>0.000000</td>\n",
              "      <td>0.000000</td>\n",
              "      <td>0.000000</td>\n",
              "      <td>0.0</td>\n",
              "      <td>0.000000</td>\n",
              "    </tr>\n",
              "    <tr>\n",
              "      <th>4</th>\n",
              "      <td>132545</td>\n",
              "      <td>0</td>\n",
              "      <td>3.0</td>\n",
              "      <td>88.0</td>\n",
              "      <td>2</td>\n",
              "      <td>17</td>\n",
              "      <td>-1.000000</td>\n",
              "      <td>74.958333</td>\n",
              "      <td>35.000000</td>\n",
              "      <td>1.000000</td>\n",
              "      <td>...</td>\n",
              "      <td>74.946512</td>\n",
              "      <td>0.000000</td>\n",
              "      <td>0.000000</td>\n",
              "      <td>0.000000</td>\n",
              "      <td>0.000000</td>\n",
              "      <td>0.000000</td>\n",
              "      <td>0.000000</td>\n",
              "      <td>0.000000</td>\n",
              "      <td>0.0</td>\n",
              "      <td>0.000000</td>\n",
              "    </tr>\n",
              "    <tr>\n",
              "      <th>...</th>\n",
              "      <td>...</td>\n",
              "      <td>...</td>\n",
              "      <td>...</td>\n",
              "      <td>...</td>\n",
              "      <td>...</td>\n",
              "      <td>...</td>\n",
              "      <td>...</td>\n",
              "      <td>...</td>\n",
              "      <td>...</td>\n",
              "      <td>...</td>\n",
              "      <td>...</td>\n",
              "      <td>...</td>\n",
              "      <td>...</td>\n",
              "      <td>...</td>\n",
              "      <td>...</td>\n",
              "      <td>...</td>\n",
              "      <td>...</td>\n",
              "      <td>...</td>\n",
              "      <td>...</td>\n",
              "      <td>...</td>\n",
              "      <td>...</td>\n",
              "    </tr>\n",
              "    <tr>\n",
              "      <th>3994</th>\n",
              "      <td>142664</td>\n",
              "      <td>0</td>\n",
              "      <td>4.0</td>\n",
              "      <td>51.0</td>\n",
              "      <td>8</td>\n",
              "      <td>13</td>\n",
              "      <td>75.000000</td>\n",
              "      <td>95.827586</td>\n",
              "      <td>11.333333</td>\n",
              "      <td>0.466667</td>\n",
              "      <td>...</td>\n",
              "      <td>0.000000</td>\n",
              "      <td>7.443333</td>\n",
              "      <td>40.000000</td>\n",
              "      <td>138.250000</td>\n",
              "      <td>70.103448</td>\n",
              "      <td>117.258621</td>\n",
              "      <td>86.396552</td>\n",
              "      <td>0.414286</td>\n",
              "      <td>1.0</td>\n",
              "      <td>0.000000</td>\n",
              "    </tr>\n",
              "    <tr>\n",
              "      <th>3995</th>\n",
              "      <td>142665</td>\n",
              "      <td>0</td>\n",
              "      <td>4.0</td>\n",
              "      <td>70.0</td>\n",
              "      <td>7</td>\n",
              "      <td>19</td>\n",
              "      <td>87.000000</td>\n",
              "      <td>99.230769</td>\n",
              "      <td>16.000000</td>\n",
              "      <td>0.900000</td>\n",
              "      <td>...</td>\n",
              "      <td>79.144333</td>\n",
              "      <td>7.381429</td>\n",
              "      <td>40.428571</td>\n",
              "      <td>141.285714</td>\n",
              "      <td>68.865385</td>\n",
              "      <td>117.230769</td>\n",
              "      <td>86.865385</td>\n",
              "      <td>0.442857</td>\n",
              "      <td>1.0</td>\n",
              "      <td>2.200000</td>\n",
              "    </tr>\n",
              "    <tr>\n",
              "      <th>3996</th>\n",
              "      <td>142667</td>\n",
              "      <td>0</td>\n",
              "      <td>3.0</td>\n",
              "      <td>25.0</td>\n",
              "      <td>2</td>\n",
              "      <td>8</td>\n",
              "      <td>166.400000</td>\n",
              "      <td>79.136364</td>\n",
              "      <td>4.400000</td>\n",
              "      <td>0.840000</td>\n",
              "      <td>...</td>\n",
              "      <td>81.471364</td>\n",
              "      <td>0.000000</td>\n",
              "      <td>0.000000</td>\n",
              "      <td>0.000000</td>\n",
              "      <td>0.000000</td>\n",
              "      <td>0.000000</td>\n",
              "      <td>0.000000</td>\n",
              "      <td>0.000000</td>\n",
              "      <td>0.0</td>\n",
              "      <td>0.000000</td>\n",
              "    </tr>\n",
              "    <tr>\n",
              "      <th>3997</th>\n",
              "      <td>142670</td>\n",
              "      <td>0</td>\n",
              "      <td>3.0</td>\n",
              "      <td>44.0</td>\n",
              "      <td>5</td>\n",
              "      <td>8</td>\n",
              "      <td>109.000000</td>\n",
              "      <td>97.884615</td>\n",
              "      <td>7.750000</td>\n",
              "      <td>1.125000</td>\n",
              "      <td>...</td>\n",
              "      <td>80.529130</td>\n",
              "      <td>7.396667</td>\n",
              "      <td>42.000000</td>\n",
              "      <td>149.000000</td>\n",
              "      <td>74.166667</td>\n",
              "      <td>125.666667</td>\n",
              "      <td>89.666667</td>\n",
              "      <td>0.412500</td>\n",
              "      <td>1.0</td>\n",
              "      <td>0.000000</td>\n",
              "    </tr>\n",
              "    <tr>\n",
              "      <th>3999</th>\n",
              "      <td>142673</td>\n",
              "      <td>0</td>\n",
              "      <td>4.0</td>\n",
              "      <td>78.0</td>\n",
              "      <td>11</td>\n",
              "      <td>25</td>\n",
              "      <td>87.838889</td>\n",
              "      <td>88.531915</td>\n",
              "      <td>20.166667</td>\n",
              "      <td>1.116667</td>\n",
              "      <td>...</td>\n",
              "      <td>73.533333</td>\n",
              "      <td>7.305600</td>\n",
              "      <td>40.041667</td>\n",
              "      <td>163.458333</td>\n",
              "      <td>57.836957</td>\n",
              "      <td>111.532609</td>\n",
              "      <td>76.472527</td>\n",
              "      <td>0.600000</td>\n",
              "      <td>1.0</td>\n",
              "      <td>3.238462</td>\n",
              "    </tr>\n",
              "  </tbody>\n",
              "</table>\n",
              "<p>3446 rows × 33 columns</p>\n",
              "</div>\n",
              "      <button class=\"colab-df-convert\" onclick=\"convertToInteractive('df-45670eb0-8bf2-4652-a30e-3842097bd690')\"\n",
              "              title=\"Convert this dataframe to an interactive table.\"\n",
              "              style=\"display:none;\">\n",
              "        \n",
              "  <svg xmlns=\"http://www.w3.org/2000/svg\" height=\"24px\"viewBox=\"0 0 24 24\"\n",
              "       width=\"24px\">\n",
              "    <path d=\"M0 0h24v24H0V0z\" fill=\"none\"/>\n",
              "    <path d=\"M18.56 5.44l.94 2.06.94-2.06 2.06-.94-2.06-.94-.94-2.06-.94 2.06-2.06.94zm-11 1L8.5 8.5l.94-2.06 2.06-.94-2.06-.94L8.5 2.5l-.94 2.06-2.06.94zm10 10l.94 2.06.94-2.06 2.06-.94-2.06-.94-.94-2.06-.94 2.06-2.06.94z\"/><path d=\"M17.41 7.96l-1.37-1.37c-.4-.4-.92-.59-1.43-.59-.52 0-1.04.2-1.43.59L10.3 9.45l-7.72 7.72c-.78.78-.78 2.05 0 2.83L4 21.41c.39.39.9.59 1.41.59.51 0 1.02-.2 1.41-.59l7.78-7.78 2.81-2.81c.8-.78.8-2.07 0-2.86zM5.41 20L4 18.59l7.72-7.72 1.47 1.35L5.41 20z\"/>\n",
              "  </svg>\n",
              "      </button>\n",
              "      \n",
              "  <style>\n",
              "    .colab-df-container {\n",
              "      display:flex;\n",
              "      flex-wrap:wrap;\n",
              "      gap: 12px;\n",
              "    }\n",
              "\n",
              "    .colab-df-convert {\n",
              "      background-color: #E8F0FE;\n",
              "      border: none;\n",
              "      border-radius: 50%;\n",
              "      cursor: pointer;\n",
              "      display: none;\n",
              "      fill: #1967D2;\n",
              "      height: 32px;\n",
              "      padding: 0 0 0 0;\n",
              "      width: 32px;\n",
              "    }\n",
              "\n",
              "    .colab-df-convert:hover {\n",
              "      background-color: #E2EBFA;\n",
              "      box-shadow: 0px 1px 2px rgba(60, 64, 67, 0.3), 0px 1px 3px 1px rgba(60, 64, 67, 0.15);\n",
              "      fill: #174EA6;\n",
              "    }\n",
              "\n",
              "    [theme=dark] .colab-df-convert {\n",
              "      background-color: #3B4455;\n",
              "      fill: #D2E3FC;\n",
              "    }\n",
              "\n",
              "    [theme=dark] .colab-df-convert:hover {\n",
              "      background-color: #434B5C;\n",
              "      box-shadow: 0px 1px 3px 1px rgba(0, 0, 0, 0.15);\n",
              "      filter: drop-shadow(0px 1px 2px rgba(0, 0, 0, 0.3));\n",
              "      fill: #FFFFFF;\n",
              "    }\n",
              "  </style>\n",
              "\n",
              "      <script>\n",
              "        const buttonEl =\n",
              "          document.querySelector('#df-45670eb0-8bf2-4652-a30e-3842097bd690 button.colab-df-convert');\n",
              "        buttonEl.style.display =\n",
              "          google.colab.kernel.accessAllowed ? 'block' : 'none';\n",
              "\n",
              "        async function convertToInteractive(key) {\n",
              "          const element = document.querySelector('#df-45670eb0-8bf2-4652-a30e-3842097bd690');\n",
              "          const dataTable =\n",
              "            await google.colab.kernel.invokeFunction('convertToInteractive',\n",
              "                                                     [key], {});\n",
              "          if (!dataTable) return;\n",
              "\n",
              "          const docLinkHtml = 'Like what you see? Visit the ' +\n",
              "            '<a target=\"_blank\" href=https://colab.research.google.com/notebooks/data_table.ipynb>data table notebook</a>'\n",
              "            + ' to learn more about interactive tables.';\n",
              "          element.innerHTML = '';\n",
              "          dataTable['output_type'] = 'display_data';\n",
              "          await google.colab.output.renderOutput(dataTable, element);\n",
              "          const docLink = document.createElement('div');\n",
              "          docLink.innerHTML = docLinkHtml;\n",
              "          element.appendChild(docLink);\n",
              "        }\n",
              "      </script>\n",
              "    </div>\n",
              "  </div>\n",
              "  "
            ]
          },
          "metadata": {},
          "execution_count": 96
        }
      ],
      "source": [
        "df_0\n"
      ]
    },
    {
      "cell_type": "code",
      "execution_count": 97,
      "metadata": {
        "id": "lNnjererpYEy",
        "colab": {
          "base_uri": "https://localhost:8080/",
          "height": 592
        },
        "outputId": "bded6c6a-caa9-4b50-cbaa-91b49889d0de"
      },
      "outputs": [
        {
          "output_type": "stream",
          "name": "stderr",
          "text": [
            "/usr/local/lib/python3.7/dist-packages/pandas/core/frame.py:5182: SettingWithCopyWarning: \n",
            "A value is trying to be set on a copy of a slice from a DataFrame\n",
            "\n",
            "See the caveats in the documentation: https://pandas.pydata.org/pandas-docs/stable/user_guide/indexing.html#returning-a-view-versus-a-copy\n",
            "  downcast=downcast,\n"
          ]
        },
        {
          "output_type": "execute_result",
          "data": {
            "text/plain": [
              "      RecordID  In-hospital_death  ICUType   Age  SOFA  SAPS-I  Weight  \\\n",
              "7       132551                  1      3.0  78.0     8      19  48.400   \n",
              "20      132588                  1      3.0  48.0     7      -1  42.300   \n",
              "26      132598                  1      4.0  80.0     5      22  60.000   \n",
              "29      132602                  1      3.0  80.0     1      13  70.000   \n",
              "30      132605                  1      3.0  90.0     9      21  55.000   \n",
              "...        ...                ...      ...   ...   ...     ...     ...   \n",
              "3973    142603                  1      4.0  61.0     7      13  80.375   \n",
              "3977    142618                  1      3.0  57.0     8      21  93.500   \n",
              "3979    142626                  1      4.0  83.0     4      16  70.000   \n",
              "3983    142638                  1      3.0  74.0     7      19  65.000   \n",
              "3998    142671                  1      3.0  37.0    10      22  87.400   \n",
              "\n",
              "              HR        BUN  Creatinine  ...      NIMAP        pH      PaCO2  \\\n",
              "7      70.945205  64.600000    0.680000  ...  55.177907  7.274000  30.533333   \n",
              "20     93.850000   6.000000    2.850000  ...  64.148611  1.000000   1.000000   \n",
              "26     78.708861  23.666667    0.833333  ...  89.037674  7.484286  28.285714   \n",
              "29     74.452830  29.500000    1.200000  ...  80.791667  7.510000  37.000000   \n",
              "30     72.122807  27.000000    0.400000  ...  64.095000  7.420000  45.000000   \n",
              "...          ...        ...         ...  ...        ...       ...        ...   \n",
              "3973   92.333333  29.666667    0.733333  ...   1.000000  7.500000  32.700000   \n",
              "3977  100.108434  13.000000    0.650000  ...  66.866444  7.462500  38.000000   \n",
              "3979   93.139241  28.250000    1.800000  ...  75.032000  7.408000  39.600000   \n",
              "3983   57.946429  57.000000    5.100000  ...  54.635926  7.146667  53.000000   \n",
              "3998   88.461538  89.250000    9.650000  ...   1.000000  7.416000  44.200000   \n",
              "\n",
              "            PaO2    DiasABP      SysABP         MAP      FiO2  MechVent  \\\n",
              "7     130.400000  39.266667  125.550000   64.766667  0.536364       1.0   \n",
              "20      1.000000   1.000000    1.000000    1.000000  1.000000       1.0   \n",
              "26    190.571429  68.464789  143.591549   95.478873  0.493750       1.0   \n",
              "29     61.000000   1.000000    1.000000    1.000000  0.942222       1.0   \n",
              "30    118.000000   1.000000    1.000000    1.000000  0.415385       1.0   \n",
              "...          ...        ...         ...         ...       ...       ...   \n",
              "3973  113.100000  71.383562  126.958904   90.273973  0.400000       1.0   \n",
              "3977  118.125000  53.890244  104.975610   69.111111  0.492857       1.0   \n",
              "3979  135.800000  64.958333  139.250000   88.971014  1.000000       1.0   \n",
              "3983   82.666667  47.800000   93.000000   65.200000  1.000000       1.0   \n",
              "3998  175.600000  92.923077  166.615385  115.730769  0.533333       1.0   \n",
              "\n",
              "      Lactate  \n",
              "7      1.6375  \n",
              "20     1.0000  \n",
              "26     1.0000  \n",
              "29     1.0000  \n",
              "30     1.0000  \n",
              "...       ...  \n",
              "3973   1.8000  \n",
              "3977   2.8000  \n",
              "3979   1.3000  \n",
              "3983   3.1000  \n",
              "3998   1.9000  \n",
              "\n",
              "[554 rows x 33 columns]"
            ],
            "text/html": [
              "\n",
              "  <div id=\"df-726a4a56-c59f-4a2a-afaa-b7e312a052e4\">\n",
              "    <div class=\"colab-df-container\">\n",
              "      <div>\n",
              "<style scoped>\n",
              "    .dataframe tbody tr th:only-of-type {\n",
              "        vertical-align: middle;\n",
              "    }\n",
              "\n",
              "    .dataframe tbody tr th {\n",
              "        vertical-align: top;\n",
              "    }\n",
              "\n",
              "    .dataframe thead th {\n",
              "        text-align: right;\n",
              "    }\n",
              "</style>\n",
              "<table border=\"1\" class=\"dataframe\">\n",
              "  <thead>\n",
              "    <tr style=\"text-align: right;\">\n",
              "      <th></th>\n",
              "      <th>RecordID</th>\n",
              "      <th>In-hospital_death</th>\n",
              "      <th>ICUType</th>\n",
              "      <th>Age</th>\n",
              "      <th>SOFA</th>\n",
              "      <th>SAPS-I</th>\n",
              "      <th>Weight</th>\n",
              "      <th>HR</th>\n",
              "      <th>BUN</th>\n",
              "      <th>Creatinine</th>\n",
              "      <th>...</th>\n",
              "      <th>NIMAP</th>\n",
              "      <th>pH</th>\n",
              "      <th>PaCO2</th>\n",
              "      <th>PaO2</th>\n",
              "      <th>DiasABP</th>\n",
              "      <th>SysABP</th>\n",
              "      <th>MAP</th>\n",
              "      <th>FiO2</th>\n",
              "      <th>MechVent</th>\n",
              "      <th>Lactate</th>\n",
              "    </tr>\n",
              "  </thead>\n",
              "  <tbody>\n",
              "    <tr>\n",
              "      <th>7</th>\n",
              "      <td>132551</td>\n",
              "      <td>1</td>\n",
              "      <td>3.0</td>\n",
              "      <td>78.0</td>\n",
              "      <td>8</td>\n",
              "      <td>19</td>\n",
              "      <td>48.400</td>\n",
              "      <td>70.945205</td>\n",
              "      <td>64.600000</td>\n",
              "      <td>0.680000</td>\n",
              "      <td>...</td>\n",
              "      <td>55.177907</td>\n",
              "      <td>7.274000</td>\n",
              "      <td>30.533333</td>\n",
              "      <td>130.400000</td>\n",
              "      <td>39.266667</td>\n",
              "      <td>125.550000</td>\n",
              "      <td>64.766667</td>\n",
              "      <td>0.536364</td>\n",
              "      <td>1.0</td>\n",
              "      <td>1.6375</td>\n",
              "    </tr>\n",
              "    <tr>\n",
              "      <th>20</th>\n",
              "      <td>132588</td>\n",
              "      <td>1</td>\n",
              "      <td>3.0</td>\n",
              "      <td>48.0</td>\n",
              "      <td>7</td>\n",
              "      <td>-1</td>\n",
              "      <td>42.300</td>\n",
              "      <td>93.850000</td>\n",
              "      <td>6.000000</td>\n",
              "      <td>2.850000</td>\n",
              "      <td>...</td>\n",
              "      <td>64.148611</td>\n",
              "      <td>1.000000</td>\n",
              "      <td>1.000000</td>\n",
              "      <td>1.000000</td>\n",
              "      <td>1.000000</td>\n",
              "      <td>1.000000</td>\n",
              "      <td>1.000000</td>\n",
              "      <td>1.000000</td>\n",
              "      <td>1.0</td>\n",
              "      <td>1.0000</td>\n",
              "    </tr>\n",
              "    <tr>\n",
              "      <th>26</th>\n",
              "      <td>132598</td>\n",
              "      <td>1</td>\n",
              "      <td>4.0</td>\n",
              "      <td>80.0</td>\n",
              "      <td>5</td>\n",
              "      <td>22</td>\n",
              "      <td>60.000</td>\n",
              "      <td>78.708861</td>\n",
              "      <td>23.666667</td>\n",
              "      <td>0.833333</td>\n",
              "      <td>...</td>\n",
              "      <td>89.037674</td>\n",
              "      <td>7.484286</td>\n",
              "      <td>28.285714</td>\n",
              "      <td>190.571429</td>\n",
              "      <td>68.464789</td>\n",
              "      <td>143.591549</td>\n",
              "      <td>95.478873</td>\n",
              "      <td>0.493750</td>\n",
              "      <td>1.0</td>\n",
              "      <td>1.0000</td>\n",
              "    </tr>\n",
              "    <tr>\n",
              "      <th>29</th>\n",
              "      <td>132602</td>\n",
              "      <td>1</td>\n",
              "      <td>3.0</td>\n",
              "      <td>80.0</td>\n",
              "      <td>1</td>\n",
              "      <td>13</td>\n",
              "      <td>70.000</td>\n",
              "      <td>74.452830</td>\n",
              "      <td>29.500000</td>\n",
              "      <td>1.200000</td>\n",
              "      <td>...</td>\n",
              "      <td>80.791667</td>\n",
              "      <td>7.510000</td>\n",
              "      <td>37.000000</td>\n",
              "      <td>61.000000</td>\n",
              "      <td>1.000000</td>\n",
              "      <td>1.000000</td>\n",
              "      <td>1.000000</td>\n",
              "      <td>0.942222</td>\n",
              "      <td>1.0</td>\n",
              "      <td>1.0000</td>\n",
              "    </tr>\n",
              "    <tr>\n",
              "      <th>30</th>\n",
              "      <td>132605</td>\n",
              "      <td>1</td>\n",
              "      <td>3.0</td>\n",
              "      <td>90.0</td>\n",
              "      <td>9</td>\n",
              "      <td>21</td>\n",
              "      <td>55.000</td>\n",
              "      <td>72.122807</td>\n",
              "      <td>27.000000</td>\n",
              "      <td>0.400000</td>\n",
              "      <td>...</td>\n",
              "      <td>64.095000</td>\n",
              "      <td>7.420000</td>\n",
              "      <td>45.000000</td>\n",
              "      <td>118.000000</td>\n",
              "      <td>1.000000</td>\n",
              "      <td>1.000000</td>\n",
              "      <td>1.000000</td>\n",
              "      <td>0.415385</td>\n",
              "      <td>1.0</td>\n",
              "      <td>1.0000</td>\n",
              "    </tr>\n",
              "    <tr>\n",
              "      <th>...</th>\n",
              "      <td>...</td>\n",
              "      <td>...</td>\n",
              "      <td>...</td>\n",
              "      <td>...</td>\n",
              "      <td>...</td>\n",
              "      <td>...</td>\n",
              "      <td>...</td>\n",
              "      <td>...</td>\n",
              "      <td>...</td>\n",
              "      <td>...</td>\n",
              "      <td>...</td>\n",
              "      <td>...</td>\n",
              "      <td>...</td>\n",
              "      <td>...</td>\n",
              "      <td>...</td>\n",
              "      <td>...</td>\n",
              "      <td>...</td>\n",
              "      <td>...</td>\n",
              "      <td>...</td>\n",
              "      <td>...</td>\n",
              "      <td>...</td>\n",
              "    </tr>\n",
              "    <tr>\n",
              "      <th>3973</th>\n",
              "      <td>142603</td>\n",
              "      <td>1</td>\n",
              "      <td>4.0</td>\n",
              "      <td>61.0</td>\n",
              "      <td>7</td>\n",
              "      <td>13</td>\n",
              "      <td>80.375</td>\n",
              "      <td>92.333333</td>\n",
              "      <td>29.666667</td>\n",
              "      <td>0.733333</td>\n",
              "      <td>...</td>\n",
              "      <td>1.000000</td>\n",
              "      <td>7.500000</td>\n",
              "      <td>32.700000</td>\n",
              "      <td>113.100000</td>\n",
              "      <td>71.383562</td>\n",
              "      <td>126.958904</td>\n",
              "      <td>90.273973</td>\n",
              "      <td>0.400000</td>\n",
              "      <td>1.0</td>\n",
              "      <td>1.8000</td>\n",
              "    </tr>\n",
              "    <tr>\n",
              "      <th>3977</th>\n",
              "      <td>142618</td>\n",
              "      <td>1</td>\n",
              "      <td>3.0</td>\n",
              "      <td>57.0</td>\n",
              "      <td>8</td>\n",
              "      <td>21</td>\n",
              "      <td>93.500</td>\n",
              "      <td>100.108434</td>\n",
              "      <td>13.000000</td>\n",
              "      <td>0.650000</td>\n",
              "      <td>...</td>\n",
              "      <td>66.866444</td>\n",
              "      <td>7.462500</td>\n",
              "      <td>38.000000</td>\n",
              "      <td>118.125000</td>\n",
              "      <td>53.890244</td>\n",
              "      <td>104.975610</td>\n",
              "      <td>69.111111</td>\n",
              "      <td>0.492857</td>\n",
              "      <td>1.0</td>\n",
              "      <td>2.8000</td>\n",
              "    </tr>\n",
              "    <tr>\n",
              "      <th>3979</th>\n",
              "      <td>142626</td>\n",
              "      <td>1</td>\n",
              "      <td>4.0</td>\n",
              "      <td>83.0</td>\n",
              "      <td>4</td>\n",
              "      <td>16</td>\n",
              "      <td>70.000</td>\n",
              "      <td>93.139241</td>\n",
              "      <td>28.250000</td>\n",
              "      <td>1.800000</td>\n",
              "      <td>...</td>\n",
              "      <td>75.032000</td>\n",
              "      <td>7.408000</td>\n",
              "      <td>39.600000</td>\n",
              "      <td>135.800000</td>\n",
              "      <td>64.958333</td>\n",
              "      <td>139.250000</td>\n",
              "      <td>88.971014</td>\n",
              "      <td>1.000000</td>\n",
              "      <td>1.0</td>\n",
              "      <td>1.3000</td>\n",
              "    </tr>\n",
              "    <tr>\n",
              "      <th>3983</th>\n",
              "      <td>142638</td>\n",
              "      <td>1</td>\n",
              "      <td>3.0</td>\n",
              "      <td>74.0</td>\n",
              "      <td>7</td>\n",
              "      <td>19</td>\n",
              "      <td>65.000</td>\n",
              "      <td>57.946429</td>\n",
              "      <td>57.000000</td>\n",
              "      <td>5.100000</td>\n",
              "      <td>...</td>\n",
              "      <td>54.635926</td>\n",
              "      <td>7.146667</td>\n",
              "      <td>53.000000</td>\n",
              "      <td>82.666667</td>\n",
              "      <td>47.800000</td>\n",
              "      <td>93.000000</td>\n",
              "      <td>65.200000</td>\n",
              "      <td>1.000000</td>\n",
              "      <td>1.0</td>\n",
              "      <td>3.1000</td>\n",
              "    </tr>\n",
              "    <tr>\n",
              "      <th>3998</th>\n",
              "      <td>142671</td>\n",
              "      <td>1</td>\n",
              "      <td>3.0</td>\n",
              "      <td>37.0</td>\n",
              "      <td>10</td>\n",
              "      <td>22</td>\n",
              "      <td>87.400</td>\n",
              "      <td>88.461538</td>\n",
              "      <td>89.250000</td>\n",
              "      <td>9.650000</td>\n",
              "      <td>...</td>\n",
              "      <td>1.000000</td>\n",
              "      <td>7.416000</td>\n",
              "      <td>44.200000</td>\n",
              "      <td>175.600000</td>\n",
              "      <td>92.923077</td>\n",
              "      <td>166.615385</td>\n",
              "      <td>115.730769</td>\n",
              "      <td>0.533333</td>\n",
              "      <td>1.0</td>\n",
              "      <td>1.9000</td>\n",
              "    </tr>\n",
              "  </tbody>\n",
              "</table>\n",
              "<p>554 rows × 33 columns</p>\n",
              "</div>\n",
              "      <button class=\"colab-df-convert\" onclick=\"convertToInteractive('df-726a4a56-c59f-4a2a-afaa-b7e312a052e4')\"\n",
              "              title=\"Convert this dataframe to an interactive table.\"\n",
              "              style=\"display:none;\">\n",
              "        \n",
              "  <svg xmlns=\"http://www.w3.org/2000/svg\" height=\"24px\"viewBox=\"0 0 24 24\"\n",
              "       width=\"24px\">\n",
              "    <path d=\"M0 0h24v24H0V0z\" fill=\"none\"/>\n",
              "    <path d=\"M18.56 5.44l.94 2.06.94-2.06 2.06-.94-2.06-.94-.94-2.06-.94 2.06-2.06.94zm-11 1L8.5 8.5l.94-2.06 2.06-.94-2.06-.94L8.5 2.5l-.94 2.06-2.06.94zm10 10l.94 2.06.94-2.06 2.06-.94-2.06-.94-.94-2.06-.94 2.06-2.06.94z\"/><path d=\"M17.41 7.96l-1.37-1.37c-.4-.4-.92-.59-1.43-.59-.52 0-1.04.2-1.43.59L10.3 9.45l-7.72 7.72c-.78.78-.78 2.05 0 2.83L4 21.41c.39.39.9.59 1.41.59.51 0 1.02-.2 1.41-.59l7.78-7.78 2.81-2.81c.8-.78.8-2.07 0-2.86zM5.41 20L4 18.59l7.72-7.72 1.47 1.35L5.41 20z\"/>\n",
              "  </svg>\n",
              "      </button>\n",
              "      \n",
              "  <style>\n",
              "    .colab-df-container {\n",
              "      display:flex;\n",
              "      flex-wrap:wrap;\n",
              "      gap: 12px;\n",
              "    }\n",
              "\n",
              "    .colab-df-convert {\n",
              "      background-color: #E8F0FE;\n",
              "      border: none;\n",
              "      border-radius: 50%;\n",
              "      cursor: pointer;\n",
              "      display: none;\n",
              "      fill: #1967D2;\n",
              "      height: 32px;\n",
              "      padding: 0 0 0 0;\n",
              "      width: 32px;\n",
              "    }\n",
              "\n",
              "    .colab-df-convert:hover {\n",
              "      background-color: #E2EBFA;\n",
              "      box-shadow: 0px 1px 2px rgba(60, 64, 67, 0.3), 0px 1px 3px 1px rgba(60, 64, 67, 0.15);\n",
              "      fill: #174EA6;\n",
              "    }\n",
              "\n",
              "    [theme=dark] .colab-df-convert {\n",
              "      background-color: #3B4455;\n",
              "      fill: #D2E3FC;\n",
              "    }\n",
              "\n",
              "    [theme=dark] .colab-df-convert:hover {\n",
              "      background-color: #434B5C;\n",
              "      box-shadow: 0px 1px 3px 1px rgba(0, 0, 0, 0.15);\n",
              "      filter: drop-shadow(0px 1px 2px rgba(0, 0, 0, 0.3));\n",
              "      fill: #FFFFFF;\n",
              "    }\n",
              "  </style>\n",
              "\n",
              "      <script>\n",
              "        const buttonEl =\n",
              "          document.querySelector('#df-726a4a56-c59f-4a2a-afaa-b7e312a052e4 button.colab-df-convert');\n",
              "        buttonEl.style.display =\n",
              "          google.colab.kernel.accessAllowed ? 'block' : 'none';\n",
              "\n",
              "        async function convertToInteractive(key) {\n",
              "          const element = document.querySelector('#df-726a4a56-c59f-4a2a-afaa-b7e312a052e4');\n",
              "          const dataTable =\n",
              "            await google.colab.kernel.invokeFunction('convertToInteractive',\n",
              "                                                     [key], {});\n",
              "          if (!dataTable) return;\n",
              "\n",
              "          const docLinkHtml = 'Like what you see? Visit the ' +\n",
              "            '<a target=\"_blank\" href=https://colab.research.google.com/notebooks/data_table.ipynb>data table notebook</a>'\n",
              "            + ' to learn more about interactive tables.';\n",
              "          element.innerHTML = '';\n",
              "          dataTable['output_type'] = 'display_data';\n",
              "          await google.colab.output.renderOutput(dataTable, element);\n",
              "          const docLink = document.createElement('div');\n",
              "          docLink.innerHTML = docLinkHtml;\n",
              "          element.appendChild(docLink);\n",
              "        }\n",
              "      </script>\n",
              "    </div>\n",
              "  </div>\n",
              "  "
            ]
          },
          "metadata": {},
          "execution_count": 97
        }
      ],
      "source": [
        "# Replace nan values with average of columns\n",
        "df_1.mean()\n",
        "df_1.fillna(value=df_1['In-hospital_death'].mean(), inplace=True)\n",
        "df_1"
      ]
    },
    {
      "cell_type": "code",
      "execution_count": 98,
      "metadata": {
        "id": "5xSYQAxNrIwh",
        "colab": {
          "base_uri": "https://localhost:8080/"
        },
        "outputId": "d7b1bcd1-dd55-47fe-b1c8-fbc75f63d46a"
      },
      "outputs": [
        {
          "output_type": "stream",
          "name": "stdout",
          "text": [
            "<class 'pandas.core.frame.DataFrame'>\n",
            "Int64Index: 554 entries, 7 to 3998\n",
            "Data columns (total 33 columns):\n",
            " #   Column             Non-Null Count  Dtype  \n",
            "---  ------             --------------  -----  \n",
            " 0   RecordID           554 non-null    int64  \n",
            " 1   In-hospital_death  554 non-null    int64  \n",
            " 2   ICUType            554 non-null    float64\n",
            " 3   Age                554 non-null    float64\n",
            " 4   SOFA               554 non-null    int64  \n",
            " 5   SAPS-I             554 non-null    int64  \n",
            " 6   Weight             554 non-null    float64\n",
            " 7   HR                 554 non-null    float64\n",
            " 8   BUN                554 non-null    float64\n",
            " 9   Creatinine         554 non-null    float64\n",
            " 10  GCS                554 non-null    float64\n",
            " 11  Temp               554 non-null    float64\n",
            " 12  HCT                554 non-null    float64\n",
            " 13  Platelets          554 non-null    float64\n",
            " 14  WBC                554 non-null    float64\n",
            " 15  Na                 554 non-null    float64\n",
            " 16  HCO3               554 non-null    float64\n",
            " 17  k                  554 non-null    float64\n",
            " 18  Mg                 554 non-null    float64\n",
            " 19  Glucose            554 non-null    float64\n",
            " 20  Urine              554 non-null    float64\n",
            " 21  NISysABP           554 non-null    float64\n",
            " 22  NIDiasABP          554 non-null    float64\n",
            " 23  NIMAP              554 non-null    float64\n",
            " 24  pH                 554 non-null    float64\n",
            " 25  PaCO2              554 non-null    float64\n",
            " 26  PaO2               554 non-null    float64\n",
            " 27  DiasABP            554 non-null    float64\n",
            " 28  SysABP             554 non-null    float64\n",
            " 29  MAP                554 non-null    float64\n",
            " 30  FiO2               554 non-null    float64\n",
            " 31  MechVent           554 non-null    float64\n",
            " 32  Lactate            554 non-null    float64\n",
            "dtypes: float64(29), int64(4)\n",
            "memory usage: 147.2 KB\n"
          ]
        }
      ],
      "source": [
        "df_1.info()"
      ]
    },
    {
      "cell_type": "code",
      "execution_count": 99,
      "metadata": {
        "id": "vBfDPJyLyAAw"
      },
      "outputs": [],
      "source": [
        "conc_final_df = pd.concat([df_0, df_1])"
      ]
    },
    {
      "cell_type": "code",
      "execution_count": 100,
      "metadata": {
        "id": "wBlbohrx5wDU"
      },
      "outputs": [],
      "source": [
        "conc_final_df.to_csv(directory + 'f_means_df.csv', index=False)"
      ]
    },
    {
      "cell_type": "code",
      "execution_count": 101,
      "metadata": {
        "id": "WSaPymVY_oPU"
      },
      "outputs": [],
      "source": [
        "conc_final_df.to_csv( 'f_means_df.csv', index=False)"
      ]
    },
    {
      "cell_type": "code",
      "execution_count": 102,
      "metadata": {
        "id": "z8vFhG0a56fy"
      },
      "outputs": [],
      "source": [
        "conc_final_df = pd.read_csv(directory + 'f_means_df.csv')"
      ]
    },
    {
      "cell_type": "code",
      "source": [
        "conc_final_df.info()"
      ],
      "metadata": {
        "id": "6cnjlOQCqFTl",
        "colab": {
          "base_uri": "https://localhost:8080/"
        },
        "outputId": "43daffcc-6924-4e32-cf25-5a3533cceae9"
      },
      "execution_count": 103,
      "outputs": [
        {
          "output_type": "stream",
          "name": "stdout",
          "text": [
            "<class 'pandas.core.frame.DataFrame'>\n",
            "RangeIndex: 4000 entries, 0 to 3999\n",
            "Data columns (total 33 columns):\n",
            " #   Column             Non-Null Count  Dtype  \n",
            "---  ------             --------------  -----  \n",
            " 0   RecordID           4000 non-null   int64  \n",
            " 1   In-hospital_death  4000 non-null   int64  \n",
            " 2   ICUType            4000 non-null   float64\n",
            " 3   Age                4000 non-null   float64\n",
            " 4   SOFA               4000 non-null   int64  \n",
            " 5   SAPS-I             4000 non-null   int64  \n",
            " 6   Weight             4000 non-null   float64\n",
            " 7   HR                 4000 non-null   float64\n",
            " 8   BUN                4000 non-null   float64\n",
            " 9   Creatinine         4000 non-null   float64\n",
            " 10  GCS                4000 non-null   float64\n",
            " 11  Temp               4000 non-null   float64\n",
            " 12  HCT                4000 non-null   float64\n",
            " 13  Platelets          4000 non-null   float64\n",
            " 14  WBC                4000 non-null   float64\n",
            " 15  Na                 4000 non-null   float64\n",
            " 16  HCO3               4000 non-null   float64\n",
            " 17  k                  4000 non-null   float64\n",
            " 18  Mg                 4000 non-null   float64\n",
            " 19  Glucose            4000 non-null   float64\n",
            " 20  Urine              4000 non-null   float64\n",
            " 21  NISysABP           4000 non-null   float64\n",
            " 22  NIDiasABP          4000 non-null   float64\n",
            " 23  NIMAP              4000 non-null   float64\n",
            " 24  pH                 4000 non-null   float64\n",
            " 25  PaCO2              4000 non-null   float64\n",
            " 26  PaO2               4000 non-null   float64\n",
            " 27  DiasABP            4000 non-null   float64\n",
            " 28  SysABP             4000 non-null   float64\n",
            " 29  MAP                4000 non-null   float64\n",
            " 30  FiO2               4000 non-null   float64\n",
            " 31  MechVent           4000 non-null   float64\n",
            " 32  Lactate            4000 non-null   float64\n",
            "dtypes: float64(29), int64(4)\n",
            "memory usage: 1.0 MB\n"
          ]
        }
      ]
    },
    {
      "cell_type": "code",
      "execution_count": 104,
      "metadata": {
        "id": "nj2FMVpOyFv3",
        "colab": {
          "base_uri": "https://localhost:8080/"
        },
        "outputId": "b44704a4-2118-4160-8c21-38ebbb8ce7eb"
      },
      "outputs": [
        {
          "output_type": "execute_result",
          "data": {
            "text/plain": [
              "RecordID             0\n",
              "In-hospital_death    0\n",
              "ICUType              0\n",
              "Age                  0\n",
              "SOFA                 0\n",
              "SAPS-I               0\n",
              "Weight               0\n",
              "HR                   0\n",
              "BUN                  0\n",
              "Creatinine           0\n",
              "GCS                  0\n",
              "Temp                 0\n",
              "HCT                  0\n",
              "Platelets            0\n",
              "WBC                  0\n",
              "Na                   0\n",
              "HCO3                 0\n",
              "k                    0\n",
              "Mg                   0\n",
              "Glucose              0\n",
              "Urine                0\n",
              "NISysABP             0\n",
              "NIDiasABP            0\n",
              "NIMAP                0\n",
              "pH                   0\n",
              "PaCO2                0\n",
              "PaO2                 0\n",
              "DiasABP              0\n",
              "SysABP               0\n",
              "MAP                  0\n",
              "FiO2                 0\n",
              "MechVent             0\n",
              "Lactate              0\n",
              "dtype: int64"
            ]
          },
          "metadata": {},
          "execution_count": 104
        }
      ],
      "source": [
        "conc_final_df.isnull().sum()"
      ]
    },
    {
      "cell_type": "code",
      "execution_count": 105,
      "metadata": {
        "id": "XL1PTtZ9H7fJ",
        "colab": {
          "base_uri": "https://localhost:8080/"
        },
        "outputId": "35e03f6f-6761-473d-9510-1b8ded7843de"
      },
      "outputs": [
        {
          "output_type": "execute_result",
          "data": {
            "text/plain": [
              "RecordID            -0.011532\n",
              "In-hospital_death    1.000000\n",
              "ICUType              0.059896\n",
              "Age                  0.130700\n",
              "SOFA                 0.177288\n",
              "SAPS-I               0.156008\n",
              "Weight              -0.010130\n",
              "HR                   0.071650\n",
              "BUN                  0.224256\n",
              "Creatinine           0.120990\n",
              "GCS                 -0.221835\n",
              "Temp                 0.013488\n",
              "HCT                  0.011201\n",
              "Platelets           -0.012724\n",
              "WBC                  0.099898\n",
              "Na                   0.027750\n",
              "HCO3                -0.084656\n",
              "k                    0.042925\n",
              "Mg                   0.077304\n",
              "Glucose              0.109570\n",
              "Urine               -0.119227\n",
              "NISysABP            -0.013219\n",
              "NIDiasABP           -0.029467\n",
              "NIMAP               -0.021005\n",
              "pH                   0.093450\n",
              "PaCO2                0.060434\n",
              "PaO2                 0.021449\n",
              "DiasABP              0.018076\n",
              "SysABP               0.019675\n",
              "MAP                  0.024285\n",
              "FiO2                 0.346808\n",
              "MechVent             0.280123\n",
              "Lactate              0.272493\n",
              "Name: In-hospital_death, dtype: float64"
            ]
          },
          "metadata": {},
          "execution_count": 105
        }
      ],
      "source": [
        "conc_final_df.corr()['In-hospital_death']"
      ]
    },
    {
      "cell_type": "code",
      "execution_count": 106,
      "metadata": {
        "id": "CwmKASQLwTof",
        "colab": {
          "base_uri": "https://localhost:8080/"
        },
        "outputId": "59d5c0f2-d15d-4145-8789-c2fcd0edb1e4"
      },
      "outputs": [
        {
          "output_type": "execute_result",
          "data": {
            "text/plain": [
              "RecordID             0.016971\n",
              "In-hospital_death    0.059896\n",
              "ICUType              1.000000\n",
              "Age                 -0.187445\n",
              "SOFA                -0.076382\n",
              "SAPS-I              -0.049963\n",
              "Weight              -0.044841\n",
              "HR                   0.062254\n",
              "BUN                 -0.072230\n",
              "Creatinine          -0.052684\n",
              "GCS                 -0.108463\n",
              "Temp                 0.012054\n",
              "HCT                 -0.026812\n",
              "Platelets            0.017400\n",
              "WBC                 -0.014523\n",
              "Na                   0.002998\n",
              "HCO3                -0.027032\n",
              "k                   -0.109030\n",
              "Mg                  -0.121072\n",
              "Glucose              0.003270\n",
              "Urine               -0.013130\n",
              "NISysABP             0.169879\n",
              "NIDiasABP            0.149650\n",
              "NIMAP                0.158350\n",
              "pH                  -0.016307\n",
              "PaCO2               -0.005528\n",
              "PaO2                -0.085170\n",
              "DiasABP             -0.003356\n",
              "SysABP               0.015843\n",
              "MAP                  0.004222\n",
              "FiO2                -0.012944\n",
              "MechVent             0.005907\n",
              "Lactate              0.074396\n",
              "Name: ICUType, dtype: float64"
            ]
          },
          "metadata": {},
          "execution_count": 106
        }
      ],
      "source": [
        "conc_final_df.corr()['ICUType']"
      ]
    },
    {
      "cell_type": "code",
      "execution_count": 107,
      "metadata": {
        "id": "ciL3-aUbyR7c",
        "colab": {
          "base_uri": "https://localhost:8080/"
        },
        "outputId": "14081e8a-4d13-431c-e9e0-fba2bc9b08f2"
      },
      "outputs": [
        {
          "output_type": "execute_result",
          "data": {
            "text/plain": [
              "Index(['RecordID', 'In-hospital_death', 'ICUType', 'Age', 'SOFA', 'SAPS-I',\n",
              "       'Weight', 'HR', 'BUN', 'Creatinine', 'GCS', 'Temp', 'HCT', 'Platelets',\n",
              "       'WBC', 'Na', 'HCO3', 'k', 'Mg', 'Glucose', 'Urine', 'NISysABP',\n",
              "       'NIDiasABP', 'NIMAP', 'pH', 'PaCO2', 'PaO2', 'DiasABP', 'SysABP', 'MAP',\n",
              "       'FiO2', 'MechVent', 'Lactate'],\n",
              "      dtype='object')"
            ]
          },
          "metadata": {},
          "execution_count": 107
        }
      ],
      "source": [
        "conc_final_df.columns"
      ]
    },
    {
      "cell_type": "code",
      "execution_count": 108,
      "metadata": {
        "id": "rOiLjUVfyMd_"
      },
      "outputs": [],
      "source": [
        "Features =  ['In-hospital_death', 'ICUType', 'mean_Weight', 'mean_HR',\n",
        "       'mean_BUN', 'mean_Creatinine', 'mean_GCS', 'mean_Temp', 'mean_HCT',\n",
        "       'mean_Platelets', 'mean_WBC', 'mean_Na', 'mean_HCO3', 'mean_k',\n",
        "       'mean_Mg', 'mean_Glucose', 'mean_Urine', 'mean_NISysABP',\n",
        "       'mean_NIDiasABP', 'mean_NIMAP', 'mean_pH', 'mean_PaCO2', 'mean_PaO2',\n",
        "       'mean_DiasABP', 'mean_SysABP', 'mean_MAP', 'mean_FiO2', 'mean_MechVent',\n",
        "       'mean_Lactate']\n",
        "Labels =   ['In-hospital_death']"
      ]
    },
    {
      "cell_type": "code",
      "source": [
        "conc_final_df.groupby('ICUType')['In-hospital_death'].mean().nlargest(20).plot.bar()"
      ],
      "metadata": {
        "id": "Glc1_A05Sv4L",
        "colab": {
          "base_uri": "https://localhost:8080/",
          "height": 302
        },
        "outputId": "de9b2c40-aab9-4ce7-b3ec-5910393b3a6f"
      },
      "execution_count": 109,
      "outputs": [
        {
          "output_type": "execute_result",
          "data": {
            "text/plain": [
              "<matplotlib.axes._subplots.AxesSubplot at 0x7f6eca3de150>"
            ]
          },
          "metadata": {},
          "execution_count": 109
        },
        {
          "output_type": "display_data",
          "data": {
            "text/plain": [
              "<Figure size 432x288 with 1 Axes>"
            ],
            "image/png": "[encoded data removed]"
          },
          "metadata": {
            "needs_background": "light"
          }
        }
      ]
    },
    {
      "cell_type": "code",
      "execution_count": 110,
      "metadata": {
        "id": "gJ7sZhvlK24S",
        "colab": {
          "base_uri": "https://localhost:8080/"
        },
        "outputId": "85d21cb0-c730-4254-8715-b14a49f20524"
      },
      "outputs": [
        {
          "output_type": "execute_result",
          "data": {
            "text/plain": [
              "ICUType    1.0\n",
              "Name: ICUType, dtype: float64"
            ]
          },
          "metadata": {},
          "execution_count": 110
        }
      ],
      "source": [
        "cor = conc_final_df.corr()\n",
        "#Correlation with output variable\n",
        "cor_target = abs(cor[\"ICUType\"])\n",
        "#Selecting highly correlated features\n",
        "relevant_features = cor_target[cor_target>0.2]\n",
        "relevant_features"
      ]
    }
  ],
  "metadata": {
    "colab": {
      "collapsed_sections": [
        "2_5C4zdbWl8u",
        "tb41uZ4LXO6n",
        "D7df2nu8WeWX",
        "qK1h8hsYVT9_",
        "I9UnuvSWWTFn",
        "sT2-sVI1pL_1",
        "-X8yZZu9jmmq"
      ],
      "name": "Aya_DataProcessing_Final.ipynb",
      "provenance": []
    },
    "kernelspec": {
      "display_name": "Python 3",
      "name": "python3"
    },
    "language_info": {
      "name": "python"
    }
  },
  "nbformat": 4,
  "nbformat_minor": 0
}